{
 "cells": [
  {
   "cell_type": "code",
   "execution_count": 1,
   "metadata": {},
   "outputs": [],
   "source": [
    "from network import Network"
   ]
  },
  {
   "cell_type": "code",
   "execution_count": 2,
   "metadata": {},
   "outputs": [
    {
     "name": "stdout",
     "output_type": "stream",
     "text": [
      "Loading network from networks/test.dat\n",
      "Network label = test\n"
     ]
    },
    {
     "name": "stderr",
     "output_type": "stream",
     "text": [
      "100%|██████████| 18/18 [00:00<00:00, 380.00it/s]"
     ]
    },
    {
     "name": "stdout",
     "output_type": "stream",
     "text": [
      "PRIZMO variable detected: invt = 1d0 / Tgas\n",
      "PRIZMO variable detected: t32 = Tgas / 3d2\n",
      "KROME format detected: @format:R,R,P,P,rate\n",
      "Variables found: ['av', 'crate', 'tgas']\n",
      "Loaded 13 reactions\n",
      "Sink:  N2+\n",
      "Sink:  H2\n",
      "WARNING: sink detected\n",
      "WARNING: electron recombination not found for N2+\n",
      "generating ode...\n",
      "All done!\n"
     ]
    },
    {
     "name": "stderr",
     "output_type": "stream",
     "text": [
      "\n"
     ]
    }
   ],
   "source": [
    "net = Network(\"networks/test.dat\")"
   ]
  },
  {
   "cell_type": "code",
   "execution_count": 3,
   "metadata": {},
   "outputs": [
    {
     "name": "stdout",
     "output_type": "stream",
     "text": [
      "['H+', 'e-', 'H', 'C', 'C+', 'CO+', 'CO', 'O', 'N2', 'N', 'N2+', 'H2']\n",
      "['{\\\\rm H^{+}}', '{\\\\rm e^{-}}', '{\\\\rm H}', '{\\\\rm C}', '{\\\\rm C^{+}}', '{\\\\rm CO^{+}}', '{\\\\rm CO}', '{\\\\rm O}', '{\\\\rm N_{2}}', '{\\\\rm N}', '{\\\\rm N_{2}^{+}}', '{\\\\rm H_{2}}']\n",
      "[1.673773e-24, 9.109383e-28, 1.673773e-24, 1.994473e-23, 1.994473e-23, 4.6512359999999996e-23, 4.6512359999999996e-23, 2.656763e-23, 4.651734e-23, 2.325867e-23, 4.651734e-23, 3.347546e-24]\n",
      "[1, -1, 0, 0, 1, 1, 0, 0, 0, 0, 1, 0]\n",
      "['H+ + e- -> H', 'H -> H+ + e-', 'C -> C+ + e-', 'C+ + e- -> C', 'CO+ + e- -> CO', 'C + O -> CO', 'CO -> C + O', 'CO -> CO+ + e-', 'N2 -> N + N', 'N + N -> N2', 'CO + N2+ -> N2 + CO+', 'H2 + e- -> H + H + e-', 'CO + N2+ -> N2 + CO+']\n",
      "['${\\\\rm H^{+}} + {\\\\rm e^{-}}\\\\,\\\\to\\\\,{\\\\rm H}$', '${\\\\rm H}\\\\,\\\\to\\\\,{\\\\rm H^{+}} + {\\\\rm e^{-}}$', '${\\\\rm C}\\\\,\\\\to\\\\,{\\\\rm C^{+}} + {\\\\rm e^{-}}$', '${\\\\rm C^{+}} + {\\\\rm e^{-}}\\\\,\\\\to\\\\,{\\\\rm C}$', '${\\\\rm CO^{+}} + {\\\\rm e^{-}}\\\\,\\\\to\\\\,{\\\\rm CO}$', '${\\\\rm C} + {\\\\rm O}\\\\,\\\\to\\\\,{\\\\rm CO}$', '${\\\\rm CO}\\\\,\\\\to\\\\,{\\\\rm C} + {\\\\rm O}$', '${\\\\rm CO}\\\\,\\\\to\\\\,{\\\\rm CO^{+}} + {\\\\rm e^{-}}$', '${\\\\rm N_{2}}\\\\,\\\\to\\\\,{\\\\rm N} + {\\\\rm N}$', '${\\\\rm N} + {\\\\rm N}\\\\,\\\\to\\\\,{\\\\rm N_{2}}$', '${\\\\rm CO} + {\\\\rm N_{2}^{+}}\\\\,\\\\to\\\\,{\\\\rm N_{2}} + {\\\\rm CO^{+}}$', '${\\\\rm H_{2}} + {\\\\rm e^{-}}\\\\,\\\\to\\\\,{\\\\rm H} + {\\\\rm H} + {\\\\rm e^{-}}$', '${\\\\rm CO} + {\\\\rm N_{2}^{+}}\\\\,\\\\to\\\\,{\\\\rm N_{2}} + {\\\\rm CO^{+}}$']\n",
      "H+ + e- -> H\n",
      "+/H_e-__H\n",
      "2.6022447615079392e-10*pow(tgas, -0.75)\n",
      "      2.60224476150794d-10*tgas**(-0.75d0)\n",
      "True\n",
      "False\n"
     ]
    },
    {
     "data": {
      "text/latex": [
       "$\\displaystyle \\frac{2.60224476150794 \\cdot 10^{-10}}{tgas^{0.75}}$"
      ],
      "text/plain": [
       "2.60224476150794e-10/tgas**0.75"
      ]
     },
     "execution_count": 3,
     "metadata": {},
     "output_type": "execute_result"
    }
   ],
   "source": [
    "# list some stuff\n",
    "print([x.name for x in net.species])  # variable names\n",
    "print([x.latex for x in net.species])  # latex names\n",
    "print([x.mass for x in net.species])  # masses, g\n",
    "print([x.charge for x in net.species]) # charges, e\n",
    "\n",
    "print([x.get_verbatim() for x in net.reactions])  # reactionw names\n",
    "print([x.get_latex() for x in net.reactions])  # latex names\n",
    "\n",
    "print(net.reactions[0].get_verbatim())  # verbatim name of first reaction\n",
    "print(net.reactions[0].serialized)\n",
    "\n",
    "print(net.reactions[0].get_c())  # rate in C format of first reaction\n",
    "print(net.reactions[0].get_f90())  # rate in Fortran 90 format of first reaction\n",
    "\n",
    "print(net.reactions[0].is_same(net.reactions[0]))  # check if the first reaction is the same as itself\n",
    "print(net.reactions[0].is_same(net.reactions[1]))  # check if the first reaction is the same as the second\n",
    "\n",
    "net.reactions[0].rate  # rate of first reaction in symbolic form\n",
    "\n"
   ]
  },
  {
   "cell_type": "code",
   "execution_count": 4,
   "metadata": {},
   "outputs": [
    {
     "name": "stdout",
     "output_type": "stream",
     "text": [
      "Loading network from networks/test2.dat\n",
      "Network label = very small network\n"
     ]
    },
    {
     "name": "stderr",
     "output_type": "stream",
     "text": [
      "100%|██████████| 1/1 [00:00<00:00, 500.16it/s]"
     ]
    },
    {
     "name": "stdout",
     "output_type": "stream",
     "text": [
      "Variables found: ['tgas']\n",
      "Loaded 1 reactions\n",
      "Sink:  e-\n",
      "Sink:  CO+\n",
      "Source:  CO\n",
      "WARNING: sink detected\n",
      "WARNING: source detected\n",
      "generating ode...\n",
      "All done!\n"
     ]
    },
    {
     "name": "stderr",
     "output_type": "stream",
     "text": [
      "\n"
     ]
    }
   ],
   "source": [
    "net2 = Network(\"networks/test2.dat\", label=\"very small network\")"
   ]
  },
  {
   "cell_type": "code",
   "execution_count": 5,
   "metadata": {},
   "outputs": [
    {
     "name": "stdout",
     "output_type": "stream",
     "text": [
      "Comparing networks \"test\" and \"very small network\"...\n",
      "Found in \"test\" but not in \"very small network\": C+ + e- -> C\n",
      "Found in \"test\" but not in \"very small network\": H+ + e- -> H\n",
      "Found in \"test\" but not in \"very small network\": CO + N2+ -> N2 + CO+\n",
      "Found in \"test\" but not in \"very small network\": CO -> CO+ + e-\n",
      "Found in \"test\" but not in \"very small network\": CO -> C + O\n",
      "Found in \"test\" but not in \"very small network\": C + O -> CO\n",
      "Found in \"test\" but not in \"very small network\": C -> C+ + e-\n",
      "Found in \"test\" but not in \"very small network\": H2 + e- -> H + H + e-\n",
      "Found in \"test\" but not in \"very small network\": H -> H+ + e-\n",
      "Found in \"test\" but not in \"very small network\": N2 -> N + N\n",
      "Found in \"test\" but not in \"very small network\": N + N -> N2\n",
      "Found 1 reactions in common\n",
      "0 reactions missing in \"test\"\n",
      "11 reactions missing in \"very small network\"\n"
     ]
    }
   ],
   "source": [
    "net.compare_reactions(net2)  # compare two networks"
   ]
  },
  {
   "cell_type": "code",
   "execution_count": 6,
   "metadata": {},
   "outputs": [
    {
     "name": "stdout",
     "output_type": "stream",
     "text": [
      "Comparing species in networks \"test\" and \"very small network\"...\n",
      "Found 3 species in common: ['CO', 'CO+', 'e-']\n",
      "Found 9 species in \"test\" but not in \"very small network\": ['C', 'C+', 'H', 'H+', 'H2', 'N', 'N2', 'N2+', 'O']\n",
      "Found 0 species in \"very small network\" but not in \"test\": []\n"
     ]
    }
   ],
   "source": [
    "net.compare_species(net2)  # compare species in two networks"
   ]
  },
  {
   "cell_type": "code",
   "execution_count": null,
   "metadata": {},
   "outputs": [
    {
     "name": "stdout",
     "output_type": "stream",
     "text": [
      "Loading network from networks/gas_reactions_kida.uva.2024.in\n",
      "Network label = gas_reactions_kida\n"
     ]
    },
    {
     "name": "stderr",
     "output_type": "stream",
     "text": [
      "  0%|          | 0/8275 [00:00<?, ?it/s]"
     ]
    },
    {
     "name": "stderr",
     "output_type": "stream",
     "text": [
      "  2%|▏         | 186/8275 [00:00<00:08, 939.17it/s]"
     ]
    }
   ],
   "source": [
    "net = Network(\"networks/gas_reactions_kida.uva.2024.in\")"
   ]
  },
  {
   "cell_type": "code",
   "execution_count": null,
   "metadata": {},
   "outputs": [
    {
     "name": "stdout",
     "output_type": "stream",
     "text": [
      "1.79e-9*(0.4767*1.11*sqrt(300.0/tgas) + 0.62)\n"
     ]
    },
    {
     "data": {
      "image/png": "[encoded data removed]",
      "text/plain": [
       "<Figure size 640x480 with 1 Axes>"
      ]
     },
     "metadata": {},
     "output_type": "display_data"
    }
   ],
   "source": [
    "print(net.reactions[1122].rate)  # verbatim name of first reaction in COthin network\n",
    "net.reactions[1122].plot()"
   ]
  },
  {
   "cell_type": "code",
   "execution_count": null,
   "metadata": {},
   "outputs": [],
   "source": []
  }
 ],
 "metadata": {
  "kernelspec": {
   "display_name": "Python 3",
   "language": "python",
   "name": "python3"
  },
  "language_info": {
   "codemirror_mode": {
    "name": "ipython",
    "version": 3
   },
   "file_extension": ".py",
   "mimetype": "text/x-python",
   "name": "python",
   "nbconvert_exporter": "python",
   "pygments_lexer": "ipython3",
   "version": "3.10.12"
  }
 },
 "nbformat": 4,
 "nbformat_minor": 2
}
