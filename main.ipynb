{
 "cells": [
  {
   "cell_type": "code",
   "execution_count": 8,
   "metadata": {},
   "outputs": [],
   "source": [
    "from network import Network"
   ]
  },
  {
   "cell_type": "code",
   "execution_count": 9,
   "metadata": {},
   "outputs": [
    {
     "name": "stdout",
     "output_type": "stream",
     "text": [
      "Loading network from networks/test.dat\n",
      "Network label = test\n"
     ]
    },
    {
     "name": "stderr",
     "output_type": "stream",
     "text": [
      "100%|██████████| 18/18 [00:00<00:00, 1010.34it/s]"
     ]
    },
    {
     "name": "stdout",
     "output_type": "stream",
     "text": [
      "PRIZMO variable detected: invt = 1d0 / Tgas\n",
      "PRIZMO variable detected: t32 = Tgas / 3d2\n",
      "KROME format detected: @format:R,R,P,P,rate\n",
      "Variables found: ['av', 'crate', 'tgas']\n",
      "Loaded 13 reactions\n",
      "Sink:  N2+\n",
      "Sink:  H2\n",
      "WARNING: sink detected\n",
      "WARNING: electron recombination not found for N2+\n",
      "generating ode...\n",
      "All done!\n"
     ]
    },
    {
     "name": "stderr",
     "output_type": "stream",
     "text": [
      "\n"
     ]
    }
   ],
   "source": [
    "net = Network(\"networks/test.dat\")"
   ]
  },
  {
   "cell_type": "code",
   "execution_count": 10,
   "metadata": {},
   "outputs": [
    {
     "name": "stdout",
     "output_type": "stream",
     "text": [
      "['H+', 'e-', 'H', 'C', 'C+', 'CO+', 'CO', 'O', 'N2', 'N', 'N2+', 'H2']\n",
      "['{\\\\rm H^{+}}', '{\\\\rm e^{-}}', '{\\\\rm H}', '{\\\\rm C}', '{\\\\rm C^{+}}', '{\\\\rm CO^{+}}', '{\\\\rm CO}', '{\\\\rm O}', '{\\\\rm N_{2}}', '{\\\\rm N}', '{\\\\rm N_{2}^{+}}', '{\\\\rm H_{2}}']\n",
      "[1.673773e-24, 9.109383e-28, 1.673773e-24, 1.994473e-23, 1.994473e-23, 4.6512359999999996e-23, 4.6512359999999996e-23, 2.656763e-23, 4.651734e-23, 2.325867e-23, 4.651734e-23, 3.347546e-24]\n",
      "[1, -1, 0, 0, 1, 1, 0, 0, 0, 0, 1, 0]\n",
      "['H+ + e- -> H', 'H -> H+ + e-', 'C -> C+ + e-', 'C+ + e- -> C', 'CO+ + e- -> CO', 'C + O -> CO', 'CO -> C + O', 'CO -> CO+ + e-', 'N2 -> N + N', 'N + N -> N2', 'CO + N2+ -> N2 + CO+', 'H2 + e- -> H + H + e-', 'CO + N2+ -> N2 + CO+']\n",
      "['${\\\\rm H^{+}} + {\\\\rm e^{-}}\\\\,\\\\to\\\\,{\\\\rm H}$', '${\\\\rm H}\\\\,\\\\to\\\\,{\\\\rm H^{+}} + {\\\\rm e^{-}}$', '${\\\\rm C}\\\\,\\\\to\\\\,{\\\\rm C^{+}} + {\\\\rm e^{-}}$', '${\\\\rm C^{+}} + {\\\\rm e^{-}}\\\\,\\\\to\\\\,{\\\\rm C}$', '${\\\\rm CO^{+}} + {\\\\rm e^{-}}\\\\,\\\\to\\\\,{\\\\rm CO}$', '${\\\\rm C} + {\\\\rm O}\\\\,\\\\to\\\\,{\\\\rm CO}$', '${\\\\rm CO}\\\\,\\\\to\\\\,{\\\\rm C} + {\\\\rm O}$', '${\\\\rm CO}\\\\,\\\\to\\\\,{\\\\rm CO^{+}} + {\\\\rm e^{-}}$', '${\\\\rm N_{2}}\\\\,\\\\to\\\\,{\\\\rm N} + {\\\\rm N}$', '${\\\\rm N} + {\\\\rm N}\\\\,\\\\to\\\\,{\\\\rm N_{2}}$', '${\\\\rm CO} + {\\\\rm N_{2}^{+}}\\\\,\\\\to\\\\,{\\\\rm N_{2}} + {\\\\rm CO^{+}}$', '${\\\\rm H_{2}} + {\\\\rm e^{-}}\\\\,\\\\to\\\\,{\\\\rm H} + {\\\\rm H} + {\\\\rm e^{-}}$', '${\\\\rm CO} + {\\\\rm N_{2}^{+}}\\\\,\\\\to\\\\,{\\\\rm N_{2}} + {\\\\rm CO^{+}}$']\n",
      "H+ + e- -> H\n",
      "+/H_e-__H\n",
      "2.6022447615079392e-10*pow(tgas, -0.75)\n",
      "      2.60224476150794d-10*tgas**(-0.75d0)\n",
      "True\n",
      "False\n"
     ]
    },
    {
     "data": {
      "text/latex": [
       "$\\displaystyle \\frac{2.60224476150794 \\cdot 10^{-10}}{tgas^{0.75}}$"
      ],
      "text/plain": [
       "2.60224476150794e-10/tgas**0.75"
      ]
     },
     "execution_count": 10,
     "metadata": {},
     "output_type": "execute_result"
    }
   ],
   "source": [
    "# list some stuff\n",
    "print([x.name for x in net.species])  # variable names\n",
    "print([x.latex for x in net.species])  # latex names\n",
    "print([x.mass for x in net.species])  # masses, g\n",
    "print([x.charge for x in net.species]) # charges, e\n",
    "\n",
    "print([x.get_verbatim() for x in net.reactions])  # reactionw names\n",
    "print([x.get_latex() for x in net.reactions])  # latex names\n",
    "\n",
    "print(net.reactions[0].get_verbatim())  # verbatim name of first reaction\n",
    "print(net.reactions[0].serialized)\n",
    "\n",
    "print(net.reactions[0].get_c())  # rate in C format of first reaction\n",
    "print(net.reactions[0].get_f90())  # rate in Fortran 90 format of first reaction\n",
    "\n",
    "print(net.reactions[0].is_same(net.reactions[0]))  # check if the first reaction is the same as itself\n",
    "print(net.reactions[0].is_same(net.reactions[1]))  # check if the first reaction is the same as the second\n",
    "\n",
    "net.reactions[0].rate  # rate of first reaction in symbolic form\n",
    "\n"
   ]
  },
  {
   "cell_type": "code",
   "execution_count": 11,
   "metadata": {},
   "outputs": [
    {
     "name": "stdout",
     "output_type": "stream",
     "text": [
      "Loading network from networks/test2.dat\n",
      "Network label = very small network\n"
     ]
    },
    {
     "name": "stderr",
     "output_type": "stream",
     "text": [
      "100%|██████████| 1/1 [00:00<00:00, 552.25it/s]"
     ]
    },
    {
     "name": "stdout",
     "output_type": "stream",
     "text": [
      "Variables found: ['tgas']\n",
      "Loaded 1 reactions\n",
      "Sink:  e-\n",
      "Sink:  CO+\n",
      "Source:  CO\n",
      "WARNING: sink detected\n",
      "WARNING: source detected\n",
      "generating ode...\n",
      "All done!\n"
     ]
    },
    {
     "name": "stderr",
     "output_type": "stream",
     "text": [
      "\n"
     ]
    }
   ],
   "source": [
    "net2 = Network(\"networks/test2.dat\", label=\"very small network\")"
   ]
  },
  {
   "cell_type": "code",
   "execution_count": 12,
   "metadata": {},
   "outputs": [
    {
     "name": "stdout",
     "output_type": "stream",
     "text": [
      "Comparing networks \"test\" and \"very small network\"...\n",
      "Found in \"test\" but not in \"very small network\": C+ + e- -> C\n",
      "Found in \"test\" but not in \"very small network\": H+ + e- -> H\n",
      "Found in \"test\" but not in \"very small network\": CO + N2+ -> N2 + CO+\n",
      "Found in \"test\" but not in \"very small network\": CO -> CO+ + e-\n",
      "Found in \"test\" but not in \"very small network\": CO -> C + O\n",
      "Found in \"test\" but not in \"very small network\": C + O -> CO\n",
      "Found in \"test\" but not in \"very small network\": C -> C+ + e-\n",
      "Found in \"test\" but not in \"very small network\": H2 + e- -> H + H + e-\n",
      "Found in \"test\" but not in \"very small network\": H -> H+ + e-\n",
      "Found in \"test\" but not in \"very small network\": N2 -> N + N\n",
      "Found in \"test\" but not in \"very small network\": N + N -> N2\n",
      "Found 1 reactions in common\n",
      "0 reactions missing in \"test\"\n",
      "11 reactions missing in \"very small network\"\n"
     ]
    }
   ],
   "source": [
    "net.compare_reactions(net2)  # compare two networks"
   ]
  },
  {
   "cell_type": "code",
   "execution_count": 13,
   "metadata": {},
   "outputs": [
    {
     "name": "stdout",
     "output_type": "stream",
     "text": [
      "Comparing species in networks \"test\" and \"very small network\"...\n",
      "Found 3 species in common: ['CO', 'CO+', 'e-']\n",
      "Found 9 species in \"test\" but not in \"very small network\": ['C', 'C+', 'H', 'H+', 'H2', 'N', 'N2', 'N2+', 'O']\n",
      "Found 0 species in \"very small network\" but not in \"test\": []\n"
     ]
    }
   ],
   "source": [
    "net.compare_species(net2)  # compare species in two networks"
   ]
  },
  {
   "cell_type": "code",
   "execution_count": 14,
   "metadata": {},
   "outputs": [
    {
     "name": "stdout",
     "output_type": "stream",
     "text": [
      "Loading network from networks/gas_reactions_kida.uva.2024.in\n",
      "Network label = gas_reactions_kida\n"
     ]
    },
    {
     "name": "stderr",
     "output_type": "stream",
     "text": [
      " 99%|█████████▊| 8156/8275 [00:09<00:00, 1057.89it/s]"
     ]
    },
    {
     "name": "stdout",
     "output_type": "stream",
     "text": [
      "WARNING: KIDA formula 0 not implemented, rate coefficient set to 0e0\n",
      "WARNING: KIDA formula 0 not implemented, rate coefficient set to 0e0\n",
      "WARNING: KIDA formula 0 not implemented, rate coefficient set to 0e0\n",
      "WARNING: KIDA formula 0 not implemented, rate coefficient set to 0e0\n",
      "WARNING: KIDA formula 0 not implemented, rate coefficient set to 0e0\n",
      "WARNING: KIDA formula 0 not implemented, rate coefficient set to 0e0\n",
      "WARNING: KIDA formula 0 not implemented, rate coefficient set to 0e0\n",
      "WARNING: KIDA formula 0 not implemented, rate coefficient set to 0e0\n",
      "WARNING: KIDA formula 0 not implemented, rate coefficient set to 0e0\n",
      "WARNING: KIDA formula 0 not implemented, rate coefficient set to 0e0\n",
      "WARNING: KIDA formula 0 not implemented, rate coefficient set to 0e0\n",
      "WARNING: KIDA formula 0 not implemented, rate coefficient set to 0e0\n",
      "WARNING: KIDA formula 0 not implemented, rate coefficient set to 0e0\n",
      "WARNING: KIDA formula 10 not implemented, rate coefficient set to 0e0\n",
      "WARNING: KIDA formula 11 not implemented, rate coefficient set to 0e0\n"
     ]
    },
    {
     "name": "stderr",
     "output_type": "stream",
     "text": [
      "100%|██████████| 8275/8275 [00:09<00:00, 829.85it/s] \n"
     ]
    },
    {
     "name": "stdout",
     "output_type": "stream",
     "text": [
      "WARNING: KIDA formula 0 not implemented, rate coefficient set to 0e0\n",
      "WARNING: KIDA formula 0 not implemented, rate coefficient set to 0e0\n",
      "Variables found: ['av', 'crate', 'tgas']\n",
      "Loaded 8275 reactions\n",
      "Sink:  O3\n",
      "Sink:  H2S3\n",
      "Sink:  NH2CH2OH\n",
      "Sink:  FeH\n",
      "Sink:  MgH2\n",
      "Sink:  C5H3\n",
      "Sink:  C6H3\n",
      "Sink:  C7H3\n",
      "Sink:  C8H3\n",
      "Sink:  C9H3\n",
      "Sink:  C5H4\n",
      "Sink:  C7H4\n",
      "Sink:  C8H4\n",
      "Sink:  C9H4\n",
      "Sink:  HSO\n",
      "Sink:  NHCHO\n",
      "Sink:  HOCHN\n",
      "Sink:  NH2CO\n",
      "Sink:  HCOCO\n",
      "Sink:  HCOCHO\n",
      "Sink:  HOCO\n",
      "WARNING: sink detected\n",
      "WARNING: electron recombination not found for F+\n",
      "WARNING: isomer detected: CH3COCH3 C2H5CHO\n",
      "WARNING: isomer detected: CH3C6H C7H4\n",
      "WARNING: isomer detected: CH3CCH CH2CCH2\n",
      "WARNING: isomer detected: HCN HNC\n",
      "WARNING: isomer detected: HCN+ HNC+\n",
      "WARNING: isomer detected: HCO+ HOC+\n",
      "WARNING: isomer detected: HCS+ CSH+\n",
      "WARNING: isomer detected: OCN CNO\n",
      "WARNING: isomer detected: HC3N HCNCC\n",
      "WARNING: isomer detected: HC3N HCCNC\n",
      "WARNING: isomer detected: HC3N HNCCC\n",
      "WARNING: isomer detected: CH3CH2OH CH3OCH3\n",
      "WARNING: isomer detected: C2H5OH+ CH3OCH3+\n",
      "WARNING: isomer detected: CH3C4H C5H4\n",
      "WARNING: isomer detected: HCNCC HCCNC\n",
      "WARNING: isomer detected: HCNCC HNCCC\n",
      "WARNING: isomer detected: HCCNC HNCCC\n",
      "WARNING: isomer detected: HNCO HOCN\n",
      "WARNING: isomer detected: HNCO HCNO\n",
      "WARNING: isomer detected: HNCO HONC\n",
      "WARNING: isomer detected: HOCN HCNO\n",
      "WARNING: isomer detected: HOCN HONC\n",
      "WARNING: isomer detected: HCNO HONC\n",
      "WARNING: isomer detected: CH3S CH2SH\n",
      "WARNING: isomer detected: CNC+ C2N+\n",
      "WARNING: isomer detected: HCNH+ H2NC+\n",
      "WARNING: isomer detected: CH3OCH4+ C2H5OH2+\n",
      "WARNING: isomer detected: HNCO+ HOCN+\n",
      "WARNING: isomer detected: HNCO+ HCNO+\n",
      "WARNING: isomer detected: HNCO+ HONC+\n",
      "WARNING: isomer detected: HNCS+ HSCN+\n",
      "WARNING: isomer detected: HNCS+ HCNS+\n",
      "WARNING: isomer detected: HC3NH+ HC2NCH+\n",
      "WARNING: isomer detected: CH3O CH2OH\n",
      "WARNING: isomer detected: HCCCHO H2C3O\n",
      "WARNING: isomer detected: H2NCS+ HNCSH+\n",
      "WARNING: isomer detected: H2NCS+ H2SCN+\n",
      "WARNING: isomer detected: H2NCS+ H2CNS+\n",
      "WARNING: isomer detected: H2NCS+ HCNSH+\n",
      "WARNING: isomer detected: HNCSH+ H2SCN+\n",
      "WARNING: isomer detected: HNCSH+ H2CNS+\n",
      "WARNING: isomer detected: HNCSH+ HCNSH+\n",
      "WARNING: isomer detected: HNCS NCSH\n",
      "WARNING: isomer detected: HNCS HSCN\n",
      "WARNING: isomer detected: HNCS HCNS\n",
      "WARNING: isomer detected: NCSH HSCN\n",
      "WARNING: isomer detected: NCSH HCNS\n",
      "WARNING: isomer detected: H2NCO+ HNCOH+\n",
      "WARNING: isomer detected: H2NCO+ H2OCN+\n",
      "WARNING: isomer detected: H2NCO+ HCNOH+\n",
      "WARNING: isomer detected: H2NCO+ H2CNO+\n",
      "WARNING: isomer detected: HNCOH+ H2OCN+\n",
      "WARNING: isomer detected: HNCOH+ HCNOH+\n",
      "WARNING: isomer detected: HNCOH+ H2CNO+\n",
      "WARNING: isomer detected: H2OCN+ HCNOH+\n",
      "WARNING: isomer detected: H2OCN+ H2CNO+\n",
      "WARNING: isomer detected: HOCN+ HCNO+\n",
      "WARNING: isomer detected: HOCN+ HONC+\n",
      "WARNING: isomer detected: HCNOH+ H2CNO+\n",
      "WARNING: isomer detected: HCNO+ HONC+\n",
      "WARNING: isomer detected: HSCN HCNS\n",
      "WARNING: isomer detected: H2SCN+ H2CNS+\n",
      "WARNING: isomer detected: H2SCN+ HCNSH+\n",
      "WARNING: isomer detected: H2CNS+ HCNSH+\n",
      "WARNING: isomer detected: HCCCHOH+ C2H3CO+\n",
      "WARNING: isomer detected: HSCN+ HCNS+\n",
      "WARNING: isomer detected: CNCN C2N2\n",
      "WARNING: isomer detected: NHCHO HOCHN\n",
      "WARNING: isomer detected: NHCHO NH2CO\n",
      "WARNING: isomer detected: HOCHN NH2CO\n",
      "WARNING: duplicate reaction found: N2 -> N + N\n",
      "WARNING: duplicate reaction found: N -> N+ + e-\n",
      "WARNING: duplicate reaction found: O -> O+ + e-\n",
      "WARNING: duplicate reaction found: CO -> C + O\n",
      "WARNING: duplicate reaction found: HCCP -> H + CCP\n",
      "WARNING: duplicate reaction found: H2CN -> H + HCN\n",
      "WARNING: duplicate reaction found: NH2CN -> CN + NH2\n",
      "WARNING: duplicate reaction found: CH3NCO -> OCN + CH3\n",
      "WARNING: duplicate reaction found: He+ + CS2 -> CS2+ + He\n",
      "WARNING: duplicate reaction found: N+ + CS2 -> CS2+ + N\n",
      "WARNING: duplicate reaction found: H2+ + CS2 -> CS2+ + H2\n",
      "WARNING: duplicate reaction found: H2+ + CS2 -> HCS2+ + H\n",
      "WARNING: duplicate reaction found: OH+ + CS2 -> HCS2+ + O\n",
      "WARNING: duplicate reaction found: H3+ + CS2 -> HCS2+ + H2\n",
      "WARNING: duplicate reaction found: HCS2+ + e- -> CS2 + H\n",
      "WARNING: duplicate reaction found: CS2+ + H -> H+ + CS2\n",
      "WARNING: duplicate reaction found: CS2+ + O -> O+ + CS2\n",
      "WARNING: duplicate reaction found: CS2+ + O2 -> O2+ + CS2\n",
      "WARNING: duplicate reaction found: CS2+ + H2O -> H2O+ + CS2\n",
      "WARNING: duplicate reaction found: CS2+ + H2S -> H2S+ + CS2\n",
      "WARNING: duplicate reaction found: HCS2+ + C -> CH+ + CS2\n",
      "WARNING: duplicate reaction found: HCS2+ + H2O -> H3O+ + CS2\n",
      "WARNING: duplicate reaction found: HCS2+ + C2H2 -> C2H3+ + CS2\n",
      "WARNING: duplicate reaction found: HCS2+ + CH4 -> CH5+ + CS2\n",
      "WARNING: duplicate reaction found: CS2+ + H2 -> HCS2+ + H\n",
      "WARNING: duplicate reaction found: CS2+ + H2O -> HCS2+ + OH\n",
      "WARNING: duplicate reaction found: NH2CH2OH -> NH2CH2O + H\n",
      "WARNING: duplicate reaction found: NH2CH2OH -> NH2CH2O + H\n",
      "WARNING: duplicate reaction found: CNCN + H3+ -> H2 + C2N2H+\n",
      "WARNING: duplicate reaction found: FeH -> Fe + H\n",
      "WARNING: duplicate reaction found: MgH2 -> MgH + H\n",
      "WARNING: duplicate reaction found: C5H3 -> C5H2 + H\n",
      "WARNING: duplicate reaction found: C6H3 -> C6H2 + H\n",
      "WARNING: duplicate reaction found: C7H3 -> C7H2 + H\n",
      "WARNING: duplicate reaction found: C8H3 -> C8H2 + H\n",
      "WARNING: duplicate reaction found: C9H3 -> C9H2 + H\n",
      "WARNING: duplicate reaction found: C5H4 -> C5H2 + H2\n",
      "WARNING: duplicate reaction found: C6H4 -> C6H2 + H2\n",
      "WARNING: duplicate reaction found: C7H4 -> C7H2 + H2\n",
      "WARNING: duplicate reaction found: C8H4 -> C8H2 + H2\n",
      "WARNING: duplicate reaction found: C9H4 -> C9H2 + H2\n",
      "WARNING: duplicate reaction found: HCCS -> CS + CH\n",
      "WARNING: duplicate reaction found: CH2OH -> CH2 + OH\n",
      "WARNING: duplicate reaction found: CH3O -> CH3 + O\n",
      "WARNING: duplicate reaction found: HC3S -> CS + CCH\n",
      "WARNING: duplicate reaction found: CH2CCH2 -> CH2 + C2H2\n",
      "WARNING: duplicate reaction found: CH3CHS -> CH2 + H2CS\n",
      "WARNING: duplicate reaction found: CH3OCH2 -> H2CO + CH3\n",
      "WARNING: duplicate reaction found: CH3OCH2 -> CH3CHOH+ + e-\n",
      "generating ode...\n",
      "All done!\n"
     ]
    }
   ],
   "source": [
    "net = Network(\"networks/gas_reactions_kida.uva.2024.in\")"
   ]
  },
  {
   "cell_type": "code",
   "execution_count": null,
   "metadata": {},
   "outputs": [
    {
     "name": "stdout",
     "output_type": "stream",
     "text": [
      "1500.0*crate\n"
     ]
    },
    {
     "ename": "ValueError",
     "evalue": "x and y must have same first dimension, but have shapes (100,) and (1,)",
     "output_type": "error",
     "traceback": [
      "\u001b[0;31m---------------------------------------------------------------------------\u001b[0m",
      "\u001b[0;31mValueError\u001b[0m                                Traceback (most recent call last)",
      "Cell \u001b[0;32mIn[16], line 2\u001b[0m\n\u001b[1;32m      1\u001b[0m \u001b[38;5;28mprint\u001b[39m(net\u001b[38;5;241m.\u001b[39mreactions[\u001b[38;5;241m122\u001b[39m]\u001b[38;5;241m.\u001b[39mrate)  \u001b[38;5;66;03m# verbatim name of first reaction in COthin network\u001b[39;00m\n\u001b[0;32m----> 2\u001b[0m \u001b[43mnet\u001b[49m\u001b[38;5;241;43m.\u001b[39;49m\u001b[43mreactions\u001b[49m\u001b[43m[\u001b[49m\u001b[38;5;241;43m122\u001b[39;49m\u001b[43m]\u001b[49m\u001b[38;5;241;43m.\u001b[39;49m\u001b[43mplot\u001b[49m\u001b[43m(\u001b[49m\u001b[43m)\u001b[49m\n",
      "File \u001b[0;32m~/repos/jaff/reaction.py:110\u001b[0m, in \u001b[0;36mReaction.plot\u001b[0;34m(self, ax)\u001b[0m\n\u001b[1;32m    107\u001b[0m \u001b[38;5;28;01mif\u001b[39;00m ax \u001b[38;5;129;01mis\u001b[39;00m \u001b[38;5;28;01mNone\u001b[39;00m:\n\u001b[1;32m    108\u001b[0m     _, ax \u001b[38;5;241m=\u001b[39m plt\u001b[38;5;241m.\u001b[39msubplots()\n\u001b[0;32m--> 110\u001b[0m \u001b[43max\u001b[49m\u001b[38;5;241;43m.\u001b[39;49m\u001b[43mplot\u001b[49m\u001b[43m(\u001b[49m\u001b[43mtgas\u001b[49m\u001b[43m,\u001b[49m\u001b[43m \u001b[49m\u001b[43my\u001b[49m\u001b[43m)\u001b[49m\n\u001b[1;32m    111\u001b[0m ax\u001b[38;5;241m.\u001b[39mset_xlabel(\u001b[38;5;124m'\u001b[39m\u001b[38;5;124mTemperature (K)\u001b[39m\u001b[38;5;124m'\u001b[39m)\n\u001b[1;32m    112\u001b[0m ax\u001b[38;5;241m.\u001b[39mset_ylabel(\u001b[38;5;124m'\u001b[39m\u001b[38;5;124mRate\u001b[39m\u001b[38;5;124m'\u001b[39m)\n",
      "File \u001b[0;32m~/.local/lib/python3.10/site-packages/matplotlib/axes/_axes.py:1724\u001b[0m, in \u001b[0;36mAxes.plot\u001b[0;34m(self, scalex, scaley, data, *args, **kwargs)\u001b[0m\n\u001b[1;32m   1481\u001b[0m \u001b[38;5;250m\u001b[39m\u001b[38;5;124;03m\"\"\"\u001b[39;00m\n\u001b[1;32m   1482\u001b[0m \u001b[38;5;124;03mPlot y versus x as lines and/or markers.\u001b[39;00m\n\u001b[1;32m   1483\u001b[0m \n\u001b[0;32m   (...)\u001b[0m\n\u001b[1;32m   1721\u001b[0m \u001b[38;5;124;03m(``'green'``) or hex strings (``'#008000'``).\u001b[39;00m\n\u001b[1;32m   1722\u001b[0m \u001b[38;5;124;03m\"\"\"\u001b[39;00m\n\u001b[1;32m   1723\u001b[0m kwargs \u001b[38;5;241m=\u001b[39m cbook\u001b[38;5;241m.\u001b[39mnormalize_kwargs(kwargs, mlines\u001b[38;5;241m.\u001b[39mLine2D)\n\u001b[0;32m-> 1724\u001b[0m lines \u001b[38;5;241m=\u001b[39m [\u001b[38;5;241m*\u001b[39m\u001b[38;5;28mself\u001b[39m\u001b[38;5;241m.\u001b[39m_get_lines(\u001b[38;5;28mself\u001b[39m, \u001b[38;5;241m*\u001b[39margs, data\u001b[38;5;241m=\u001b[39mdata, \u001b[38;5;241m*\u001b[39m\u001b[38;5;241m*\u001b[39mkwargs)]\n\u001b[1;32m   1725\u001b[0m \u001b[38;5;28;01mfor\u001b[39;00m line \u001b[38;5;129;01min\u001b[39;00m lines:\n\u001b[1;32m   1726\u001b[0m     \u001b[38;5;28mself\u001b[39m\u001b[38;5;241m.\u001b[39madd_line(line)\n",
      "File \u001b[0;32m~/.local/lib/python3.10/site-packages/matplotlib/axes/_base.py:303\u001b[0m, in \u001b[0;36m_process_plot_var_args.__call__\u001b[0;34m(self, axes, data, *args, **kwargs)\u001b[0m\n\u001b[1;32m    301\u001b[0m     this \u001b[38;5;241m+\u001b[39m\u001b[38;5;241m=\u001b[39m args[\u001b[38;5;241m0\u001b[39m],\n\u001b[1;32m    302\u001b[0m     args \u001b[38;5;241m=\u001b[39m args[\u001b[38;5;241m1\u001b[39m:]\n\u001b[0;32m--> 303\u001b[0m \u001b[38;5;28;01myield from\u001b[39;00m \u001b[38;5;28;43mself\u001b[39;49m\u001b[38;5;241;43m.\u001b[39;49m\u001b[43m_plot_args\u001b[49m\u001b[43m(\u001b[49m\n\u001b[1;32m    304\u001b[0m \u001b[43m    \u001b[49m\u001b[43maxes\u001b[49m\u001b[43m,\u001b[49m\u001b[43m \u001b[49m\u001b[43mthis\u001b[49m\u001b[43m,\u001b[49m\u001b[43m \u001b[49m\u001b[43mkwargs\u001b[49m\u001b[43m,\u001b[49m\u001b[43m \u001b[49m\u001b[43mambiguous_fmt_datakey\u001b[49m\u001b[38;5;241;43m=\u001b[39;49m\u001b[43mambiguous_fmt_datakey\u001b[49m\u001b[43m)\u001b[49m\n",
      "File \u001b[0;32m~/.local/lib/python3.10/site-packages/matplotlib/axes/_base.py:499\u001b[0m, in \u001b[0;36m_process_plot_var_args._plot_args\u001b[0;34m(self, axes, tup, kwargs, return_kwargs, ambiguous_fmt_datakey)\u001b[0m\n\u001b[1;32m    496\u001b[0m     axes\u001b[38;5;241m.\u001b[39myaxis\u001b[38;5;241m.\u001b[39mupdate_units(y)\n\u001b[1;32m    498\u001b[0m \u001b[38;5;28;01mif\u001b[39;00m x\u001b[38;5;241m.\u001b[39mshape[\u001b[38;5;241m0\u001b[39m] \u001b[38;5;241m!=\u001b[39m y\u001b[38;5;241m.\u001b[39mshape[\u001b[38;5;241m0\u001b[39m]:\n\u001b[0;32m--> 499\u001b[0m     \u001b[38;5;28;01mraise\u001b[39;00m \u001b[38;5;167;01mValueError\u001b[39;00m(\u001b[38;5;124mf\u001b[39m\u001b[38;5;124m\"\u001b[39m\u001b[38;5;124mx and y must have same first dimension, but \u001b[39m\u001b[38;5;124m\"\u001b[39m\n\u001b[1;32m    500\u001b[0m                      \u001b[38;5;124mf\u001b[39m\u001b[38;5;124m\"\u001b[39m\u001b[38;5;124mhave shapes \u001b[39m\u001b[38;5;132;01m{\u001b[39;00mx\u001b[38;5;241m.\u001b[39mshape\u001b[38;5;132;01m}\u001b[39;00m\u001b[38;5;124m and \u001b[39m\u001b[38;5;132;01m{\u001b[39;00my\u001b[38;5;241m.\u001b[39mshape\u001b[38;5;132;01m}\u001b[39;00m\u001b[38;5;124m\"\u001b[39m)\n\u001b[1;32m    501\u001b[0m \u001b[38;5;28;01mif\u001b[39;00m x\u001b[38;5;241m.\u001b[39mndim \u001b[38;5;241m>\u001b[39m \u001b[38;5;241m2\u001b[39m \u001b[38;5;129;01mor\u001b[39;00m y\u001b[38;5;241m.\u001b[39mndim \u001b[38;5;241m>\u001b[39m \u001b[38;5;241m2\u001b[39m:\n\u001b[1;32m    502\u001b[0m     \u001b[38;5;28;01mraise\u001b[39;00m \u001b[38;5;167;01mValueError\u001b[39;00m(\u001b[38;5;124mf\u001b[39m\u001b[38;5;124m\"\u001b[39m\u001b[38;5;124mx and y can be no greater than 2D, but have \u001b[39m\u001b[38;5;124m\"\u001b[39m\n\u001b[1;32m    503\u001b[0m                      \u001b[38;5;124mf\u001b[39m\u001b[38;5;124m\"\u001b[39m\u001b[38;5;124mshapes \u001b[39m\u001b[38;5;132;01m{\u001b[39;00mx\u001b[38;5;241m.\u001b[39mshape\u001b[38;5;132;01m}\u001b[39;00m\u001b[38;5;124m and \u001b[39m\u001b[38;5;132;01m{\u001b[39;00my\u001b[38;5;241m.\u001b[39mshape\u001b[38;5;132;01m}\u001b[39;00m\u001b[38;5;124m\"\u001b[39m)\n",
      "\u001b[0;31mValueError\u001b[0m: x and y must have same first dimension, but have shapes (100,) and (1,)"
     ]
    },
    {
     "data": {
      "image/png": "[encoded data removed]",
      "text/plain": [
       "<Figure size 640x480 with 1 Axes>"
      ]
     },
     "metadata": {},
     "output_type": "display_data"
    }
   ],
   "source": [
    "print(net.reactions[1122].rate)  # verbatim name of first reaction in COthin network\n",
    "net.reactions[1122].plot()"
   ]
  },
  {
   "cell_type": "code",
   "execution_count": null,
   "metadata": {},
   "outputs": [],
   "source": []
  }
 ],
 "metadata": {
  "kernelspec": {
   "display_name": "Python 3",
   "language": "python",
   "name": "python3"
  },
  "language_info": {
   "codemirror_mode": {
    "name": "ipython",
    "version": 3
   },
   "file_extension": ".py",
   "mimetype": "text/x-python",
   "name": "python",
   "nbconvert_exporter": "python",
   "pygments_lexer": "ipython3",
   "version": "3.10.12"
  }
 },
 "nbformat": 4,
 "nbformat_minor": 2
}
