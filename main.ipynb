{
 "cells": [
  {
   "cell_type": "code",
   "execution_count": null,
   "metadata": {},
   "outputs": [],
   "source": [
    "from network import Network"
   ]
  },
  {
   "cell_type": "code",
   "execution_count": 2,
   "metadata": {},
   "outputs": [
    {
     "name": "stdout",
     "output_type": "stream",
     "text": [
      "Loaded 12 reactions\n",
      "WARNING: electron recombination not found for N2+\n",
      "generating ode...\n",
      "All done!\n"
     ]
    }
   ],
   "source": [
    "net = Network(\"networks/test.dat\")"
   ]
  },
  {
   "cell_type": "code",
   "execution_count": 8,
   "metadata": {},
   "outputs": [
    {
     "name": "stdout",
     "output_type": "stream",
     "text": [
      "['H+', 'e-', 'H', 'C', 'C+', 'CO+', 'CO', 'O', 'N2', 'N', 'N2+']\n",
      "['{\\\\rm H^{+}}', '{\\\\rm e^{-}}', '{\\\\rm H}', '{\\\\rm C}', '{\\\\rm C^{+}}', '{\\\\rm CO^{+}}', '{\\\\rm CO}', '{\\\\rm O}', '{\\\\rm N_{2}}', '{\\\\rm N}', '{\\\\rm N_{2}^{+}}']\n",
      "[1.673773e-24, 9.109383e-28, 1.673773e-24, 1.994473e-23, 1.994473e-23, 4.6512359999999996e-23, 4.6512359999999996e-23, 2.656763e-23, 4.651734e-23, 2.325867e-23, 4.651734e-23]\n",
      "[1, -1, 0, 0, 1, 1, 0, 0, 0, 0, 1]\n",
      "['H+ + e- -> H', 'H -> H+ + e-', 'C -> C+ + e-', 'C+ + e- -> C', 'CO+ + e- -> CO', 'C + O -> CO', 'CO -> C + O', 'CO -> CO+ + e-', 'N2 -> N + N', 'N + N -> N2', 'CO + N2+ -> N2 + CO+', 'N2 + e- -> N2+ + e- + e-']\n",
      "['${\\\\rm H^{+}} + {\\\\rm e^{-}}\\\\,\\\\to\\\\,{\\\\rm H}$', '${\\\\rm H}\\\\,\\\\to\\\\,{\\\\rm H^{+}} + {\\\\rm e^{-}}$', '${\\\\rm C}\\\\,\\\\to\\\\,{\\\\rm C^{+}} + {\\\\rm e^{-}}$', '${\\\\rm C^{+}} + {\\\\rm e^{-}}\\\\,\\\\to\\\\,{\\\\rm C}$', '${\\\\rm CO^{+}} + {\\\\rm e^{-}}\\\\,\\\\to\\\\,{\\\\rm CO}$', '${\\\\rm C} + {\\\\rm O}\\\\,\\\\to\\\\,{\\\\rm CO}$', '${\\\\rm CO}\\\\,\\\\to\\\\,{\\\\rm C} + {\\\\rm O}$', '${\\\\rm CO}\\\\,\\\\to\\\\,{\\\\rm CO^{+}} + {\\\\rm e^{-}}$', '${\\\\rm N_{2}}\\\\,\\\\to\\\\,{\\\\rm N} + {\\\\rm N}$', '${\\\\rm N} + {\\\\rm N}\\\\,\\\\to\\\\,{\\\\rm N_{2}}$', '${\\\\rm CO} + {\\\\rm N_{2}^{+}}\\\\,\\\\to\\\\,{\\\\rm N_{2}} + {\\\\rm CO^{+}}$', '${\\\\rm N_{2}} + {\\\\rm e^{-}}\\\\,\\\\to\\\\,{\\\\rm N_{2}^{+}} + {\\\\rm e^{-}} + {\\\\rm e^{-}}$']\n",
      "3.6100000000000002e-12*pow(t32, -0.75)\n"
     ]
    },
    {
     "data": {
      "text/latex": [
       "$\\displaystyle \\frac{3.61 \\cdot 10^{-12}}{t_{32}^{0.75}}$"
      ],
      "text/plain": [
       "3.61e-12/t32**0.75"
      ]
     },
     "execution_count": 8,
     "metadata": {},
     "output_type": "execute_result"
    }
   ],
   "source": [
    "# list some stuff\n",
    "print([x.name for x in net.species])  # variable names\n",
    "print([x.latex for x in net.species])  # latex names\n",
    "print([x.mass for x in net.species])  # masses, g\n",
    "print([x.charge for x in net.species]) # charges, e\n",
    "\n",
    "print([x.get_verbatim() for x in net.reactions])  # reactionw names\n",
    "print([x.get_latex() for x in net.reactions])  # latex names\n",
    "\n",
    "print(net.reactions[0].get_c())  # rate in C format of first reaction\n",
    "\n",
    "net.reactions[0].rate  # rate of first reaction in symbolic form\n",
    "\n"
   ]
  },
  {
   "cell_type": "code",
   "execution_count": null,
   "metadata": {},
   "outputs": [],
   "source": []
  }
 ],
 "metadata": {
  "kernelspec": {
   "display_name": "Python 3",
   "language": "python",
   "name": "python3"
  },
  "language_info": {
   "codemirror_mode": {
    "name": "ipython",
    "version": 3
   },
   "file_extension": ".py",
   "mimetype": "text/x-python",
   "name": "python",
   "nbconvert_exporter": "python",
   "pygments_lexer": "ipython3",
   "version": "3.10.12"
  }
 },
 "nbformat": 4,
 "nbformat_minor": 2
}
