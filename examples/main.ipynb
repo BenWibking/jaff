{
 "cells": [
  {
   "cell_type": "code",
   "execution_count": 1,
   "metadata": {},
   "outputs": [],
   "source": [
    "from jaff.network import Network"
   ]
  },
  {
   "cell_type": "code",
   "execution_count": 2,
   "metadata": {},
   "outputs": [
    {
     "name": "stdout",
     "output_type": "stream",
     "text": [
      "Welcome to JAFF: Just Another Fancy Format!\n",
      "Loading network from ../networks/test.dat\n",
      "Network label = test\n"
     ]
    },
    {
     "name": "stderr",
     "output_type": "stream",
     "text": [
      "100%|████████████████████████████████████████████████████████████████████████████████████████████████████| 19/19 [00:00<00:00, 371.85it/s]"
     ]
    },
    {
     "name": "stdout",
     "output_type": "stream",
     "text": [
      "PRIZMO variable detected: invt = 1d0 / Tgas\n",
      "PRIZMO variable detected: t32 = Tgas / 3d2\n",
      "photorates(0, 13.6, 10000000000.0)\n",
      "3.61e-12/t32**0.75\n",
      "0.46*crate\n",
      "3.39e-10*exp(-3.761*av)\n",
      "4.4e-12/(tgas/300.0)**0.61\n",
      "2.00000000000000e-14\n",
      "1.00000000000000e-20\n",
      "1.00000000000000e-33\n",
      "1.30000000000000e-12\n",
      "5.0*crate\n",
      "1.22000000000000e-12\n",
      "7.40000000000000e-11\n",
      "5.6e-11*tgas**0.5*exp(-102124.0*invt)\n",
      "KROME format detected: @format:R,R,P,P,rate\n",
      "4.30000000000000e-13\n",
      "Variables found: ['av', 'crate', 'tgas']\n",
      "Loaded 14 reactions\n",
      "Sink:  N2+\n",
      "Sink:  H2\n",
      "WARNING: sink detected\n",
      "WARNING: electron recombination not found for N2+\n",
      "generating ode...\n",
      "All done!\n"
     ]
    },
    {
     "name": "stderr",
     "output_type": "stream",
     "text": [
      "\n"
     ]
    }
   ],
   "source": [
    "net = Network(\"../networks/test.dat\")"
   ]
  },
  {
   "cell_type": "code",
   "execution_count": 3,
   "metadata": {},
   "outputs": [
    {
     "name": "stdout",
     "output_type": "stream",
     "text": [
      "['H', 'H+', 'e-', 'C', 'C+', 'CO+', 'CO', 'O', 'N2', 'N', 'N2+', 'H2']\n",
      "['{\\\\rm H}', '{\\\\rm H^{+}}', '{\\\\rm e^{-}}', '{\\\\rm C}', '{\\\\rm C^{+}}', '{\\\\rm CO^{+}}', '{\\\\rm CO}', '{\\\\rm O}', '{\\\\rm N_{2}}', '{\\\\rm N}', '{\\\\rm N_{2}^{+}}', '{\\\\rm H_{2}}']\n",
      "[1.673773e-24, 1.673773e-24, 9.109383e-28, 1.994473e-23, 1.994473e-23, 4.6512359999999996e-23, 4.6512359999999996e-23, 2.656763e-23, 4.651734e-23, 2.325867e-23, 4.651734e-23, 3.347546e-24]\n",
      "[0, 1, -1, 0, 1, 1, 0, 0, 0, 0, 1, 0]\n",
      "['H -> H+ + e-', 'H+ + e- -> H', 'H -> H+ + e-', 'C -> C+ + e-', 'C+ + e- -> C', 'CO+ + e- -> CO', 'C + O -> CO', 'CO -> C + O', 'CO -> CO+ + e-', 'N2 -> N + N', 'N + N -> N2', 'CO + N2+ -> N2 + CO+', 'H2 + e- -> H + H + e-', 'CO + N2+ -> N2 + CO+']\n",
      "['${\\\\rm H}\\\\,\\\\to\\\\,{\\\\rm H^{+}} + {\\\\rm e^{-}}$', '${\\\\rm H^{+}} + {\\\\rm e^{-}}\\\\,\\\\to\\\\,{\\\\rm H}$', '${\\\\rm H}\\\\,\\\\to\\\\,{\\\\rm H^{+}} + {\\\\rm e^{-}}$', '${\\\\rm C}\\\\,\\\\to\\\\,{\\\\rm C^{+}} + {\\\\rm e^{-}}$', '${\\\\rm C^{+}} + {\\\\rm e^{-}}\\\\,\\\\to\\\\,{\\\\rm C}$', '${\\\\rm CO^{+}} + {\\\\rm e^{-}}\\\\,\\\\to\\\\,{\\\\rm CO}$', '${\\\\rm C} + {\\\\rm O}\\\\,\\\\to\\\\,{\\\\rm CO}$', '${\\\\rm CO}\\\\,\\\\to\\\\,{\\\\rm C} + {\\\\rm O}$', '${\\\\rm CO}\\\\,\\\\to\\\\,{\\\\rm CO^{+}} + {\\\\rm e^{-}}$', '${\\\\rm N_{2}}\\\\,\\\\to\\\\,{\\\\rm N} + {\\\\rm N}$', '${\\\\rm N} + {\\\\rm N}\\\\,\\\\to\\\\,{\\\\rm N_{2}}$', '${\\\\rm CO} + {\\\\rm N_{2}^{+}}\\\\,\\\\to\\\\,{\\\\rm N_{2}} + {\\\\rm CO^{+}}$', '${\\\\rm H_{2}} + {\\\\rm e^{-}}\\\\,\\\\to\\\\,{\\\\rm H} + {\\\\rm H} + {\\\\rm e^{-}}$', '${\\\\rm CO} + {\\\\rm N_{2}^{+}}\\\\,\\\\to\\\\,{\\\\rm N_{2}} + {\\\\rm CO^{+}}$']\n",
      "H -> H+ + e-\n",
      "H__+/H_e-\n",
      "/* Not supported in C: */\n",
      "/* photorates */\n",
      "photorates(0, 13.6, 10000000000.0)\n",
      "C     Not supported in Fortran:\n",
      "C     photorates\n",
      "      photorates(0, 13.6, 10000000000.0)\n",
      "True\n",
      "False\n"
     ]
    },
    {
     "data": {
      "text/latex": [
       "$\\displaystyle \\operatorname{photorates}{\\left(0,13.6,10000000000.0 \\right)}$"
      ],
      "text/plain": [
       "photorates(0, 13.6, 10000000000.0)"
      ]
     },
     "execution_count": 3,
     "metadata": {},
     "output_type": "execute_result"
    }
   ],
   "source": [
    "# list some stuff\n",
    "print([x.name for x in net.species])  # variable names\n",
    "print([x.latex for x in net.species])  # latex names\n",
    "print([x.mass for x in net.species])  # masses, g\n",
    "print([x.charge for x in net.species]) # charges, e\n",
    "\n",
    "print([x.get_verbatim() for x in net.reactions])  # reactionw names\n",
    "print([x.get_latex() for x in net.reactions])  # latex names\n",
    "\n",
    "print(net.reactions[0].get_verbatim())  # verbatim name of first reaction\n",
    "print(net.reactions[0].serialized)\n",
    "\n",
    "print(net.reactions[0].get_c())  # rate in C format of first reaction\n",
    "print(net.reactions[0].get_f90())  # rate in Fortran 90 format of first reaction\n",
    "\n",
    "print(net.reactions[0].is_same(net.reactions[0]))  # check if the first reaction is the same as itself\n",
    "print(net.reactions[0].is_same(net.reactions[1]))  # check if the first reaction is the same as the second\n",
    "\n",
    "net.reactions[0].rate  # rate of first reaction in symbolic form"
   ]
  },
  {
   "cell_type": "code",
   "execution_count": 4,
   "metadata": {},
   "outputs": [
    {
     "name": "stdout",
     "output_type": "stream",
     "text": [
      "Welcome to JAFF: Just Another Fancy Format!\n",
      "Loading network from ../networks/test2.dat\n",
      "Network label = very small network\n"
     ]
    },
    {
     "name": "stderr",
     "output_type": "stream",
     "text": [
      "100%|██████████████████████████████████████████████████████████████████████████████████████████████████████| 1/1 [00:00<00:00, 334.31it/s]"
     ]
    },
    {
     "name": "stdout",
     "output_type": "stream",
     "text": [
      "2.0e-12*tgas**0.33\n",
      "Variables found: ['tgas']\n",
      "Loaded 1 reactions\n",
      "Sink:  e-\n",
      "Sink:  CO+\n",
      "Source:  CO\n",
      "WARNING: sink detected\n",
      "WARNING: source detected\n",
      "generating ode...\n",
      "All done!\n"
     ]
    },
    {
     "name": "stderr",
     "output_type": "stream",
     "text": [
      "\n"
     ]
    }
   ],
   "source": [
    "net2 = Network(\"../networks/test2.dat\", label=\"very small network\")"
   ]
  },
  {
   "cell_type": "code",
   "execution_count": 5,
   "metadata": {},
   "outputs": [
    {
     "name": "stdout",
     "output_type": "stream",
     "text": [
      "Comparing networks \"test\" and \"very small network\"...\n",
      "Found in \"test\" but not in \"very small network\": C+ + e- -> C\n",
      "Found in \"test\" but not in \"very small network\": H+ + e- -> H\n",
      "Found in \"test\" but not in \"very small network\": CO + N2+ -> N2 + CO+\n",
      "Found in \"test\" but not in \"very small network\": CO -> CO+ + e-\n",
      "Found in \"test\" but not in \"very small network\": CO -> C + O\n",
      "Found in \"test\" but not in \"very small network\": C + O -> CO\n",
      "Found in \"test\" but not in \"very small network\": C -> C+ + e-\n",
      "Found in \"test\" but not in \"very small network\": H2 + e- -> H + H + e-\n",
      "Found in \"test\" but not in \"very small network\": H -> H+ + e-\n",
      "Found in \"test\" but not in \"very small network\": N2 -> N + N\n",
      "Found in \"test\" but not in \"very small network\": N + N -> N2\n",
      "Found 1 reactions in common\n",
      "0 reactions missing in \"test\"\n",
      "11 reactions missing in \"very small network\"\n"
     ]
    }
   ],
   "source": [
    "net.compare_reactions(net2)  # compare two networks"
   ]
  },
  {
   "cell_type": "code",
   "execution_count": 6,
   "metadata": {},
   "outputs": [
    {
     "name": "stdout",
     "output_type": "stream",
     "text": [
      "Comparing species in networks \"test\" and \"very small network\"...\n",
      "Found 3 species in common: ['CO', 'CO+', 'e-']\n",
      "Found 9 species in \"test\" but not in \"very small network\": ['C', 'C+', 'H', 'H+', 'H2', 'N', 'N2', 'N2+', 'O']\n",
      "Found 0 species in \"very small network\" but not in \"test\": []\n"
     ]
    }
   ],
   "source": [
    "net.compare_species(net2)  # compare species in two networks"
   ]
  },
  {
   "cell_type": "code",
   "execution_count": 7,
   "metadata": {},
   "outputs": [
    {
     "name": "stdout",
     "output_type": "stream",
     "text": [
      "photorates(0, 13.6, 10000000000.0)\n"
     ]
    },
    {
     "ename": "NameError",
     "evalue": "name 'photorates' is not defined",
     "output_type": "error",
     "traceback": [
      "\u001b[31m---------------------------------------------------------------------------\u001b[39m",
      "\u001b[31mNameError\u001b[39m                                 Traceback (most recent call last)",
      "\u001b[36mCell\u001b[39m\u001b[36m \u001b[39m\u001b[32mIn[7]\u001b[39m\u001b[32m, line 2\u001b[39m\n\u001b[32m      1\u001b[39m \u001b[38;5;28mprint\u001b[39m(net.reactions[\u001b[32m0\u001b[39m].rate)  \u001b[38;5;66;03m# verbatim name of first reaction in COthin network\u001b[39;00m\n\u001b[32m----> \u001b[39m\u001b[32m2\u001b[39m \u001b[43mnet\u001b[49m\u001b[43m.\u001b[49m\u001b[43mreactions\u001b[49m\u001b[43m[\u001b[49m\u001b[32;43m0\u001b[39;49m\u001b[43m]\u001b[49m\u001b[43m.\u001b[49m\u001b[43mplot\u001b[49m\u001b[43m(\u001b[49m\u001b[43m)\u001b[49m\n",
      "\u001b[36mFile \u001b[39m\u001b[32m~/amrex_codes/jaff/src/jaff/reaction.py:109\u001b[39m, in \u001b[36mReaction.plot\u001b[39m\u001b[34m(self, ax)\u001b[39m\n\u001b[32m    107\u001b[39m tgas = np.linspace(\u001b[38;5;28mself\u001b[39m.tmin, \u001b[38;5;28mself\u001b[39m.tmax, \u001b[32m100\u001b[39m)\n\u001b[32m    108\u001b[39m r = sympy.lambdify(\u001b[33m'\u001b[39m\u001b[33mtgas\u001b[39m\u001b[33m'\u001b[39m, \u001b[38;5;28mself\u001b[39m.rate, \u001b[33m'\u001b[39m\u001b[33mnumpy\u001b[39m\u001b[33m'\u001b[39m)\n\u001b[32m--> \u001b[39m\u001b[32m109\u001b[39m y = \u001b[43mr\u001b[49m\u001b[43m(\u001b[49m\u001b[43mtgas\u001b[49m\u001b[43m)\u001b[49m\n\u001b[32m    111\u001b[39m \u001b[38;5;28;01mif\u001b[39;00m ax \u001b[38;5;129;01mis\u001b[39;00m \u001b[38;5;28;01mNone\u001b[39;00m:\n\u001b[32m    112\u001b[39m     _, ax = plt.subplots()\n",
      "\u001b[36mFile \u001b[39m\u001b[32m<lambdifygenerated-1>:2\u001b[39m, in \u001b[36m_lambdifygenerated\u001b[39m\u001b[34m(tgas)\u001b[39m\n\u001b[32m      1\u001b[39m \u001b[38;5;28;01mdef\u001b[39;00m\u001b[38;5;250m \u001b[39m\u001b[34m_lambdifygenerated\u001b[39m(tgas):\n\u001b[32m----> \u001b[39m\u001b[32m2\u001b[39m     \u001b[38;5;28;01mreturn\u001b[39;00m \u001b[43mphotorates\u001b[49m(\u001b[32m0\u001b[39m, \u001b[32m13.6\u001b[39m, \u001b[32m10000000000.0\u001b[39m)\n",
      "\u001b[31mNameError\u001b[39m: name 'photorates' is not defined"
     ]
    }
   ],
   "source": [
    "print(net.reactions[0].rate)  # verbatim name of first reaction in COthin network\n",
    "net.reactions[0].plot()"
   ]
  },
  {
   "cell_type": "code",
   "execution_count": null,
   "metadata": {},
   "outputs": [],
   "source": []
  }
 ],
 "metadata": {
  "kernelspec": {
   "display_name": "Python 3 (ipykernel)",
   "language": "python",
   "name": "python3"
  },
  "language_info": {
   "codemirror_mode": {
    "name": "ipython",
    "version": 3
   },
   "file_extension": ".py",
   "mimetype": "text/x-python",
   "name": "python",
   "nbconvert_exporter": "python",
   "pygments_lexer": "ipython3",
   "version": "3.11.9"
  }
 },
 "nbformat": 4,
 "nbformat_minor": 4
}
