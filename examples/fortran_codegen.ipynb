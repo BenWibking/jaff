{
 "cells": [
  {
   "cell_type": "code",
   "execution_count": 1,
   "metadata": {},
   "outputs": [
    {
     "name": "stdout",
     "output_type": "stream",
     "text": [
      "Welcome to JAFF: Just Another Fancy Format!\n",
      "Loading network from ../networks/test2.dat\n",
      "Network label = test2\n"
     ]
    },
    {
     "name": "stderr",
     "output_type": "stream",
     "text": [
      "100%|█████████████████████████████████████████████████████████████████████████████████████████████████████████████| 2/2 [00:00<00:00, 445.54it/s]"
     ]
    },
    {
     "name": "stdout",
     "output_type": "stream",
     "text": [
      "2.0e-12*tgas**0.33\n",
      "1.0e-12*exp(-1.222*av)\n",
      "Variables found: ['av', 'tgas']\n",
      "Loaded 2 reactions\n",
      "Lodaded 0 photo-chemistry reactions\n",
      "All done!\n"
     ]
    },
    {
     "name": "stderr",
     "output_type": "stream",
     "text": [
      "\n"
     ]
    }
   ],
   "source": [
    "from jaff.network import Network\n",
    "net = Network(\"../networks/test2.dat\")"
   ]
  },
  {
   "cell_type": "code",
   "execution_count": 2,
   "metadata": {},
   "outputs": [
    {
     "name": "stdout",
     "output_type": "stream",
     "text": [
      "Building network with template: fortran_dlsodes\n",
      "Copying /Users/benwibking/amrex_codes/chemistry/jaff/src/jaff/templates/fortran_dlsodes/opkdmain.f to /Users/benwibking/amrex_codes/chemistry/jaff/src/jaff/builds\n",
      "Copying /Users/benwibking/amrex_codes/chemistry/jaff/src/jaff/templates/fortran_dlsodes/Makefile to /Users/benwibking/amrex_codes/chemistry/jaff/src/jaff/builds\n",
      "Copying /Users/benwibking/amrex_codes/chemistry/jaff/src/jaff/templates/fortran_dlsodes/opkda1.f to /Users/benwibking/amrex_codes/chemistry/jaff/src/jaff/builds\n",
      "Copying /Users/benwibking/amrex_codes/chemistry/jaff/src/jaff/templates/fortran_dlsodes/main.f90 to /Users/benwibking/amrex_codes/chemistry/jaff/src/jaff/builds\n",
      "Copying /Users/benwibking/amrex_codes/chemistry/jaff/src/jaff/templates/fortran_dlsodes/opkda2.f to /Users/benwibking/amrex_codes/chemistry/jaff/src/jaff/builds\n",
      "Preprocessing /Users/benwibking/amrex_codes/chemistry/jaff/src/jaff/templates/fortran_dlsodes/commons.f90 -> /Users/benwibking/amrex_codes/chemistry/jaff/src/jaff/builds/commons.f90\n",
      "Preprocessing /Users/benwibking/amrex_codes/chemistry/jaff/src/jaff/templates/fortran_dlsodes/ode.f90 -> /Users/benwibking/amrex_codes/chemistry/jaff/src/jaff/builds/ode.f90\n",
      "Preprocessing /Users/benwibking/amrex_codes/chemistry/jaff/src/jaff/templates/fortran_dlsodes/fluxes.f90 -> /Users/benwibking/amrex_codes/chemistry/jaff/src/jaff/builds/fluxes.f90\n",
      "Preprocessing /Users/benwibking/amrex_codes/chemistry/jaff/src/jaff/templates/fortran_dlsodes/reactions.f90 -> /Users/benwibking/amrex_codes/chemistry/jaff/src/jaff/builds/reactions.f90\n",
      "Network built successfully using template 'fortran_dlsodes'.\n",
      "Output files are located in: /Users/benwibking/amrex_codes/chemistry/jaff/examples\n",
      "/Users/benwibking/amrex_codes/chemistry/jaff/examples\n"
     ]
    }
   ],
   "source": [
    "from jaff.builder import Builder\n",
    "b = Builder(net)\n",
    "build_dir = b.build(template=\"fortran_dlsodes\")\n",
    "print(build_dir)"
   ]
  },
  {
   "cell_type": "code",
   "execution_count": 3,
   "metadata": {},
   "outputs": [
    {
     "name": "stdout",
     "output_type": "stream",
     "text": [
      "gfortran -ffree-line-length-none -O3 -g -fallow-argument-mismatch -c opkda1.f -o opkda1.o  -w\n",
      "gfortran -ffree-line-length-none -O3 -g -fallow-argument-mismatch -c opkda2.f -o opkda2.o  -w\n",
      "gfortran -ffree-line-length-none -O3 -g -fallow-argument-mismatch -c opkdmain.f -o opkdmain.o  -w\n",
      "gfortran -ffree-line-length-none -O3 -g -fallow-argument-mismatch -c commons.f90 -o commons.o \n",
      "gfortran -ffree-line-length-none -O3 -g -fallow-argument-mismatch -c reactions.f90 -o reactions.o \n",
      "gfortran -ffree-line-length-none -O3 -g -fallow-argument-mismatch -c fluxes.f90 -o fluxes.o \n",
      "gfortran -ffree-line-length-none -O3 -g -fallow-argument-mismatch -c ode.f90 -o ode.o \n",
      "gfortran -ffree-line-length-none -O3 -g -fallow-argument-mismatch -c main.f90 -o main.o \n",
      "\u001b[01m\u001b[Kmain.f90:40:24:\u001b[m\u001b[K\n",
      "\n",
      "   40 |                 LIW, JES, MF)\n",
      "      |                        \u001b[01;31m\u001b[K1\u001b[m\u001b[K\n",
      "\u001b[01;31m\u001b[KError:\u001b[m\u001b[K Symbol '\u001b[01m\u001b[Kjes\u001b[m\u001b[K' at \u001b[01;31m\u001b[K(1)\u001b[m\u001b[K has no IMPLICIT type\n",
      "\u001b[01m\u001b[Kmain.f90:40:24:\u001b[m\u001b[K\n",
      "\n",
      "   40 |                 LIW, JES, MF)\n",
      "      |                        \u001b[01;31m\u001b[K1\u001b[m\u001b[K\n",
      "\u001b[01;31m\u001b[KError:\u001b[m\u001b[K Symbol '\u001b[01m\u001b[Kjes\u001b[m\u001b[K' at \u001b[01;31m\u001b[K(1)\u001b[m\u001b[K has no IMPLICIT type\n",
      "make: *** [main.o] Error 1\n",
      "make: *** Waiting for unfinished jobs....\n"
     ]
    }
   ],
   "source": [
    "# compile network\n",
    "!   cd $build_dir && make -j"
   ]
  },
  {
   "cell_type": "code",
   "execution_count": 4,
   "metadata": {},
   "outputs": [
    {
     "ename": "AssertionError",
     "evalue": "",
     "output_type": "error",
     "traceback": [
      "\u001b[31m---------------------------------------------------------------------------\u001b[39m",
      "\u001b[31mAssertionError\u001b[39m                            Traceback (most recent call last)",
      "\u001b[36mCell\u001b[39m\u001b[36m \u001b[39m\u001b[32mIn[4]\u001b[39m\u001b[32m, line 1\u001b[39m\n\u001b[32m----> \u001b[39m\u001b[32m1\u001b[39m \u001b[38;5;28;01massert\u001b[39;00m(_exit_code == \u001b[32m0\u001b[39m)\n",
      "\u001b[31mAssertionError\u001b[39m: "
     ]
    }
   ],
   "source": [
    "assert(_exit_code == 0)"
   ]
  },
  {
   "cell_type": "code",
   "execution_count": null,
   "metadata": {},
   "outputs": [],
   "source": []
  }
 ],
 "metadata": {
  "kernelspec": {
   "display_name": "Python 3 (ipykernel)",
   "language": "python",
   "name": "python3"
  },
  "language_info": {
   "codemirror_mode": {
    "name": "ipython",
    "version": 3
   },
   "file_extension": ".py",
   "mimetype": "text/x-python",
   "name": "python",
   "nbconvert_exporter": "python",
   "pygments_lexer": "ipython3",
   "version": "3.11.9"
  }
 },
 "nbformat": 4,
 "nbformat_minor": 4
}
