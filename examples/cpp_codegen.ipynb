{
 "cells": [
  {
   "cell_type": "markdown",
   "metadata": {},
   "source": [
    "# Generating C++ Kokkos Chemistry Solvers with JAFF\n",
    "\n",
    "This notebook demonstrates how to use JAFF to generate C++ code that uses the Kokkos-kernels BDF solver for solving chemical reaction networks. We'll use the `react_COthin` network as an example, which contains 37 species.\n",
    "\n",
    "## Overview\n",
    "\n",
    "The Kokkos output plugin generates:\n",
    "- **chemistry_ode.hpp**: Chemistry ODE system class with evaluate_function and evaluate_jacobian methods\n",
    "- **chemistry_ode.cpp**: Main executable that sets up and runs the BDF solver\n",
    "- **CMakeLists.txt**: Build configuration for Kokkos and Kokkos-kernels dependencies\n",
    "\n",
    "The generated code is compatible with the Kokkos-kernels BDF solver for stiff ODEs."
   ]
  },
  {
   "cell_type": "markdown",
   "metadata": {},
   "source": [
    "## Step 1: Load the Chemical Network\n",
    "\n",
    "First, let's load the react_COthin network, which is a carbon-oxygen chemistry network in KROME format."
   ]
  },
  {
   "cell_type": "code",
   "execution_count": 1,
   "metadata": {
    "scrolled": true
   },
   "outputs": [
    {
     "name": "stdout",
     "output_type": "stream",
     "text": [
      "Welcome to JAFF: Just Another Fancy Format!\n",
      "Loading network from ../networks/test2.dat\n",
      "Network label = test2\n"
     ]
    },
    {
     "name": "stderr",
     "output_type": "stream",
     "text": [
      "100%|████████████████████████████████████████████████████████████████████████████████████| 2/2 [00:00<00:00, 465.03it/s]"
     ]
    },
    {
     "name": "stdout",
     "output_type": "stream",
     "text": [
      "2.0e-12*tgas**0.33\n",
      "1.0e-12*exp(-1.222*av)\n",
      "Variables found: ['av', 'tgas']\n",
      "Loaded 2 reactions\n",
      "Lodaded 0 photo-chemistry reactions\n",
      "All done!\n",
      "Network loaded: test2\n",
      "Number of species: 3\n",
      "Number of reactions: 2\n"
     ]
    },
    {
     "name": "stderr",
     "output_type": "stream",
     "text": [
      "\n"
     ]
    }
   ],
   "source": [
    "from jaff.network import Network\n",
    "from jaff.builder import Builder\n",
    "import os\n",
    "\n",
    "# Load the test2 network\n",
    "network = Network(\"../networks/test2.dat\")\n",
    "\n",
    "print(f\"Network loaded: {network.label}\")\n",
    "print(f\"Number of species: {network.get_number_of_species()}\")\n",
    "print(f\"Number of reactions: {len(network.reactions)}\")"
   ]
  },
  {
   "cell_type": "markdown",
   "metadata": {},
   "source": [
    "## Step 2: Examine Network Properties\n",
    "\n",
    "Let's examine some properties of the network to understand what we're working with."
   ]
  },
  {
   "cell_type": "code",
   "execution_count": 2,
   "metadata": {},
   "outputs": [
    {
     "name": "stdout",
     "output_type": "stream",
     "text": [
      "  0: e- (mass: 9.11e-28, charge: -1)\n",
      "  1: CO+ (mass: 4.65e-23, charge: 1)\n",
      "  2: CO (mass: 4.65e-23, charge: 0)\n",
      "\n",
      "Total species: 3\n"
     ]
    }
   ],
   "source": [
    "for i, species in enumerate(network.species):\n",
    "    print(f\"  {i}: {species.name} (mass: {species.mass:.2e}, charge: {species.charge})\")\n",
    "\n",
    "print(f\"\\nTotal species: {len(network.species)}\")"
   ]
  },
  {
   "cell_type": "code",
   "execution_count": 3,
   "metadata": {
    "scrolled": true
   },
   "outputs": [
    {
     "name": "stdout",
     "output_type": "stream",
     "text": [
      "  1: e- + CO+ -> CO\n",
      "      Rate: 2.0e-12*tgas**0.33\n",
      "\n",
      "  2: CO -> CO+ + e-\n",
      "      Rate: 1.0e-12*exp(-1.222*av)\n",
      "\n"
     ]
    }
   ],
   "source": [
    "# Show a few example reactions\n",
    "for i, reaction in enumerate(network.reactions[:10]):\n",
    "    reactants = \" + \".join([f\"{r.name}\" for r in reaction.reactants])\n",
    "    products = \" + \".join([f\"{p.name}\" for p in reaction.products])\n",
    "    print(f\"  {i+1}: {reactants} -> {products}\")\n",
    "    print(f\"      Rate: {reaction.rate}\")\n",
    "    print()"
   ]
  },
  {
   "cell_type": "markdown",
   "metadata": {},
   "source": [
    "## Step 3: Generate C++ Kokkos Code\n",
    "\n",
    "Now let's use the Builder to generate C++ code using the `kokkos_ode` template."
   ]
  },
  {
   "cell_type": "code",
   "execution_count": 4,
   "metadata": {},
   "outputs": [
    {
     "name": "stdout",
     "output_type": "stream",
     "text": [
      "Building network with template: kokkos_ode\n",
      "Preprocessing /Users/benwibking/amrex_codes/chemistry/jaff/src/jaff/templates/kokkos_ode/chemistry_ode.hpp -> /Users/benwibking/amrex_codes/chemistry/jaff/examples/chemistry_ode.hpp\n",
      "Preprocessing /Users/benwibking/amrex_codes/chemistry/jaff/src/jaff/templates/kokkos_ode/chemistry_ode.cpp -> /Users/benwibking/amrex_codes/chemistry/jaff/examples/chemistry_ode.cpp\n",
      "Preprocessing /Users/benwibking/amrex_codes/chemistry/jaff/src/jaff/templates/kokkos_ode/CMakeLists.txt -> /Users/benwibking/amrex_codes/chemistry/jaff/examples/CMakeLists.txt\n",
      "Network built successfully using template 'kokkos_ode'.\n",
      "Output files are located in: /Users/benwibking/amrex_codes/chemistry/jaff/examples\n",
      "\n",
      "C++ Kokkos code generated successfully!\n",
      "Generated files are located at /Users/benwibking/amrex_codes/chemistry/jaff/examples\n"
     ]
    }
   ],
   "source": [
    "# Create builder and generate Kokkos C++ code\n",
    "builder = Builder(network)\n",
    "builds_dir = builder.build(template=\"kokkos_ode\")\n",
    "\n",
    "print(\"\\nC++ Kokkos code generated successfully!\")\n",
    "print(f\"Generated files are located at {builds_dir}\")"
   ]
  },
  {
   "cell_type": "markdown",
   "metadata": {},
   "source": [
    "## Step 4: Examine Generated Files\n",
    "\n",
    "Let's look at the structure and content of the generated files."
   ]
  },
  {
   "cell_type": "code",
   "execution_count": 5,
   "metadata": {},
   "outputs": [
    {
     "name": "stdout",
     "output_type": "stream",
     "text": [
      "Generated files:\n",
      "  CMakeLists.txt       (2,371 bytes)\n",
      "  chemistry_ode.cpp    (4,233 bytes)\n",
      "  chemistry_ode.hpp    (4,252 bytes)\n"
     ]
    }
   ],
   "source": [
    "# List generated files\n",
    "generated_files = [f for f in os.listdir(builds_dir) if f.endswith(('.cpp', '.hpp', '.txt'))]\n",
    "\n",
    "print(\"Generated files:\")\n",
    "for file in sorted(generated_files):\n",
    "    filepath = os.path.join(builds_dir, file)\n",
    "    size = os.path.getsize(filepath)\n",
    "    print(f\"  {file:20} ({size:,} bytes)\")"
   ]
  },
  {
   "cell_type": "markdown",
   "metadata": {},
   "source": [
    "## Step 5: Understanding the Generated Code Structure\n",
    "\n",
    "Let's examine key components of the generated chemistry solver."
   ]
  },
  {
   "cell_type": "code",
   "execution_count": 6,
   "metadata": {
    "scrolled": true
   },
   "outputs": [
    {
     "name": "stdout",
     "output_type": "stream",
     "text": [
      "ChemistryODE class structure:\n",
      "==================================================\n",
      "14: struct ChemistryODE {\n",
      "15:     // Number of species in the chemical network\n",
      "16:     // PREPROCESS_NUM_SPECIES\n",
      "17: \n",
      "18:     static constexpr int neqs = 3;\n",
      "19: \n",
      "20:     // PREPROCESS_END\n",
      "21: \n",
      "22:     using state_type = std::array<integrators::Real, neqs>;\n",
      "23:     using rhs_type = std::array<integrators::Real, neqs>;\n",
      "24:     using jacobian_type = std::array<std::array<integrators::Real, neqs>, neqs>;\n",
      "25: \n",
      "26:     // Species indices and common constants\n",
      "27:     // PREPROCESS_COMMONS\n",
      "28: \n",
      "29:     static constexpr int idx_e = 0;\n",
      "30:     static constexpr int idx_coj = 1;\n",
      "31:     static constexpr int idx_co = 2;\n",
      "32:     static constexpr int nspecs = 3;\n",
      "33:     static constexpr int nreactions = 2;\n",
      "34: \n",
      "35:     // Common chemistry variables used in rate expressions\n",
      "36:     // These should typically be passed as parameters or computed from the state\n",
      "37:     static constexpr double DEFAULT_TEMPERATURE = 300.0;  // Default gas temperature in K\n",
      "38:     static constexpr double DEFAULT_AV = 1.0;             // Default visual extinction\n",
      "39:     static constexpr double DEFAULT_CRATE = 1.3e-17;      // Default cosmic ray ionization rate\n",
      "40: \n",
      "41:     // PREPROCESS_END\n",
      "42: \n",
      "43:     // Evaluate the ODE right-hand side: dy/dt = f(t, y)\n",
      "44:     static void rhs(const integrators::Real /*t*/, const state_type& y, rhs_type& f) {\n",
      "45:         // PREPROCESS_TEMP_VARS\n",
      "46: \n",
      "47:         // Temperature and environment variables used in chemical reactions\n",
      "48:         // T is expected to be passed as a parameter or computed from the state\n",
      "49:         const double tgas = DEFAULT_TEMPERATURE;\n",
      "50:         const double tdust = DEFAULT_TEMPERATURE;\n",
      "51:         const double av = DEFAULT_AV;  // Visual extinction\n",
      "52:         const double crate = DEFAULT_CRATE;  // Cosmic ray ionization rate\n",
      "53: \n",
      "54:         // PREPROCESS_END\n",
      "55: \n",
      "56:         // Compute reaction rates\n",
      "57:         // PREPROCESS_NUM_REACTIONS\n",
      "58: \n",
      "59:         double k[2];\n",
      "60: \n",
      "61:         // PREPROCESS_END\n",
      "62: \n",
      "63:         // PREPROCESS_RATES\n",
      "64: \n",
      "65:         k[0] = 2.0e-12*std::pow(tgas, 0.33000000000000002);\n",
      "66:         k[1] = 9.9999999999999998e-13*std::exp(-1.222*av);\n",
      "67: \n",
      "68:         // PREPROCESS_END\n",
      "69: \n",
      "70:         // Compute derivatives for each species\n",
      "71:         // PREPROCESS_ODE\n",
      "72: \n",
      "73:         const double cse0 = k[0]*y[1];\n",
      "74:         const double cse1 = cse0*y[0] - k[1]*y[2];\n",
      "75:         const double cse2 = -cse1;\n",
      "76:         const double cse3 = -cse0;\n",
      "77:         const double cse4 = k[0]*y[0];\n",
      "78:         const double cse5 = -cse4;\n",
      "79:         f[0] = cse2;\n",
      "80:         f[1] = cse2;\n",
      "81:         f[2] = cse1;\n",
      "82: \n",
      "83:         // PREPROCESS_END\n",
      "84:     }\n",
      "85: \n",
      "86:     // Evaluate the Jacobian matrix: J_ij = df_i/dy_j\n",
      "87:     static void jacobian(const integrators::Real /*t*/, const state_type& y, jacobian_type& J) {\n",
      "88:         // PREPROCESS_TEMP_VARS\n",
      "89: \n",
      "90:         // Temperature and environment variables used in chemical reactions\n",
      "91:         // T is expected to be passed as a parameter or computed from the state\n",
      "92:         const double tgas = DEFAULT_TEMPERATURE;\n",
      "93:         const double tdust = DEFAULT_TEMPERATURE;\n",
      "94:         const double av = DEFAULT_AV;  // Visual extinction\n",
      "95:         const double crate = DEFAULT_CRATE;  // Cosmic ray ionization rate\n",
      "96: \n",
      "97:         // PREPROCESS_END\n",
      "98: \n",
      "99:         // Compute reaction rates (needed for Jacobian evaluation)\n",
      "100:         // PREPROCESS_NUM_REACTIONS\n",
      "101: \n",
      "102:         double k[2];\n",
      "103: \n",
      "104:         // PREPROCESS_END\n",
      "105: \n",
      "106:         // PREPROCESS_RATES\n",
      "107: \n",
      "108:         k[0] = 2.0e-12*std::pow(tgas, 0.33000000000000002);\n",
      "109:         k[1] = 9.9999999999999998e-13*std::exp(-1.222*av);\n",
      "110: \n",
      "111:         // PREPROCESS_END\n",
      "112: \n",
      "113:         // Compute analytical Jacobian\n",
      "114:         // PREPROCESS_JACOBIAN\n",
      "115: \n",
      "116:         const double cse0 = k[0]*y[1];\n",
      "117:         const double cse1 = cse0*y[0] - k[1]*y[2];\n",
      "118:         const double cse2 = -cse1;\n",
      "119:         const double cse3 = -cse0;\n",
      "120:         const double cse4 = k[0]*y[0];\n",
      "121:         const double cse5 = -cse4;\n",
      "122:         J[0][0] = cse3;\n",
      "123:         J[0][1] = cse5;\n",
      "124:         J[0][2] = k[1];\n",
      "125:         J[1][0] = cse3;\n",
      "126:         J[1][1] = cse5;\n",
      "127:         J[1][2] = k[1];\n",
      "128:         J[2][0] = cse0;\n",
      "129:         J[2][1] = cse4;\n",
      "130:         J[2][2] = -k[1];\n",
      "131: \n",
      "132:         // PREPROCESS_END\n",
      "133:     }\n",
      "134: };\n"
     ]
    }
   ],
   "source": [
    "# Show the ChemistryODE class definition\n",
    "with open(builds_dir + \"/chemistry_ode.hpp\", 'r') as f:\n",
    "    lines = f.readlines()\n",
    "\n",
    "# Find the class definition\n",
    "class_start = None\n",
    "for i, line in enumerate(lines):\n",
    "    if \"struct ChemistryODE\" in line:\n",
    "        class_start = i\n",
    "        break\n",
    "\n",
    "if class_start:\n",
    "    print(\"ChemistryODE class structure:\")\n",
    "    print(\"=\" * 50)\n",
    "    # Show class definition and methods\n",
    "    brace_count = 0\n",
    "    for i in range(class_start, len(lines)):\n",
    "        line = lines[i].rstrip()\n",
    "        print(f\"{i+1:2d}: {line}\")\n",
    "        \n",
    "        if '{' in line:\n",
    "            brace_count += line.count('{')\n",
    "        if '}' in line:\n",
    "            brace_count -= line.count('}')\n",
    "            if brace_count == 0:\n",
    "                break"
   ]
  },
  {
   "cell_type": "markdown",
   "metadata": {},
   "source": [
    "## Step 6: Building and Running Instructions\n",
    "\n",
    "Here's how to build and run the generated C++ code:"
   ]
  },
  {
   "cell_type": "markdown",
   "metadata": {},
   "source": [
    "* **Configure the build with CMake:**"
   ]
  },
  {
   "cell_type": "code",
   "execution_count": 7,
   "metadata": {},
   "outputs": [
    {
     "name": "stdout",
     "output_type": "stream",
     "text": [
      "-- The CXX compiler identification is AppleClang 17.0.0.17000013\n",
      "-- Detecting CXX compiler ABI info\n",
      "-- Detecting CXX compiler ABI info - done\n",
      "-- Check for working CXX compiler: /usr/bin/c++ - skipped\n",
      "-- Detecting CXX compile features\n",
      "-- Detecting CXX compile features - done\n",
      "-- The Fortran compiler identification is GNU 15.1.0\n",
      "-- Checking whether Fortran compiler has -isysroot\n",
      "-- Checking whether Fortran compiler has -isysroot - yes\n",
      "-- Checking whether Fortran compiler supports OSX deployment target flag\n",
      "-- Checking whether Fortran compiler supports OSX deployment target flag - yes\n",
      "-- Detecting Fortran compiler ABI info\n",
      "-- Detecting Fortran compiler ABI info - done\n",
      "-- Check for working Fortran compiler: /opt/homebrew/bin/gfortran - skipped\n",
      "-- Looking for a CUDA compiler\n",
      "-- Looking for a CUDA compiler - NOTFOUND\n",
      "-- Configuring done (2.4s)\n",
      "-- Generating done (0.0s)\n",
      "-- Build files have been written to: /Users/benwibking/amrex_codes/chemistry/jaff/examples/build\n"
     ]
    }
   ],
   "source": [
    "!   cmake -S . -B build"
   ]
  },
  {
   "cell_type": "code",
   "execution_count": 8,
   "metadata": {},
   "outputs": [],
   "source": [
    "assert(_exit_code == 0)"
   ]
  },
  {
   "cell_type": "markdown",
   "metadata": {},
   "source": [
    "* **Build with parallel compilation:**"
   ]
  },
  {
   "cell_type": "code",
   "execution_count": 9,
   "metadata": {},
   "outputs": [
    {
     "name": "stdout",
     "output_type": "stream",
     "text": [
      "[1/2] Building CXX object CMakeFiles/chemistry_ode.dir/chemistry_ode.cpp.o\u001b[K\n",
      "In file included from /Users/benwibking/amrex_codes/chemistry/jaff/examples/chemistry_ode.cpp:7:\n",
      "/Users/benwibking/amrex_codes/chemistry/jaff/examples/chemistry_ode.hpp:50:22: warning: unused variable 'tdust' [-Wunused-variable]\n",
      "   50 |         const double tdust = DEFAULT_TEMPERATURE;\n",
      "      |                      ^~~~~\n",
      "/Users/benwibking/amrex_codes/chemistry/jaff/examples/chemistry_ode.hpp:52:22: warning: unused variable 'crate' [-Wunused-variable]\n",
      "   52 |         const double crate = DEFAULT_CRATE;  // Cosmic ray ionization rate\n",
      "      |                      ^~~~~\n",
      "/Users/benwibking/amrex_codes/chemistry/jaff/examples/chemistry_ode.hpp:76:22: warning: unused variable 'cse3' [-Wunused-variable]\n",
      "   76 |         const double cse3 = -cse0;\n",
      "      |                      ^~~~\n",
      "/Users/benwibking/amrex_codes/chemistry/jaff/examples/chemistry_ode.hpp:78:22: warning: unused variable 'cse5' [-Wunused-variable]\n",
      "   78 |         const double cse5 = -cse4;\n",
      "      |                      ^~~~\n",
      "/Users/benwibking/amrex_codes/chemistry/jaff/examples/chemistry_ode.hpp:93:22: warning: unused variable 'tdust' [-Wunused-variable]\n",
      "   93 |         const double tdust = DEFAULT_TEMPERATURE;\n",
      "      |                      ^~~~~\n",
      "/Users/benwibking/amrex_codes/chemistry/jaff/examples/chemistry_ode.hpp:95:22: warning: unused variable 'crate' [-Wunused-variable]\n",
      "   95 |         const double crate = DEFAULT_CRATE;  // Cosmic ray ionization rate\n",
      "      |                      ^~~~~\n",
      "/Users/benwibking/amrex_codes/chemistry/jaff/examples/chemistry_ode.hpp:118:22: warning: unused variable 'cse2' [-Wunused-variable]\n",
      "  118 |         const double cse2 = -cse1;\n",
      "      |                      ^~~~\n",
      "/Users/benwibking/amrex_codes/chemistry/jaff/examples/chemistry_ode.cpp:41:30: warning: unused variable 'y' [-Wunused-variable]\n",
      "   41 |     ChemistryODE::state_type y{};\n",
      "      |                              ^\n",
      "8 warnings generated.\n",
      "[2/2] Linking CXX executable chemistry_ode\u001b[K\n"
     ]
    }
   ],
   "source": [
    "!   cmake --build build -j"
   ]
  },
  {
   "cell_type": "code",
   "execution_count": 10,
   "metadata": {},
   "outputs": [],
   "source": [
    "assert(_exit_code == 0)"
   ]
  },
  {
   "cell_type": "markdown",
   "metadata": {},
   "source": [
    "* **Run the chemistry solver:**"
   ]
  },
  {
   "cell_type": "code",
   "execution_count": 11,
   "metadata": {},
   "outputs": [
    {
     "name": "stdout",
     "output_type": "stream",
     "text": [
      "Solving Chemistry ODE System (header-only integrators)\n",
      "Number of species: 3\n",
      "Number of reactions: 2\n",
      "Time interval: [0, 3.15576e+09] seconds\n",
      "Initial conditions:\n",
      "  y[0] = 1e-06\n",
      "  y[1] = 1e-10\n",
      "  y[2] = 1e-10\n",
      "\n",
      "Final solution at t = 3155760000 seconds:\n",
      "  y[0] = 1.000000093e-06\n",
      "  y[1] = 1.000929311e-10\n",
      "  y[2] = 9.990706892e-11\n",
      "\n",
      "Conservation check:\n",
      "  Initial sum: 1.0002e-06\n",
      "  Final sum:   1.000200093e-06\n",
      "  Relative change: 9.291249572e-08\n"
     ]
    }
   ],
   "source": [
    "!   ./build/chemistry_ode"
   ]
  },
  {
   "cell_type": "code",
   "execution_count": 12,
   "metadata": {},
   "outputs": [],
   "source": [
    "assert(_exit_code == 0)"
   ]
  },
  {
   "cell_type": "markdown",
   "metadata": {},
   "source": [
    "* **Or, run with custom time interval (1e12 seconds):**"
   ]
  },
  {
   "cell_type": "code",
   "execution_count": 17,
   "metadata": {},
   "outputs": [
    {
     "name": "stdout",
     "output_type": "stream",
     "text": [
      "Solving Chemistry ODE System (header-only integrators)\n",
      "Number of species: 3\n",
      "Number of reactions: 2\n",
      "Time interval: [0, 1e+15] seconds\n",
      "Initial conditions:\n",
      "  y[0] = 1e-06\n",
      "  y[1] = 1e-10\n",
      "  y[2] = 1e-10\n",
      "\n",
      "Final solution at t = 1e+15 seconds:\n",
      "  y[0] = 1.000099991e-06\n",
      "  y[1] = 1.999910825e-10\n",
      "  y[2] = 8.917475425e-15\n",
      "\n",
      "Conservation check:\n",
      "  Initial sum: 1.0002e-06\n",
      "  Final sum:   1.000299991e-06\n",
      "  Relative change: 9.997108829e-05\n"
     ]
    }
   ],
   "source": [
    "!   ./build/chemistry_ode 1e15"
   ]
  },
  {
   "cell_type": "code",
   "execution_count": 14,
   "metadata": {},
   "outputs": [],
   "source": [
    "assert(_exit_code == 0)"
   ]
  }
 ],
 "metadata": {
  "kernelspec": {
   "display_name": "Python 3 (ipykernel)",
   "language": "python",
   "name": "python3"
  },
  "language_info": {
   "codemirror_mode": {
    "name": "ipython",
    "version": 3
   },
   "file_extension": ".py",
   "mimetype": "text/x-python",
   "name": "python",
   "nbconvert_exporter": "python",
   "pygments_lexer": "ipython3",
   "version": "3.11.9"
  }
 },
 "nbformat": 4,
 "nbformat_minor": 4
}
