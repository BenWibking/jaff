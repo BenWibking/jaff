{
 "cells": [
  {
   "cell_type": "markdown",
   "metadata": {},
   "source": [
    "# Generating C++ Kokkos Chemistry Solvers with JAFF\n",
    "\n",
    "This notebook demonstrates how to use JAFF to generate C++ code that uses the Kokkos-kernels BDF solver for solving chemical reaction networks. We'll use the `react_COthin` network as an example, which contains 37 species.\n",
    "\n",
    "## Overview\n",
    "\n",
    "The Kokkos output plugin generates:\n",
    "- **chemistry_ode.hpp**: Chemistry ODE system class with evaluate_function and evaluate_jacobian methods\n",
    "- **chemistry_ode.cpp**: Main executable that sets up and runs the BDF solver\n",
    "- **CMakeLists.txt**: Build configuration for Kokkos and Kokkos-kernels dependencies\n",
    "\n",
    "The generated code is compatible with the Kokkos-kernels BDF solver for stiff ODEs."
   ]
  },
  {
   "cell_type": "markdown",
   "metadata": {},
   "source": [
    "## Step 1: Load the Chemical Network\n",
    "\n",
    "First, let's load the react_COthin network, which is a carbon-oxygen chemistry network in KROME format."
   ]
  },
  {
   "cell_type": "code",
   "execution_count": 1,
   "metadata": {
    "scrolled": true
   },
   "outputs": [
    {
     "name": "stdout",
     "output_type": "stream",
     "text": [
      "Welcome to JAFF: Just Another Fancy Format!\n",
      "Loading network from ../networks/react_COthin\n",
      "Network label = react_COthin\n"
     ]
    },
    {
     "name": "stderr",
     "output_type": "stream",
     "text": [
      "  3%|██▌                                                                               | 11/350 [00:00<00:03, 97.91it/s]"
     ]
    },
    {
     "name": "stdout",
     "output_type": "stream",
     "text": [
      "KROME variable detected: @var:Hnuclei = get_Hnuclei(n(:))\n",
      "KROME variable detected: @var: Te = Tgas*8.617343d-5\n",
      "KROME variable detected: @var: invT = 1d0/Tgas\n",
      "KROME variable detected: @var: lnTe = log(Te)\n",
      "KROME variable detected: @var: T = Tgas\n",
      "KROME format detected: @format:idx,R,R,R,P,P,P,P,Tmin,Tmax,rate\n",
      "exp(-2.03914985e-6*lnte**8 + 0.000111954395*lnte**7 - 0.00263197617*lnte**6 + 0.0348255977*lnte**5 - 0.2877056*lnte**4 + 1.56315498*lnte**3 - 5.73932875*lnte**2 + 13.536556*lnte - 32.71396786)\n",
      "3.92e-13*invte**0.6353\n",
      "exp(-3.071135243196595e-9*lnte**9 - 1.856767039775261e-8*lnte**8 + 5.755614137575758e-7*lnte**7 + 4.989108920299513e-6*lnte**6 - 1.421502914054107e-5*lnte**5 - 0.0003212605213188796*lnte**4 - 0.002380861877349834*lnte**3 - 0.02026044731984691*lnte**2 - 0.7241125657826851*lnte - 28.61303380689232)\n",
      "exp(-3.64916141e-6*lnte**8 + 0.000206723616*lnte**7 - 0.0050090561*lnte**6 + 0.0679539123*lnte**5 - 0.56851189*lnte**4 + 3.05803875*lnte**3 - 10.7532302*lnte**2 + 23.91596563*lnte - 44.09864886)\n",
      "3.92e-13*invte**0.6353\n",
      "1.54e-9*(1.0 + 0.3/exp(8.099328789667*invte))/((te**1.5*exp(40.49664394833662*invte))) + 3.92e-13/(te**0.6353)\n",
      "exp(-3.165581065665e-6*lnte**8 + 0.0001975705312221*lnte**7 - 0.005324020628287001*lnte**6 + 0.08113042097303*lnte**5 - 0.7692466334492*lnte**4 + 4.701626486759002*lnte**3 - 18.48066993568*lnte**2 + 43.93347632635*lnte - 68.71040990212001)\n",
      "KROME format detected: @format:idx,R,R,R,P,P,P,Tmin,Tmax,rate\n",
      "1.25e-15*t32**0.25\n",
      "1.26e-9*exp(-127500.0*invt)/tgas**0.75\n",
      "4.0e-37*tgas**4.74\n",
      "KROME variable detected: @var:invTe=1d0/Te\n",
      "KROME variable detected: @var:logT=log10(Tgas)\n",
      "KROME variable detected: @var:invsqrT=1d0/sqrt(Tgas)\n",
      "KROME variable detected: @var:kl11 = 1d1**(-27.029d0+3.801d0*logT-29487d0*invT)\n",
      "KROME variable detected: @var:kh11 = 1d1**(-2.729d0-1.75d0*logT-23474d0*invT)\n",
      "KROME variable detected: @var:ncr11 = 1d1**(5.0792d0*(1d0-1.23d-5*(Tgas-2d3)))\n",
      "KROME variable detected: @var:a11=1.d0/(1.d0+(Hnuclei/(ncr11+1d-40)))\n",
      "kh11**(1.0 - a11)*kl11**a11\n"
     ]
    },
    {
     "name": "stderr",
     "output_type": "stream",
     "text": [
      " 11%|█████████                                                                        | 39/350 [00:00<00:02, 104.45it/s]"
     ]
    },
    {
     "name": "stdout",
     "output_type": "stream",
     "text": [
      "7.20000000000000e-15\n",
      "KROME format detected: @format:idx,R,R,R,P,P,P,Tmin,Tmax,rate\n",
      "3.7e-14*exp(35.0*invt)\n",
      "3.0e-11*sqrt(t32)*exp(-52000.0*invt)\n",
      "3.36e-10/(sqrtgas*((tgas*1.0e-6)**0.7 + 1.0)*((tgas*0.001)**0.2))\n",
      "6.77e-15*te**0.8779\n",
      "1.43000000000000e-9\n",
      "exp(2.238306228891639e-7*lnte**7 - 8.36671960467864e-6*lnte**6 + 0.0001073294010367247*lnte**5 - 0.0003105115447124016*lnte**4 - 0.004555120027032095*lnte**3 + 0.03599837721023835*lnte**2 + 0.2289800603272916*lnte - 20.06913897587003)\n",
      "1.85e-23*tgas**1.8\n",
      "5.81e-16/(tgas/56200.0)**(0.6657*log10(tgas/56200.0))\n",
      "6.00000000000000e-10\n",
      "exp(-9.36345888928611e-6*lnte**8 + 0.0004138398421504563*lnte**7 - 0.007879026154483455*lnte**6 + 0.0841077503763412*lnte**5 - 0.5416182856220388*lnte**4 + 2.045587822403071*lnte**3 - 3.898003964650152*lnte**2 + 3.400824447095291*lnte - 24.24914687731536)\n",
      "5.6e-11*tgas**0.5*exp(-102124.0*invt)\n",
      "1.0670825e-10*te**2.012*exp(-4.463*invte)/((0.2472*te + 1.0)**3.512)\n",
      "exp(-2.631285809207e-6*lnte**8 + 0.0001068275202678*lnte**7 - 0.001656194699504*lnte**6 + 0.01178329782711*lnte**5 - 0.03365012031362999*lnte**4 + 0.01623316639567*lnte**3 - 0.2827443061704*lnte**2 + 2.360852208681*lnte - 18.01849334273)\n"
     ]
    },
    {
     "name": "stderr",
     "output_type": "stream",
     "text": [
      " 14%|███████████▋                                                                      | 50/350 [00:00<00:03, 98.77it/s]"
     ]
    },
    {
     "name": "stdout",
     "output_type": "stream",
     "text": [
      "2.56e-9*te**1.78186\n",
      "exp(-8.06838246118e-8*lnte**9 + 2.4555011970392e-6*lnte**8 - 2.585009680264e-5*lnte**7 + 8.66396324309e-5*lnte**6 + 0.0002012250284791*lnte**5 - 0.0014327641212992*lnte**4 + 0.00846445538663*lnte**3 - 0.1421013521554148*lnte**2 + 1.139449335841631*lnte - 20.37260896533324)\n",
      "6.5e-9/(sqrt(te))\n",
      "1.0e-8/tgas**0.4\n",
      "1.00000000000000e-8\n",
      "1.32e-6/tgas**0.76\n",
      "5.0e-7*sqrt(100.0*invt)\n",
      "KROME variable detected: @var:kl21 = 1.18d-10*exp(-6.95d4*invT)\n",
      "KROME variable detected: @var:kh21 = 8.125d-8*invsqrT*exp(-5.2d4*invT)*(1.d0-exp(-6d3*invT))\n",
      "KROME variable detected: @var:ncr21 = 1d1**(4.845d0-1.3d0*log10(T*1d-4)+1.62d0*log10(T*1d-4)**2)\n",
      "KROME variable detected: @var:a21=1.d0/(1.d0+(Hnuclei/(ncr21+1d-40)))\n",
      "kh21**(1.0 - a21)*kl21**a21\n"
     ]
    },
    {
     "name": "stderr",
     "output_type": "stream",
     "text": [
      " 17%|██████████████                                                                    | 60/350 [00:00<00:03, 93.62it/s]"
     ]
    },
    {
     "name": "stdout",
     "output_type": "stream",
     "text": [
      "6.9e-32/tgas**0.4\n",
      "1.3e-32/t32**0.38\n",
      "1.3e-32/t32**1.0\n",
      "1.3e-32/(8.0*t32**0.38)\n",
      "1.3e-32/(8.0*t32**1.0)\n",
      "4.67e-12/t32**0.6\n",
      "1.23e-17*t32**2.49*exp(21845.6*invt)\n",
      "9.62e-8*exp(-115786.2*invt)/t32**1.37\n",
      "7.5e-12/t32**0.55\n",
      "4.86e-12/t32**0.32\n",
      "1.3e-10/tgas**0.64\n",
      "0.00074*(1.0 + 0.062*exp(-145000.0*invt))*exp(-175000.0*invt)/tgas**1.5 + 1.41e-10/tgas**0.66\n",
      "KROME variable detected: @var:u1 = 11.26d0*invTe\n",
      "KROME variable detected: @var:u2 = 8.2d0*invTe\n",
      "KROME variable detected: @var:u3 = 13.6*invTe\n",
      "KROME format detected: @format:idx,R,R,R,P,P,P,P,Tmin,Tmax,rate\n",
      "6.85e-8*u1**0.25*exp(-u1)/(u1 + 0.193)\n",
      "1.88e-7*u2**0.25*(u2**0.5 + 1.0)*exp(-u2)/(u2 + 0.376)\n",
      "3.59e-8*u3**0.34*exp(-u3)/(u3 + 0.073)\n"
     ]
    },
    {
     "name": "stderr",
     "output_type": "stream",
     "text": [
      " 22%|█████████████████▊                                                               | 77/350 [00:00<00:02, 114.57it/s]"
     ]
    },
    {
     "name": "stdout",
     "output_type": "stream",
     "text": [
      "7.54e-10*invt**0.458 + 4.99e-11*tgas**0.405\n",
      "(4.0e-10*tgas**0.00669 + 1.08e-11*tgas**0.517)*exp(-227.0*invt)\n",
      "2.78e-15*exp(-tgas*1.2258e-6)/(tgas*0.0001)**0.2163 + 4.991e-15*(tgas*0.0001)**0.3794*exp(-tgas*8.9206e-7)\n",
      "3.9e-16*tgas**0.213\n",
      "6.08e-14*(tgas*0.0001)**1.96*exp(-170000.0*invt)\n",
      "8.58e-17*tgas**0.757\n",
      "3.25e-17*tgas**0.968\n",
      "2.77e-19*tgas**1.597\n",
      "5.88e-13*tgas**0.848\n",
      "1.45e-13*tgas\n",
      "3.30000000000000e-9\n",
      "2.10000000000000e-9\n",
      "4.1e-10*(tgas*0.0001)**0.24*(3.17*exp(tgas*4.184e-7) + 1.0)*exp(-3.178*invte)\n",
      "1.23e-9*(tgas*0.0001)**0.24*(3.17*exp(tgas*4.184e-7) + 1.0)\n",
      "1.75e-12/(tgas/10000.0)**0.6346\n",
      "6.0e-9*exp(-50900.0*invt)\n",
      "KROME format detected: @format:idx,R,R,P,P,Tmin,Tmax,rate\n",
      "3.00000000000000e-10\n",
      "1.14000000000000e-9\n",
      "8.68e-10*(0.0242717*sqrt(300.0*invt) + 7.1537*invt + 1.0)\n",
      "6.64e-10*exp(-11700.0*invt)\n",
      "1.31e-10*exp(-80.0*invt)\n",
      "5.46e-10*exp(-1943.0*invt)\n",
      "2.40000000000000e-10\n",
      "6.60000000000000e-11\n",
      "1.02e-10*exp(-914.0*invt)\n",
      "1.9e-11*exp(-165.1*invt)/t32**2.2\n",
      "2.52e-11*exp(-2381.0*invt)\n",
      "2.20000000000000e-10\n",
      "KROME format detected: @format:idx,R,R,P,P,P,Tmin,Tmax,rate\n",
      "2.04e-10*exp(-270.0*invt)\n",
      "KROME format detected: @format:idx,R,R,P,P,Tmin,Tmax,rate\n",
      "1.36e-10*exp(-270.0*invt)\n",
      "5.01000000000000e-11\n",
      "4.98e-10*exp(-6000.0*invt)\n"
     ]
    },
    {
     "name": "stderr",
     "output_type": "stream",
     "text": [
      " 32%|█████████████████████████▌                                                      | 112/350 [00:00<00:01, 183.28it/s]"
     ]
    },
    {
     "name": "stdout",
     "output_type": "stream",
     "text": [
      "2.0e-12/t32**0.12\n",
      "2.0e-12*t32**0.757\n",
      "1.46e-12*exp(-9650.0*invt)\n",
      "6.99e-14*t32**2.8*exp(-1950.0*invt)\n",
      "3.6e-16*t**1.52*exp(-1740.0*invt)\n",
      "3.68000000000000e-10\n",
      "2.25e-11*exp(-0.108*invt)/t32**0.339\n",
      "2.4e-11*exp(-110.0*invt)\n",
      "2.42000000000000e-12\n",
      "6.2e-14*t32**2.62*exp(-945.0*invt)\n",
      "1.38000000000000e-12\n",
      "1.65e-12*t32**1.14*exp(-50.0*invt)\n",
      "1.59e-11*t32*1.2*exp(-9610.0*invt)\n",
      "2.61e-10*1.2*exp(-8156.0*invt)\n",
      "3.16e-10*exp(-21890.0*invt)\n",
      "4.7e-11/t32**0.34\n",
      "2.48e-12*t32**1.54*exp(613.0*invt)\n",
      "1.1e-10*t32**0.5*exp(-77700.0*invt)\n",
      "2.24e-9*t32**0.042*exp((-tgas)/46600.0)\n",
      "7.7e-9*exp(-17560.0*invt)\n",
      "2.40000000000000e-9\n",
      "(7.2733e-11*sqrt(tgas) + 5.9203e-14*tgas + 1.0218e-9)/(tgas**0.1667 + 0.044914*sqrt(tgas) - 5.9203e-14*tgas + 2.6397e-6*tgas**1.5)\n",
      "8.5145e-10/(tgas**0.1667 + 0.00095666*sqrt(tgas) - 4.404e-5*tgas + 2.3496e-6*tgas**1.5)\n",
      "1.0e-10*exp(-4640.0*invt)\n",
      "7.50000000000000e-10\n",
      "1.20000000000000e-9\n",
      "3.50000000000000e-10\n",
      "1.0e-9*exp(-7080.0*invt)\n",
      "1.60000000000000e-9\n",
      "7.50000000000000e-10\n",
      "7.0e-10*exp(-10560.0*invt)\n",
      "2.50000000000000e-10\n",
      "2.50000000000000e-10\n",
      "4.80000000000000e-10\n",
      "1.69000000000000e-9\n",
      "1.50000000000000e-9\n",
      "7.98e-10*exp(-1.41*invt)/t32**0.156\n",
      "3.42e-10*exp(-1.41*invt)/t32**0.156\n",
      "2.28000000000000e-8\n"
     ]
    },
    {
     "name": "stderr",
     "output_type": "stream",
     "text": [
      " 42%|█████████████████████████████████▊                                              | 148/350 [00:00<00:00, 235.15it/s]"
     ]
    },
    {
     "name": "stdout",
     "output_type": "stream",
     "text": [
      "1.52e-9*(2.62185*(300.0*invt)**0.5 + 0.62)\n",
      "2.28000000000000e-8\n",
      "9.15e-10*(2.62185*(300.0*invt)**0.5 + 0.62)\n",
      "1.01000000000000e-9\n",
      "6.40000000000000e-10\n",
      "2.55000000000000e-8\n",
      "1.73e-9*(2.578947*(300.0*invt)**0.5 + 0.62)\n",
      "1.80000000000000e-9\n",
      "5.03000000000000e-9\n",
      "3.4093e-10*(2.578947*(300.0*invt)**0.5 + 0.62)\n",
      "2.40000000000000e-10\n",
      "1.00000000000000e-11\n",
      "3.42000000000000e-10\n",
      "4.53000000000000e-10\n",
      "9.10000000000000e-10\n",
      "5.20000000000000e-11\n",
      "5.20000000000000e-11\n",
      "2.47000000000000e-9\n",
      "1.88055e-9*(1.79558*invt + 0.02427*(300.0*invt)**0.5 + 1.0)\n",
      "1.45000000000000e-10\n",
      "1.08256e-10*(1.79558*invt + 0.02427*(300.0*invt)**0.5 + 1.0)\n",
      "1.00000000000000e-9\n",
      "1.23000000000000e-8\n",
      "8.34e-10*(834.16588*invt + 0.5232*(300.0*invt)**0.5 + 1.0)\n",
      "3.30000000000000e-8\n",
      "3.54e-9*(1.587411*(300.0*invt)**0.5 + 0.62)\n",
      "1.765e-9*(0.672147*(300.0*invt)**0.5 + 0.62)\n",
      "1.765e-9*(56.66255*invt + 0.136347*(300.0*invt)**0.5 + 1.0)\n",
      "1.765e-9*(0.672147*(300.0*invt)**0.5 + 0.62)\n",
      "1.765e-9*(56.66255*invt + 0.136347*(300.0*invt)**0.5 + 1.0)\n",
      "KROME format detected: @format:idx,R,R,P,P,P,Tmin,Tmax,rate\n",
      "9.65e-10*(0.672147*(300.0*invt)**0.5 + 0.62)\n",
      "9.65e-10*(56.6625498765*invt + 0.136347*(300.0*invt)**0.5 + 1.0)\n",
      "9.65e-10*(0.672147*(300.0*invt)**0.5 + 0.62)\n",
      "9.65e-10*(56.6625498765*invt + 0.136347*(300.0*invt)**0.5 + 1.0)\n",
      "1.60000000000000e-9\n",
      "KROME format detected: @format:idx,R,R,P,P,Tmin,Tmax,rate\n",
      "3.75000000000000e-8\n",
      "2.5e-9*(2.62185*(300.0*invt)**0.5 + 0.62)\n",
      "KROME format detected: @format:idx,R,R,P,P,P,Tmin,Tmax,rate\n",
      "2.20000000000000e-8\n",
      "1.35e-9*(2.62185*(300.0*invt)**0.5 + 0.62)\n",
      "KROME format detected: @format:idx,R,R,P,P,Tmin,Tmax,rate\n",
      "4.20000000000000e-8\n",
      "2.85e-9*(2.578947*(300.0*invt)**0.5 + 0.62)\n",
      "KROME format detected: @format:idx,R,R,P,P,P,Tmin,Tmax,rate\n",
      "7.56000000000000e-9\n",
      "5.1282e-10*(2.578947*(300.0*invt)**0.5 + 0.62)\n",
      "7.56000000000000e-9\n",
      "5.1282e-10*(2.578947*(300.0*invt)**0.5 + 0.62)\n",
      "KROME format detected: @format:idx,R,R,P,P,Tmin,Tmax,rate\n",
      "7.56000000000000e-9\n",
      "5.1282e-10*(2.578947*(300.0*invt)**0.5 + 0.62)\n",
      "2.00000000000000e-9\n",
      "3.30000000000000e-11\n",
      "KROME format detected: @format:idx,R,R,P,P,P,Tmin,Tmax,rate\n",
      "1.10000000000000e-9\n",
      "1.4e-9/t32**0.5\n",
      "1.4e-16/t32**0.5\n",
      "KROME format detected: @format:idx,R,R,P,P,Tmin,Tmax,rate\n",
      "7.50000000000000e-10\n",
      "2.3e-7/t32**0.5\n",
      "2.3e-7/t32**0.5\n",
      "2.3e-7/t32**0.5\n"
     ]
    },
    {
     "name": "stderr",
     "output_type": "stream",
     "text": [
      " 79%|██████████████████████████████████████████████████████████████▊                 | 275/350 [00:01<00:00, 433.07it/s]"
     ]
    },
    {
     "name": "stdout",
     "output_type": "stream",
     "text": [
      "2.34e-8/t32**0.52\n",
      "KROME format detected: @format:idx,R,R,P,P,P,Tmin,Tmax,rate\n",
      "4.36e-8/t32**0.52\n",
      "KROME format detected: @format:idx,R,R,P,P,Tmin,Tmax,rate\n",
      "7.0e-8/t32**0.5\n",
      "1.6e-7/t32**0.6\n",
      "7.68e-8/t32**0.6\n",
      "KROME format detected: @format:idx,R,R,P,P,P,Tmin,Tmax,rate\n",
      "4.03e-7/t32**0.6\n",
      "KROME format detected: @format:idx,R,R,P,P,Tmin,Tmax,rate\n",
      "7.75e-8/t32**0.5\n",
      "1.95e-7/t32**0.5\n",
      "KROME format detected: @format:idx,R,R,P,P,P,Tmin,Tmax,rate\n",
      "2.0e-7/t32**0.5\n",
      "KROME format detected: @format:idx,R,R,P,P,Tmin,Tmax,rate\n",
      "6.3e-9/t32**0.48\n",
      "3.9e-8/t32**0.5\n",
      "8.6e-8/t32**0.5\n",
      "KROME format detected: @format:idx,R,R,P,P,P,Tmin,Tmax,rate\n",
      "3.05e-7/t32**0.5\n",
      "2.58e-7/t32**0.5\n",
      "5.6e-9/t32**0.5\n",
      "KROME format detected: @format:idx,R,R,P,P,Tmin,Tmax,rate\n",
      "1.08e-7/t32**0.5\n",
      "6.02e-7/t32**0.5\n",
      "1.95e-7/t32**0.7\n",
      "2.75e-7/t32**0.55\n",
      "2.76e-7/t32**0.64\n",
      "2.4e-8/t32**0.64\n",
      "1.1e-7*invt32\n",
      "1.00000000000000e-9\n",
      "1.00000000000000e-10\n",
      "5.00000000000000e-10\n",
      "1.00000000000000e-13\n",
      "5.00000000000000e-10\n",
      "5.00000000000000e-10\n",
      "7.00000000000000e-10\n",
      "7.00000000000000e-10\n",
      "5.00000000000000e-10\n",
      "6.4e-10*exp(-21300.0*invt)\n",
      "KROME format detected: @format:idx,R,R,P,P,P,Tmin,Tmax,rate\n",
      "3.0e-11*t32**0.5*exp(-52000.0*invt)\n",
      "KROME format detected: @format:idx,R,R,P,Tmin,Tmax,rate\n",
      "1.00000000000000e-16\n",
      "KROME format detected: @format:idx,R,R,P,P,Tmin,Tmax,rate\n",
      "2.25000000000000e-15\n",
      "1.00000000000000e-17\n",
      "1.00000000000000e-17\n",
      "4.36e-18*t32**0.35*exp(-161.3*invt)\n",
      "1.00000000000000e-19\n",
      "3.09e-17*t32**0.33*exp(-1629.0*invt)\n",
      "4.46e-16*exp(-4.93/tgas**0.6667)/tgas**0.5\n",
      "2.0e-16*exp(-23.0*invtgas)/t32**1.3\n",
      "2.50000000000000e-18\n",
      "3.14e-18*exp(-68.0*invt)/t32**0.15\n",
      "1.50000000000000e-15\n",
      "9.9e-19/t32**0.38\n",
      "4.9e-20*t32**1.58\n",
      "5.26e-18*exp(-90.0*invt)/t32**5.22\n",
      "KROME format detected: @format:idx,R,R,P,rate\n",
      "KROME variable detected: @var:fA = 1d0/(1d0+1d4*exp(-6d2/(user_Tdust+1d-40)))\n",
      "3.0e-18*fa*hnuclei*sqrt(tgas)/((8.0e-6*tgas**2 + 0.002*tgas + 0.04*sqrt(tgas + user_tdust) + 1.0)*n(idx_h))\n",
      "KROME format detected: @format:idx,R,P,P,rate\n",
      "7.1e-7*exp(-0.5*user_av)\n",
      "1.1e-9*exp(-1.9*user_av)\n",
      "KROME variable detected: @var: user_H2self = fselfH2(1.87d21*(merge(n(idx_H2),n_global(idx_H2),n(idx_H2) > 0.0_8)*1d-3)**(2./3.), 1d5)\n"
     ]
    },
    {
     "name": "stderr",
     "output_type": "stream",
     "text": [
      " 91%|█████████████████████████████████████████████████████████████████████████▏      | 320/350 [00:01<00:00, 437.29it/s]"
     ]
    },
    {
     "name": "stdout",
     "output_type": "stream",
     "text": [
      "5.6e-11*user_h2self*exp(-3.74*user_av)\n",
      "4.9e-13*exp(-1.8*user_av)\n",
      "4.9e-13*exp(-2.3*user_av)\n",
      "3.1e-10*exp(-3.0*user_av)\n",
      "2.4e-7*exp(-0.9*user_av)\n",
      "8.7e-10*exp(-1.2*user_av)\n",
      "7.7e-10*exp(-2.8*user_av)\n",
      "2.6e-10*exp(-2.5*user_av)\n",
      "7.1e-10*exp(-1.7*user_av)\n",
      "5.9e-10*exp(-2.3*user_av)\n",
      "4.6e-10*exp(-1.7*user_av)\n",
      "1.0e-9*exp(-1.7*user_av)\n",
      "1.0e-9*exp(-1.7*user_av)\n",
      "1.5e-10*exp(-2.1*user_av)\n",
      "2.4e-7*exp(-0.5*user_av)\n",
      "3.7e-10*exp(-1.7*user_av)\n",
      "1.6e-12*exp(-3.1*user_av)\n",
      "1.0e-12*exp(-1.8*user_av)\n",
      "6.0e-10*exp(-1.7*user_av)\n",
      "3.2e-11*exp(-3.9*user_av)\n",
      "KROME variable detected: @var: HnOj = fHnOj(user_Av)\n",
      "5.0e-11*hnoj\n",
      "5.0e-11*hnoj\n",
      "5.0e-11*hnoj\n",
      "1.5e-10*hnoj\n",
      "2.5e-11*hnoj\n",
      "2.5e-11*hnoj\n",
      "7.5e-12*hnoj\n",
      "2.5e-11*hnoj\n",
      "5.6e-11*exp(-3.7*user_av)\n",
      "7.0e-10*exp(-1.8*user_av)\n",
      "2.0e-10*exp(-3.53*user_av)\n",
      "0.46*crate\n",
      "0.5*crate\n",
      "2.8*crate\n",
      "5.0*crate\n",
      "3.0*crate\n",
      "237.0*crate\n",
      "0.1*crate\n",
      "0.0003*crate\n",
      "0.93*crate\n",
      "1020.0*crate\n",
      "730.0*crate\n",
      "750.0*crate\n"
     ]
    },
    {
     "name": "stderr",
     "output_type": "stream",
     "text": [
      "100%|████████████████████████████████████████████████████████████████████████████████| 350/350 [00:01<00:00, 273.16it/s]\n"
     ]
    },
    {
     "name": "stdout",
     "output_type": "stream",
     "text": [
      "117.0*crate\n",
      "510.0*crate\n",
      "500.0*crate\n",
      "970.0*crate\n",
      "421.0*crate\n",
      "1170.0*crate\n",
      "KROME format detected: @format:idx,R,P,P,P,rate\n",
      "0.93*crate\n",
      "KROME variable detected: @var:ntot=sum(n(1:nmols))\n",
      "WARNING: could not parse variable (invalid syntax (<unknown>, line 1)), using string instead\n",
      "KROME format detected: @format:idx,R,R,P,Tmin,Tmax,rate\n",
      "5.99e-33*ntot/(tgas/5000.0)**1.6\n",
      "WARNING: variable ntot not replaced because it is a string, not a sympy expression\n",
      "5.99e-33*ntot*exp(5255.0/tgas)/(tgas/5000.0)**0.64\n",
      "WARNING: variable ntot not replaced because it is a string, not a sympy expression\n",
      "6.16e-29*ntot/(tgas/300.0)**3.08\n",
      "WARNING: variable ntot not replaced because it is a string, not a sympy expression\n",
      "2.14e-29*ntot*exp(2114.0/tgas)/(tgas/300.0)**3.08\n",
      "WARNING: variable ntot not replaced because it is a string, not a sympy expression\n",
      "6.16e-27*ntot/(tgas/300.0)**3.08\n",
      "WARNING: variable ntot not replaced because it is a string, not a sympy expression\n",
      "2.14e-27*ntot*exp(2114.0/tgas)/(tgas/300.0)**3.08\n",
      "WARNING: variable ntot not replaced because it is a string, not a sympy expression\n",
      "6.16e-27*ntot/(tgas/300.0)**3.08\n",
      "WARNING: variable ntot not replaced because it is a string, not a sympy expression\n",
      "2.14e-27*ntot*exp(2114.0/tgas)/(tgas/300.0)**3.08\n",
      "WARNING: variable ntot not replaced because it is a string, not a sympy expression\n",
      "4.33e-32*ntot/t32\n",
      "WARNING: variable ntot not replaced because it is a string, not a sympy expression\n",
      "2.56e-31*ntot/t32**2\n",
      "WARNING: variable ntot not replaced because it is a string, not a sympy expression\n",
      "9.2e-34*ntot/t32\n",
      "WARNING: variable ntot not replaced because it is a string, not a sympy expression\n",
      "Variables found: ['av', 'crate', 'tdust', 'tgas']\n",
      "Loaded 287 reactions\n",
      "Lodaded 0 photo-chemistry reactions\n",
      "WARNING: isomer detected: HOC+ HCO+\n",
      "WARNING: duplicate reaction found: O + H -> OH\n",
      "WARNING: duplicate reaction found: O + O -> O2\n",
      "WARNING: duplicate reaction found: OH + H -> H2O\n",
      "All done!\n",
      "Network loaded: react_COthin\n",
      "Number of species: 37\n",
      "Number of reactions: 287\n"
     ]
    }
   ],
   "source": [
    "from jaff.network import Network\n",
    "from jaff.builder import Builder\n",
    "import os\n",
    "\n",
    "# Load the test2 network\n",
    "network = Network(\"../networks/react_COthin\")\n",
    "\n",
    "print(f\"Network loaded: {network.label}\")\n",
    "print(f\"Number of species: {network.get_number_of_species()}\")\n",
    "print(f\"Number of reactions: {len(network.reactions)}\")"
   ]
  },
  {
   "cell_type": "markdown",
   "metadata": {},
   "source": [
    "## Step 2: Examine Network Properties\n",
    "\n",
    "Let's examine some properties of the network to understand what we're working with."
   ]
  },
  {
   "cell_type": "code",
   "execution_count": 2,
   "metadata": {},
   "outputs": [
    {
     "name": "stdout",
     "output_type": "stream",
     "text": [
      "  0: H (mass: 1.67e-24, charge: 0)\n",
      "  1: e- (mass: 9.11e-28, charge: -1)\n",
      "  2: H+ (mass: 1.67e-24, charge: 1)\n",
      "  3: He (mass: 6.65e-24, charge: 0)\n",
      "  4: He+ (mass: 6.65e-24, charge: 1)\n",
      "  5: He++ (mass: 6.65e-24, charge: 2)\n",
      "  6: H2 (mass: 3.35e-24, charge: 0)\n",
      "  7: H2+ (mass: 3.35e-24, charge: 1)\n",
      "  8: H- (mass: 1.67e-24, charge: -1)\n",
      "  9: C+ (mass: 1.99e-23, charge: 1)\n",
      "  10: C (mass: 1.99e-23, charge: 0)\n",
      "  11: Si+ (mass: 4.66e-23, charge: 1)\n",
      "  12: Si (mass: 4.66e-23, charge: 0)\n",
      "  13: O+ (mass: 2.66e-23, charge: 1)\n",
      "  14: O (mass: 2.66e-23, charge: 0)\n",
      "  15: Si++ (mass: 4.66e-23, charge: 2)\n",
      "  16: OH (mass: 2.82e-23, charge: 0)\n",
      "  17: HOC+ (mass: 4.82e-23, charge: 1)\n",
      "  18: HCO+ (mass: 4.82e-23, charge: 1)\n",
      "  19: CO (mass: 4.65e-23, charge: 0)\n",
      "  20: CH (mass: 2.16e-23, charge: 0)\n",
      "  21: CH2 (mass: 2.33e-23, charge: 0)\n",
      "  22: C2 (mass: 3.99e-23, charge: 0)\n",
      "  23: HCO (mass: 4.82e-23, charge: 0)\n",
      "  24: H2O (mass: 2.99e-23, charge: 0)\n",
      "  25: O2 (mass: 5.31e-23, charge: 0)\n",
      "  26: H3+ (mass: 5.02e-24, charge: 1)\n",
      "  27: CH+ (mass: 2.16e-23, charge: 1)\n",
      "  28: CH2+ (mass: 2.33e-23, charge: 1)\n",
      "  29: CO+ (mass: 4.65e-23, charge: 1)\n",
      "  30: CH3+ (mass: 2.50e-23, charge: 1)\n",
      "  31: OH+ (mass: 2.82e-23, charge: 1)\n",
      "  32: H2O+ (mass: 2.99e-23, charge: 1)\n",
      "  33: H3O+ (mass: 3.16e-23, charge: 1)\n",
      "  34: O2+ (mass: 5.31e-23, charge: 1)\n",
      "  35: C- (mass: 1.99e-23, charge: -1)\n",
      "  36: O- (mass: 2.66e-23, charge: -1)\n",
      "\n",
      "Total species: 37\n"
     ]
    }
   ],
   "source": [
    "for i, species in enumerate(network.species):\n",
    "    print(f\"  {i}: {species.name} (mass: {species.mass:.2e}, charge: {species.charge})\")\n",
    "\n",
    "print(f\"\\nTotal species: {len(network.species)}\")"
   ]
  },
  {
   "cell_type": "code",
   "execution_count": 3,
   "metadata": {
    "scrolled": true
   },
   "outputs": [
    {
     "name": "stdout",
     "output_type": "stream",
     "text": [
      "  1: H + e- -> H+ + e- + e-\n",
      "      Rate: 5.90824386372651e-70*exp(-2.03914985e-6*log(8.617343e-5*Max(2.73, Min(100000000.0, tgas)))**8 + 0.000111954395*log(8.617343e-5*Max(2.73, Min(100000000.0, tgas)))**7 - 0.00263197617*log(8.617343e-5*Max(2.73, Min(100000000.0, tgas)))**6 + 0.0348255977*log(8.617343e-5*Max(2.73, Min(100000000.0, tgas)))**5 - 0.2877056*log(8.617343e-5*Max(2.73, Min(100000000.0, tgas)))**4 + 1.56315498*log(8.617343e-5*Max(2.73, Min(100000000.0, tgas)))**3 - 5.73932875*log(8.617343e-5*Max(2.73, Min(100000000.0, tgas)))**2)*Max(2.73, Min(100000000.0, tgas))**13.536556\n",
      "\n",
      "  2: H+ + e- -> H\n",
      "      Rate: 1.49810881307214e-10/Max(2.73, Min(5500.0, tgas))**0.6353\n",
      "\n",
      "  3: H+ + e- -> H\n",
      "      Rate: 3.286733702438273e-10*exp(-3.071135243196595e-9*log(8.617343e-5*Max(5500.0, Min(100000000.0, tgas)))**9 - 1.856767039775261e-8*log(8.617343e-5*Max(5500.0, Min(100000000.0, tgas)))**8 + 5.755614137575758e-7*log(8.617343e-5*Max(5500.0, Min(100000000.0, tgas)))**7 + 4.989108920299513e-6*log(8.617343e-5*Max(5500.0, Min(100000000.0, tgas)))**6 - 1.421502914054107e-5*log(8.617343e-5*Max(5500.0, Min(100000000.0, tgas)))**5 - 0.0003212605213188796*log(8.617343e-5*Max(5500.0, Min(100000000.0, tgas)))**4 - 0.002380861877349834*log(8.617343e-5*Max(5500.0, Min(100000000.0, tgas)))**3 - 0.02026044731984691*log(8.617343e-5*Max(5500.0, Min(100000000.0, tgas)))**2)/Max(5500.0, Min(100000000.0, tgas))**0.7241125657826851\n",
      "\n",
      "  4: He + e- -> He+ + e- + e-\n",
      "      Rate: 4.35240791147676e-117*exp(-3.64916141e-6*log(8.617343e-5*Max(2.73, Min(100000000.0, tgas)))**8 + 0.000206723616*log(8.617343e-5*Max(2.73, Min(100000000.0, tgas)))**7 - 0.0050090561*log(8.617343e-5*Max(2.73, Min(100000000.0, tgas)))**6 + 0.0679539123*log(8.617343e-5*Max(2.73, Min(100000000.0, tgas)))**5 - 0.56851189*log(8.617343e-5*Max(2.73, Min(100000000.0, tgas)))**4 + 3.05803875*log(8.617343e-5*Max(2.73, Min(100000000.0, tgas)))**3 - 10.7532302*log(8.617343e-5*Max(2.73, Min(100000000.0, tgas)))**2)*Max(2.73, Min(100000000.0, tgas))**23.91596563\n",
      "\n",
      "  5: He+ + e- -> He\n",
      "      Rate: 1.49810881307214e-10/Max(2.73, Min(9280.0, tgas))**0.6353\n",
      "\n",
      "  6: He+ + e- -> He\n",
      "      Rate: 0.0019251326128586*(1.0 + 0.3*exp(-93988.7015019247/Max(9280.0, Min(100000000.0, tgas))))*exp(-469943.5075096421/Max(9280.0, Min(100000000.0, tgas)))/Max(9280.0, Min(100000000.0, tgas))**1.5 + 1.49810881307214e-10/Max(9280.0, Min(100000000.0, tgas))**0.6353\n",
      "\n",
      "  7: He+ + e- -> He++ + e- + e-\n",
      "      Rate: 3.857187335968145e-209*exp(-3.165581065665e-6*log(8.617343e-5*Max(2.73, Min(100000000.0, tgas)))**8 + 0.0001975705312221*log(8.617343e-5*Max(2.73, Min(100000000.0, tgas)))**7 - 0.005324020628287001*log(8.617343e-5*Max(2.73, Min(100000000.0, tgas)))**6 + 0.08113042097303*log(8.617343e-5*Max(2.73, Min(100000000.0, tgas)))**5 - 0.7692466334492*log(8.617343e-5*Max(2.73, Min(100000000.0, tgas)))**4 + 4.701626486759002*log(8.617343e-5*Max(2.73, Min(100000000.0, tgas)))**3 - 18.48066993568*log(8.617343e-5*Max(2.73, Min(100000000.0, tgas)))**2)*Max(2.73, Min(100000000.0, tgas))**43.93347632635\n",
      "\n",
      "  8: He+ + H -> He + H+\n",
      "      Rate: 3.00351426766844e-16*tgas**0.25\n",
      "\n",
      "  9: He + H+ -> He+ + H\n",
      "      Rate: 1.26e-9*exp(-127500.0/Min(10000.0, tgas))/Min(10000.0, tgas)**0.75\n",
      "\n",
      "  10: He + H+ -> He+ + H\n",
      "      Rate: 4.0e-37*Max(10000.0, tgas)**4.74\n",
      "\n"
     ]
    }
   ],
   "source": [
    "# Show a few example reactions\n",
    "for i, reaction in enumerate(network.reactions[:10]):\n",
    "    reactants = \" + \".join([f\"{r.name}\" for r in reaction.reactants])\n",
    "    products = \" + \".join([f\"{p.name}\" for p in reaction.products])\n",
    "    print(f\"  {i+1}: {reactants} -> {products}\")\n",
    "    print(f\"      Rate: {reaction.rate}\")\n",
    "    print()"
   ]
  },
  {
   "cell_type": "markdown",
   "metadata": {},
   "source": [
    "## Step 3: Generate C++ Kokkos Code\n",
    "\n",
    "Now let's use the Builder to generate C++ code using the `kokkos_ode` template."
   ]
  },
  {
   "cell_type": "code",
   "execution_count": 4,
   "metadata": {},
   "outputs": [
    {
     "name": "stdout",
     "output_type": "stream",
     "text": [
      "Building network with template: kokkos_ode\n"
     ]
    },
    {
     "ename": "IndexException",
     "evalue": "\nRange is not defined for all indices in: nden[0]",
     "output_type": "error",
     "traceback": [
      "\u001b[31m---------------------------------------------------------------------------\u001b[39m",
      "\u001b[31mIndexException\u001b[39m                            Traceback (most recent call last)",
      "\u001b[36mCell\u001b[39m\u001b[36m \u001b[39m\u001b[32mIn[4]\u001b[39m\u001b[32m, line 3\u001b[39m\n\u001b[32m      1\u001b[39m \u001b[38;5;66;03m# Create builder and generate Kokkos C++ code\u001b[39;00m\n\u001b[32m      2\u001b[39m builder = Builder(network)\n\u001b[32m----> \u001b[39m\u001b[32m3\u001b[39m builds_dir = \u001b[43mbuilder\u001b[49m\u001b[43m.\u001b[49m\u001b[43mbuild\u001b[49m\u001b[43m(\u001b[49m\u001b[43mtemplate\u001b[49m\u001b[43m=\u001b[49m\u001b[33;43m\"\u001b[39;49m\u001b[33;43mkokkos_ode\u001b[39;49m\u001b[33;43m\"\u001b[39;49m\u001b[43m)\u001b[49m\n\u001b[32m      5\u001b[39m \u001b[38;5;28mprint\u001b[39m(\u001b[33m\"\u001b[39m\u001b[38;5;130;01m\\n\u001b[39;00m\u001b[33mC++ Kokkos code generated successfully!\u001b[39m\u001b[33m\"\u001b[39m)\n\u001b[32m      6\u001b[39m \u001b[38;5;28mprint\u001b[39m(\u001b[33mf\u001b[39m\u001b[33m\"\u001b[39m\u001b[33mGenerated files are located at \u001b[39m\u001b[38;5;132;01m{\u001b[39;00mbuilds_dir\u001b[38;5;132;01m}\u001b[39;00m\u001b[33m\"\u001b[39m)\n",
      "\u001b[36mFile \u001b[39m\u001b[32m~/amrex_codes/chemistry/jaff/src/jaff/builder.py:32\u001b[39m, in \u001b[36mBuilder.build\u001b[39m\u001b[34m(self, template, output_dir)\u001b[39m\n\u001b[32m     28\u001b[39m     sys.exit(\u001b[32m1\u001b[39m)\n\u001b[32m     30\u001b[39m \u001b[38;5;66;03m# call the main function of the module to preprocess the files\u001b[39;00m\n\u001b[32m     31\u001b[39m \u001b[38;5;66;03m# the definition of the main function is in the plugin folder\u001b[39;00m\n\u001b[32m---> \u001b[39m\u001b[32m32\u001b[39m \u001b[43mmodule\u001b[49m\u001b[43m.\u001b[49m\u001b[43mmain\u001b[49m\u001b[43m(\u001b[49m\u001b[38;5;28;43mself\u001b[39;49m\u001b[43m.\u001b[49m\u001b[43mnetwork\u001b[49m\u001b[43m,\u001b[49m\u001b[43m \u001b[49m\u001b[43mpath_template\u001b[49m\u001b[43m=\u001b[49m\u001b[43mpath_template\u001b[49m\u001b[43m,\u001b[49m\u001b[43m \u001b[49m\u001b[43mpath_build\u001b[49m\u001b[43m=\u001b[49m\u001b[43mpath_build\u001b[49m\u001b[43m)\u001b[49m\n\u001b[32m     34\u001b[39m \u001b[38;5;28mprint\u001b[39m(\u001b[33mf\u001b[39m\u001b[33m\"\u001b[39m\u001b[33mNetwork built successfully using template \u001b[39m\u001b[33m'\u001b[39m\u001b[38;5;132;01m{\u001b[39;00mtemplate\u001b[38;5;132;01m}\u001b[39;00m\u001b[33m'\u001b[39m\u001b[33m.\u001b[39m\u001b[33m\"\u001b[39m)\n\u001b[32m     35\u001b[39m \u001b[38;5;28mprint\u001b[39m(\u001b[33mf\u001b[39m\u001b[33m\"\u001b[39m\u001b[33mOutput files are located in: \u001b[39m\u001b[38;5;132;01m{\u001b[39;00mpath_build\u001b[38;5;132;01m}\u001b[39;00m\u001b[33m\"\u001b[39m)\n",
      "\u001b[36mFile \u001b[39m\u001b[32m~/amrex_codes/chemistry/jaff/src/jaff/plugins/kokkos_ode/plugin.py:29\u001b[39m, in \u001b[36mmain\u001b[39m\u001b[34m(network, path_template, path_build)\u001b[39m\n\u001b[32m     26\u001b[39m scommons = scommons + \u001b[33m\"\u001b[39m\u001b[38;5;130;01m\\n\u001b[39;00m\u001b[33m\"\u001b[39m + chemistry_vars\n\u001b[32m     28\u001b[39m \u001b[38;5;66;03m# Get reaction rates with C++ syntax and CSE optimization\u001b[39;00m\n\u001b[32m---> \u001b[39m\u001b[32m29\u001b[39m rates = \u001b[43mnetwork\u001b[49m\u001b[43m.\u001b[49m\u001b[43mget_rates\u001b[49m\u001b[43m(\u001b[49m\u001b[43midx_offset\u001b[49m\u001b[43m=\u001b[49m\u001b[32;43m0\u001b[39;49m\u001b[43m,\u001b[49m\u001b[43m \u001b[49m\u001b[43mrate_variable\u001b[49m\u001b[43m=\u001b[49m\u001b[33;43m\"\u001b[39;49m\u001b[33;43mk\u001b[39;49m\u001b[33;43m\"\u001b[39;49m\u001b[43m,\u001b[49m\u001b[43m \u001b[49m\u001b[43mlanguage\u001b[49m\u001b[43m=\u001b[49m\u001b[33;43m\"\u001b[39;49m\u001b[33;43mc++\u001b[39;49m\u001b[33;43m\"\u001b[39;49m\u001b[43m,\u001b[49m\u001b[43m \u001b[49m\u001b[43muse_cse\u001b[49m\u001b[43m=\u001b[49m\u001b[38;5;28;43;01mTrue\u001b[39;49;00m\u001b[43m)\u001b[49m\n\u001b[32m     31\u001b[39m \u001b[38;5;66;03m# Generate symbolic ODE and analytical Jacobian\u001b[39;00m\n\u001b[32m     32\u001b[39m sode, jacobian = network.get_symbolic_ode_and_jacobian(idx_offset=\u001b[32m0\u001b[39m, use_cse=\u001b[38;5;28;01mTrue\u001b[39;00m, language=\u001b[33m\"\u001b[39m\u001b[33mc++\u001b[39m\u001b[33m\"\u001b[39m)\n",
      "\u001b[36mFile \u001b[39m\u001b[32m~/amrex_codes/chemistry/jaff/src/jaff/network.py:678\u001b[39m, in \u001b[36mNetwork.get_rates\u001b[39m\u001b[34m(self, idx_offset, rate_variable, language, use_cse)\u001b[39m\n\u001b[32m    676\u001b[39m     rates += \u001b[33m\"\u001b[39m\u001b[33m// Common subexpressions\u001b[39m\u001b[38;5;130;01m\\n\u001b[39;00m\u001b[33m\"\u001b[39m\n\u001b[32m    677\u001b[39m \u001b[38;5;28;01mfor\u001b[39;00m i, (var, expr) \u001b[38;5;129;01min\u001b[39;00m \u001b[38;5;28menumerate\u001b[39m(replacements):\n\u001b[32m--> \u001b[39m\u001b[32m678\u001b[39m     cpp_expr = \u001b[43mcxxcode\u001b[49m\u001b[43m(\u001b[49m\u001b[43mexpr\u001b[49m\u001b[43m,\u001b[49m\u001b[43m \u001b[49m\u001b[43mstrict\u001b[49m\u001b[43m=\u001b[49m\u001b[38;5;28;43;01mFalse\u001b[39;49;00m\u001b[43m)\u001b[49m.replace(\u001b[33m\"\u001b[39m\u001b[33mstd::\u001b[39m\u001b[33m\"\u001b[39m, \u001b[33m\"\u001b[39m\u001b[33mKokkos::\u001b[39m\u001b[33m\"\u001b[39m)\n\u001b[32m    679\u001b[39m     rates += \u001b[33mf\u001b[39m\u001b[33m\"\u001b[39m\u001b[33mconst double \u001b[39m\u001b[38;5;132;01m{\u001b[39;00mvar\u001b[38;5;132;01m}\u001b[39;00m\u001b[33m = \u001b[39m\u001b[38;5;132;01m{\u001b[39;00mcpp_expr\u001b[38;5;132;01m}\u001b[39;00m\u001b[33m;\u001b[39m\u001b[38;5;130;01m\\n\u001b[39;00m\u001b[33m\"\u001b[39m\n\u001b[32m    681\u001b[39m \u001b[38;5;28;01mif\u001b[39;00m replacements:\n",
      "\u001b[36mFile \u001b[39m\u001b[32m~/amrex_codes/chemistry/jaff/.venv/lib/python3.11/site-packages/sympy/printing/codeprinter.py:917\u001b[39m, in \u001b[36mcxxcode\u001b[39m\u001b[34m(expr, assign_to, standard, **settings)\u001b[39m\n\u001b[32m    915\u001b[39m \u001b[38;5;250m\u001b[39m\u001b[33;03m\"\"\" C++ equivalent of :func:`~.ccode`. \"\"\"\u001b[39;00m\n\u001b[32m    916\u001b[39m \u001b[38;5;28;01mfrom\u001b[39;00m\u001b[38;5;250m \u001b[39m\u001b[34;01msympy\u001b[39;00m\u001b[34;01m.\u001b[39;00m\u001b[34;01mprinting\u001b[39;00m\u001b[34;01m.\u001b[39;00m\u001b[34;01mcxx\u001b[39;00m\u001b[38;5;250m \u001b[39m\u001b[38;5;28;01mimport\u001b[39;00m cxx_code_printers\n\u001b[32m--> \u001b[39m\u001b[32m917\u001b[39m \u001b[38;5;28;01mreturn\u001b[39;00m \u001b[43mcxx_code_printers\u001b[49m\u001b[43m[\u001b[49m\u001b[43mstandard\u001b[49m\u001b[43m.\u001b[49m\u001b[43mlower\u001b[49m\u001b[43m(\u001b[49m\u001b[43m)\u001b[49m\u001b[43m]\u001b[49m\u001b[43m(\u001b[49m\u001b[43msettings\u001b[49m\u001b[43m)\u001b[49m\u001b[43m.\u001b[49m\u001b[43mdoprint\u001b[49m\u001b[43m(\u001b[49m\u001b[43mexpr\u001b[49m\u001b[43m,\u001b[49m\u001b[43m \u001b[49m\u001b[43massign_to\u001b[49m\u001b[43m)\u001b[49m\n",
      "\u001b[36mFile \u001b[39m\u001b[32m~/amrex_codes/chemistry/jaff/.venv/lib/python3.11/site-packages/sympy/printing/codeprinter.py:172\u001b[39m, in \u001b[36mCodePrinter.doprint\u001b[39m\u001b[34m(self, expr, assign_to)\u001b[39m\n\u001b[32m    169\u001b[39m \u001b[38;5;28mself\u001b[39m._not_supported = \u001b[38;5;28mset\u001b[39m()\n\u001b[32m    170\u001b[39m \u001b[38;5;28mself\u001b[39m._number_symbols = \u001b[38;5;28mset\u001b[39m()\n\u001b[32m--> \u001b[39m\u001b[32m172\u001b[39m lines = \u001b[38;5;28;43mself\u001b[39;49m\u001b[43m.\u001b[49m\u001b[43m_print\u001b[49m\u001b[43m(\u001b[49m\u001b[43mexpr\u001b[49m\u001b[43m)\u001b[49m.splitlines()\n\u001b[32m    174\u001b[39m \u001b[38;5;66;03m# format the output\u001b[39;00m\n\u001b[32m    175\u001b[39m \u001b[38;5;28;01mif\u001b[39;00m \u001b[38;5;28mself\u001b[39m._settings[\u001b[33m\"\u001b[39m\u001b[33mhuman\u001b[39m\u001b[33m\"\u001b[39m]:\n",
      "\u001b[36mFile \u001b[39m\u001b[32m~/amrex_codes/chemistry/jaff/.venv/lib/python3.11/site-packages/sympy/printing/printer.py:332\u001b[39m, in \u001b[36mPrinter._print\u001b[39m\u001b[34m(self, expr, **kwargs)\u001b[39m\n\u001b[32m    330\u001b[39m     printmethod = \u001b[38;5;28mgetattr\u001b[39m(\u001b[38;5;28mself\u001b[39m, printmethodname, \u001b[38;5;28;01mNone\u001b[39;00m)\n\u001b[32m    331\u001b[39m     \u001b[38;5;28;01mif\u001b[39;00m printmethod \u001b[38;5;129;01mis\u001b[39;00m \u001b[38;5;129;01mnot\u001b[39;00m \u001b[38;5;28;01mNone\u001b[39;00m:\n\u001b[32m--> \u001b[39m\u001b[32m332\u001b[39m         \u001b[38;5;28;01mreturn\u001b[39;00m \u001b[43mprintmethod\u001b[49m\u001b[43m(\u001b[49m\u001b[43mexpr\u001b[49m\u001b[43m,\u001b[49m\u001b[43m \u001b[49m\u001b[43m*\u001b[49m\u001b[43m*\u001b[49m\u001b[43mkwargs\u001b[49m\u001b[43m)\u001b[49m\n\u001b[32m    333\u001b[39m \u001b[38;5;66;03m# Unknown object, fall back to the emptyPrinter.\u001b[39;00m\n\u001b[32m    334\u001b[39m \u001b[38;5;28;01mreturn\u001b[39;00m \u001b[38;5;28mself\u001b[39m.emptyPrinter(expr)\n",
      "\u001b[36mFile \u001b[39m\u001b[32m~/amrex_codes/chemistry/jaff/.venv/lib/python3.11/site-packages/sympy/printing/str.py:58\u001b[39m, in \u001b[36mStrPrinter._print_Add\u001b[39m\u001b[34m(self, expr, order)\u001b[39m\n\u001b[32m     56\u001b[39m l = []\n\u001b[32m     57\u001b[39m \u001b[38;5;28;01mfor\u001b[39;00m term \u001b[38;5;129;01min\u001b[39;00m terms:\n\u001b[32m---> \u001b[39m\u001b[32m58\u001b[39m     t = \u001b[38;5;28;43mself\u001b[39;49m\u001b[43m.\u001b[49m\u001b[43m_print\u001b[49m\u001b[43m(\u001b[49m\u001b[43mterm\u001b[49m\u001b[43m)\u001b[49m\n\u001b[32m     59\u001b[39m     \u001b[38;5;28;01mif\u001b[39;00m t.startswith(\u001b[33m'\u001b[39m\u001b[33m-\u001b[39m\u001b[33m'\u001b[39m) \u001b[38;5;129;01mand\u001b[39;00m \u001b[38;5;129;01mnot\u001b[39;00m term.is_Add:\n\u001b[32m     60\u001b[39m         sign = \u001b[33m\"\u001b[39m\u001b[33m-\u001b[39m\u001b[33m\"\u001b[39m\n",
      "\u001b[36mFile \u001b[39m\u001b[32m~/amrex_codes/chemistry/jaff/.venv/lib/python3.11/site-packages/sympy/printing/printer.py:332\u001b[39m, in \u001b[36mPrinter._print\u001b[39m\u001b[34m(self, expr, **kwargs)\u001b[39m\n\u001b[32m    330\u001b[39m     printmethod = \u001b[38;5;28mgetattr\u001b[39m(\u001b[38;5;28mself\u001b[39m, printmethodname, \u001b[38;5;28;01mNone\u001b[39;00m)\n\u001b[32m    331\u001b[39m     \u001b[38;5;28;01mif\u001b[39;00m printmethod \u001b[38;5;129;01mis\u001b[39;00m \u001b[38;5;129;01mnot\u001b[39;00m \u001b[38;5;28;01mNone\u001b[39;00m:\n\u001b[32m--> \u001b[39m\u001b[32m332\u001b[39m         \u001b[38;5;28;01mreturn\u001b[39;00m \u001b[43mprintmethod\u001b[49m\u001b[43m(\u001b[49m\u001b[43mexpr\u001b[49m\u001b[43m,\u001b[49m\u001b[43m \u001b[49m\u001b[43m*\u001b[49m\u001b[43m*\u001b[49m\u001b[43mkwargs\u001b[49m\u001b[43m)\u001b[49m\n\u001b[32m    333\u001b[39m \u001b[38;5;66;03m# Unknown object, fall back to the emptyPrinter.\u001b[39;00m\n\u001b[32m    334\u001b[39m \u001b[38;5;28;01mreturn\u001b[39;00m \u001b[38;5;28mself\u001b[39m.emptyPrinter(expr)\n",
      "\u001b[36mFile \u001b[39m\u001b[32m~/amrex_codes/chemistry/jaff/.venv/lib/python3.11/site-packages/sympy/printing/c.py:317\u001b[39m, in \u001b[36mC89CodePrinter._print_Indexed\u001b[39m\u001b[34m(self, expr)\u001b[39m\n\u001b[32m    314\u001b[39m indices = expr.indices\n\u001b[32m    316\u001b[39m \u001b[38;5;28;01mif\u001b[39;00m strides \u001b[38;5;129;01mis\u001b[39;00m \u001b[38;5;28;01mNone\u001b[39;00m \u001b[38;5;129;01mor\u001b[39;00m \u001b[38;5;28misinstance\u001b[39m(strides, \u001b[38;5;28mstr\u001b[39m):\n\u001b[32m--> \u001b[39m\u001b[32m317\u001b[39m     dims = \u001b[43mexpr\u001b[49m\u001b[43m.\u001b[49m\u001b[43mshape\u001b[49m\n\u001b[32m    318\u001b[39m     shift = S.One\n\u001b[32m    319\u001b[39m     temp = ()\n",
      "\u001b[36mFile \u001b[39m\u001b[32m~/amrex_codes/chemistry/jaff/.venv/lib/python3.11/site-packages/sympy/tensor/indexed.py:293\u001b[39m, in \u001b[36mIndexed.shape\u001b[39m\u001b[34m(self)\u001b[39m\n\u001b[32m    291\u001b[39m lower = \u001b[38;5;28mgetattr\u001b[39m(i, \u001b[33m'\u001b[39m\u001b[33mlower\u001b[39m\u001b[33m'\u001b[39m, \u001b[38;5;28;01mNone\u001b[39;00m)\n\u001b[32m    292\u001b[39m \u001b[38;5;28;01mif\u001b[39;00m \u001b[38;5;28;01mNone\u001b[39;00m \u001b[38;5;129;01min\u001b[39;00m (upper, lower):\n\u001b[32m--> \u001b[39m\u001b[32m293\u001b[39m     \u001b[38;5;28;01mraise\u001b[39;00m IndexException(filldedent(\u001b[33m\"\"\"\u001b[39m\n\u001b[32m    294\u001b[39m \u001b[33m        Range is not defined for all indices in: \u001b[39m\u001b[38;5;132;01m%s\u001b[39;00m\u001b[33m\"\"\"\u001b[39m % \u001b[38;5;28mself\u001b[39m))\n\u001b[32m    295\u001b[39m \u001b[38;5;28;01mtry\u001b[39;00m:\n\u001b[32m    296\u001b[39m     size = upper - lower + \u001b[32m1\u001b[39m\n",
      "\u001b[31mIndexException\u001b[39m: \nRange is not defined for all indices in: nden[0]"
     ]
    }
   ],
   "source": [
    "# Create builder and generate Kokkos C++ code\n",
    "builder = Builder(network)\n",
    "builds_dir = builder.build(template=\"kokkos_ode\")\n",
    "\n",
    "print(\"\\nC++ Kokkos code generated successfully!\")\n",
    "print(f\"Generated files are located at {builds_dir}\")"
   ]
  },
  {
   "cell_type": "markdown",
   "metadata": {},
   "source": [
    "## Step 4: Examine Generated Files\n",
    "\n",
    "Let's look at the structure and content of the generated files."
   ]
  },
  {
   "cell_type": "code",
   "execution_count": null,
   "metadata": {},
   "outputs": [],
   "source": [
    "# List generated files\n",
    "generated_files = [f for f in os.listdir(builds_dir) if f.endswith(('.cpp', '.hpp', '.txt'))]\n",
    "\n",
    "print(\"Generated files:\")\n",
    "for file in sorted(generated_files):\n",
    "    filepath = os.path.join(builds_dir, file)\n",
    "    size = os.path.getsize(filepath)\n",
    "    print(f\"  {file:20} ({size:,} bytes)\")"
   ]
  },
  {
   "cell_type": "markdown",
   "metadata": {},
   "source": [
    "## Step 5: Understanding the Generated Code Structure\n",
    "\n",
    "Let's examine key components of the generated chemistry solver."
   ]
  },
  {
   "cell_type": "code",
   "execution_count": null,
   "metadata": {
    "scrolled": true
   },
   "outputs": [],
   "source": [
    "# Show the ChemistryODE class definition\n",
    "with open(builds_dir + \"/chemistry_ode.hpp\", 'r') as f:\n",
    "    lines = f.readlines()\n",
    "\n",
    "# Find the class definition\n",
    "class_start = None\n",
    "for i, line in enumerate(lines):\n",
    "    if \"struct ChemistryODE\" in line:\n",
    "        class_start = i\n",
    "        break\n",
    "\n",
    "if class_start:\n",
    "    print(\"ChemistryODE class structure:\")\n",
    "    print(\"=\" * 50)\n",
    "    # Show class definition and methods\n",
    "    brace_count = 0\n",
    "    for i in range(class_start, len(lines)):\n",
    "        line = lines[i].rstrip()\n",
    "        print(f\"{i+1:2d}: {line}\")\n",
    "        \n",
    "        if '{' in line:\n",
    "            brace_count += line.count('{')\n",
    "        if '}' in line:\n",
    "            brace_count -= line.count('}')\n",
    "            if brace_count == 0:\n",
    "                break"
   ]
  },
  {
   "cell_type": "markdown",
   "metadata": {},
   "source": [
    "## Step 6: Building and Running Instructions\n",
    "\n",
    "Here's how to build and run the generated C++ code:"
   ]
  },
  {
   "cell_type": "markdown",
   "metadata": {},
   "source": [
    "* **Configure the build with CMake:**"
   ]
  },
  {
   "cell_type": "code",
   "execution_count": null,
   "metadata": {},
   "outputs": [],
   "source": [
    "!   cmake -S . -B build"
   ]
  },
  {
   "cell_type": "code",
   "execution_count": null,
   "metadata": {},
   "outputs": [],
   "source": [
    "assert(_exit_code == 0)"
   ]
  },
  {
   "cell_type": "markdown",
   "metadata": {},
   "source": [
    "* **Build with parallel compilation:**"
   ]
  },
  {
   "cell_type": "code",
   "execution_count": null,
   "metadata": {},
   "outputs": [],
   "source": [
    "!   cmake --build build -j"
   ]
  },
  {
   "cell_type": "code",
   "execution_count": null,
   "metadata": {},
   "outputs": [],
   "source": [
    "assert(_exit_code == 0)"
   ]
  },
  {
   "cell_type": "markdown",
   "metadata": {},
   "source": [
    "* **Run the chemistry solver:**"
   ]
  },
  {
   "cell_type": "code",
   "execution_count": null,
   "metadata": {},
   "outputs": [],
   "source": [
    "!   ./build/chemistry_ode"
   ]
  },
  {
   "cell_type": "code",
   "execution_count": null,
   "metadata": {},
   "outputs": [],
   "source": [
    "assert(_exit_code == 0)"
   ]
  },
  {
   "cell_type": "markdown",
   "metadata": {},
   "source": [
    "* **Or, run with custom time interval (1e12 seconds):**"
   ]
  },
  {
   "cell_type": "code",
   "execution_count": null,
   "metadata": {},
   "outputs": [],
   "source": [
    "!   ./build/chemistry_ode 1e12"
   ]
  },
  {
   "cell_type": "code",
   "execution_count": null,
   "metadata": {},
   "outputs": [],
   "source": [
    "assert(_exit_code == 0)"
   ]
  }
 ],
 "metadata": {
  "kernelspec": {
   "display_name": "Python 3 (ipykernel)",
   "language": "python",
   "name": "python3"
  },
  "language_info": {
   "codemirror_mode": {
    "name": "ipython",
    "version": 3
   },
   "file_extension": ".py",
   "mimetype": "text/x-python",
   "name": "python",
   "nbconvert_exporter": "python",
   "pygments_lexer": "ipython3",
   "version": "3.11.9"
  }
 },
 "nbformat": 4,
 "nbformat_minor": 4
}
