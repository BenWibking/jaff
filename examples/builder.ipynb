{
 "cells": [
  {
   "cell_type": "code",
   "execution_count": 4,
   "id": "f58d518f",
   "metadata": {},
   "outputs": [],
   "source": [
    "from jaff.network import Network"
   ]
  },
  {
   "cell_type": "code",
   "execution_count": 5,
   "id": "16103680",
   "metadata": {},
   "outputs": [
    {
     "name": "stdout",
     "output_type": "stream",
     "text": [
      "Welcome to JAFF: Just Another Fancy Format!\n",
      "Loading network from ../networks/test2.dat\n",
      "Network label = test2\n"
     ]
    },
    {
     "name": "stderr",
     "output_type": "stream",
     "text": [
      "100%|██████████| 2/2 [00:00<00:00, 357.52it/s]"
     ]
    },
    {
     "name": "stdout",
     "output_type": "stream",
     "text": [
      "Variables found: ['av', 'tgas']\n",
      "Loaded 2 reactions\n",
      "Lodaded 0 photo-chemistry reactions\n",
      "All done!\n"
     ]
    },
    {
     "name": "stderr",
     "output_type": "stream",
     "text": [
      "\n"
     ]
    }
   ],
   "source": [
    "net = Network(\"../networks/test2.dat\")"
   ]
  },
  {
   "cell_type": "code",
   "execution_count": 6,
   "id": "f91d7b19",
   "metadata": {},
   "outputs": [
    {
     "name": "stdout",
     "output_type": "stream",
     "text": [
      "Building network with template: python_solve_ivp\n",
      "Copying /home/tgrassi/repos/jaff/src/jaff/templates/python_solve_ivp/main.py to /home/tgrassi/repos/jaff/src/jaff/builds\n",
      "Preprocessing /home/tgrassi/repos/jaff/src/jaff/templates/python_solve_ivp/commons.py -> /home/tgrassi/repos/jaff/src/jaff/builds/commons.py\n",
      "Preprocessing /home/tgrassi/repos/jaff/src/jaff/templates/python_solve_ivp/rates.py -> /home/tgrassi/repos/jaff/src/jaff/builds/rates.py\n",
      "Preprocessing /home/tgrassi/repos/jaff/src/jaff/templates/python_solve_ivp/fluxes.py -> /home/tgrassi/repos/jaff/src/jaff/builds/fluxes.py\n",
      "Preprocessing /home/tgrassi/repos/jaff/src/jaff/templates/python_solve_ivp/ode.py -> /home/tgrassi/repos/jaff/src/jaff/builds/ode.py\n",
      "Network built successfully using template 'python_solve_ivp'.\n",
      "Output files are located in: /home/tgrassi/repos/jaff/src/jaff/builds\n"
     ]
    }
   ],
   "source": [
    "from jaff.builder import Builder\n",
    "\n",
    "b = Builder(net)\n",
    "b.build(template=\"python_solve_ivp\")"
   ]
  },
  {
   "cell_type": "code",
   "execution_count": null,
   "id": "e50149f9",
   "metadata": {},
   "outputs": [],
   "source": []
  }
 ],
 "metadata": {
  "kernelspec": {
   "display_name": "test",
   "language": "python",
   "name": "python3"
  },
  "language_info": {
   "codemirror_mode": {
    "name": "ipython",
    "version": 3
   },
   "file_extension": ".py",
   "mimetype": "text/x-python",
   "name": "python",
   "nbconvert_exporter": "python",
   "pygments_lexer": "ipython3",
   "version": "3.13.5"
  }
 },
 "nbformat": 4,
 "nbformat_minor": 5
}
