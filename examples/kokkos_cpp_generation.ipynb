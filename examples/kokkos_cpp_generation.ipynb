{
 "cells": [
  {
   "cell_type": "markdown",
   "metadata": {},
   "source": [
    "# Generating C++ Kokkos Chemistry Solvers with JAFF\n",
    "\n",
    "This notebook demonstrates how to use JAFF to generate C++ code that uses the Kokkos-kernels BDF solver for solving chemical reaction networks. We'll use the `test2.dat` network as an example, which contains only 3 species and 2 reactions.\n",
    "\n",
    "## Overview\n",
    "\n",
    "The Kokkos output plugin generates:\n",
    "- **chemistry_ode.hpp**: Chemistry ODE system class with evaluate_function and evaluate_jacobian methods\n",
    "- **chemistry_ode.cpp**: Main executable that sets up and runs the BDF solver\n",
    "- **CMakeLists.txt**: Build configuration for Kokkos and Kokkos-kernels dependencies\n",
    "\n",
    "The generated code is compatible with the Kokkos-kernels BDF solver for stiff ODEs."
   ]
  },
  {
   "cell_type": "markdown",
   "metadata": {},
   "source": [
    "## Step 1: Load the Chemical Network\n",
    "\n",
    "First, let's load the react_COthin network, which is a carbon-oxygen chemistry network in KROME format."
   ]
  },
  {
   "cell_type": "code",
   "execution_count": 1,
   "metadata": {
    "scrolled": true
   },
   "outputs": [
    {
     "name": "stdout",
     "output_type": "stream",
     "text": [
      "Welcome to JAFF: Just Another Fancy Format!\n",
      "Loading network from ../networks/test2.dat\n",
      "Network label = test2\n"
     ]
    },
    {
     "name": "stderr",
     "output_type": "stream",
     "text": [
      "100%|█████████████████████████████████████████████████████████████████████████████████████████████████████████████| 2/2 [00:00<00:00, 525.37it/s]"
     ]
    },
    {
     "name": "stdout",
     "output_type": "stream",
     "text": [
      "2.0e-12*tgas**0.33\n",
      "1.0e-12*exp(-1.222*av)\n",
      "Variables found: ['av', 'tgas']\n",
      "Loaded 2 reactions\n",
      "Lodaded 0 photo-chemistry reactions\n",
      "All done!\n",
      "Network loaded: test2\n",
      "Number of species: 3\n",
      "Number of reactions: 2\n"
     ]
    },
    {
     "name": "stderr",
     "output_type": "stream",
     "text": [
      "\n"
     ]
    }
   ],
   "source": [
    "from jaff.network import Network\n",
    "from jaff.builder import Builder\n",
    "import os\n",
    "\n",
    "# Load the react_COthin network\n",
    "network = Network(\"../networks/test2.dat\")\n",
    "\n",
    "print(f\"Network loaded: {network.label}\")\n",
    "print(f\"Number of species: {network.get_number_of_species()}\")\n",
    "print(f\"Number of reactions: {len(network.reactions)}\")"
   ]
  },
  {
   "cell_type": "markdown",
   "metadata": {},
   "source": [
    "## Step 2: Examine Network Properties\n",
    "\n",
    "Let's examine some properties of the network to understand what we're working with."
   ]
  },
  {
   "cell_type": "code",
   "execution_count": 2,
   "metadata": {},
   "outputs": [
    {
     "name": "stdout",
     "output_type": "stream",
     "text": [
      "  0: e- (mass: 0.00, charge: -1)\n",
      "  1: CO+ (mass: 0.00, charge: 1)\n",
      "  2: CO (mass: 0.00, charge: 0)\n",
      "\n",
      "Total species: 3\n"
     ]
    }
   ],
   "source": [
    "for i, species in enumerate(network.species):\n",
    "    print(f\"  {i}: {species.name} (mass: {species.mass:.2f}, charge: {species.charge})\")\n",
    "\n",
    "print(f\"\\nTotal species: {len(network.species)}\")"
   ]
  },
  {
   "cell_type": "code",
   "execution_count": 3,
   "metadata": {},
   "outputs": [
    {
     "name": "stdout",
     "output_type": "stream",
     "text": [
      "  1: e- + CO+ -> CO\n",
      "      Rate: 2.0e-12*tgas**0.33\n",
      "\n",
      "  2: CO -> CO+ + e-\n",
      "      Rate: 1.0e-12*exp(-1.222*av)\n",
      "\n"
     ]
    }
   ],
   "source": [
    "# Show a few example reactions\n",
    "for i, reaction in enumerate(network.reactions):\n",
    "    reactants = \" + \".join([f\"{r.name}\" for r in reaction.reactants])\n",
    "    products = \" + \".join([f\"{p.name}\" for p in reaction.products])\n",
    "    print(f\"  {i+1}: {reactants} -> {products}\")\n",
    "    print(f\"      Rate: {reaction.rate}\")\n",
    "    print()"
   ]
  },
  {
   "cell_type": "markdown",
   "metadata": {},
   "source": [
    "## Step 3: Generate C++ Kokkos Code\n",
    "\n",
    "Now let's use the Builder to generate C++ code using the `kokkos_ode` template."
   ]
  },
  {
   "cell_type": "code",
   "execution_count": 4,
   "metadata": {},
   "outputs": [
    {
     "name": "stdout",
     "output_type": "stream",
     "text": [
      "Building network with template: kokkos_ode\n",
      "Preprocessing /Users/benwibking/amrex_codes/chemistry/jaff/src/jaff/templates/kokkos_ode/chemistry_ode.hpp -> /Users/benwibking/amrex_codes/chemistry/jaff/examples/chemistry_ode.hpp\n",
      "Preprocessing /Users/benwibking/amrex_codes/chemistry/jaff/src/jaff/templates/kokkos_ode/chemistry_ode.cpp -> /Users/benwibking/amrex_codes/chemistry/jaff/examples/chemistry_ode.cpp\n",
      "Preprocessing /Users/benwibking/amrex_codes/chemistry/jaff/src/jaff/templates/kokkos_ode/CMakeLists.txt -> /Users/benwibking/amrex_codes/chemistry/jaff/examples/CMakeLists.txt\n",
      "Network built successfully using template 'kokkos_ode'.\n",
      "Output files are located in: /Users/benwibking/amrex_codes/chemistry/jaff/examples\n",
      "\n",
      "C++ Kokkos code generated successfully!\n",
      "Generated files are located at /Users/benwibking/amrex_codes/chemistry/jaff/examples\n"
     ]
    }
   ],
   "source": [
    "# Create builder and generate Kokkos C++ code\n",
    "builder = Builder(network)\n",
    "builds_dir = builder.build(template=\"kokkos_ode\")\n",
    "\n",
    "print(\"\\nC++ Kokkos code generated successfully!\")\n",
    "print(f\"Generated files are located at {builds_dir}\")"
   ]
  },
  {
   "cell_type": "markdown",
   "metadata": {},
   "source": [
    "## Step 4: Examine Generated Files\n",
    "\n",
    "Let's look at the structure and content of the generated files."
   ]
  },
  {
   "cell_type": "code",
   "execution_count": 5,
   "metadata": {},
   "outputs": [
    {
     "name": "stdout",
     "output_type": "stream",
     "text": [
      "Generated files:\n",
      "  CMakeLists.txt       (1,309 bytes)\n",
      "  chemistry_ode.cpp    (5,998 bytes)\n",
      "  chemistry_ode.hpp    (5,405 bytes)\n"
     ]
    }
   ],
   "source": [
    "# List generated files\n",
    "generated_files = [f for f in os.listdir(builds_dir) if f.endswith(('.cpp', '.hpp', '.txt'))]\n",
    "\n",
    "print(\"Generated files:\")\n",
    "for file in sorted(generated_files):\n",
    "    filepath = os.path.join(builds_dir, file)\n",
    "    size = os.path.getsize(filepath)\n",
    "    print(f\"  {file:20} ({size:,} bytes)\")"
   ]
  },
  {
   "cell_type": "markdown",
   "metadata": {},
   "source": [
    "## Step 5: Understanding the Generated Code Structure\n",
    "\n",
    "Let's examine key components of the generated chemistry solver."
   ]
  },
  {
   "cell_type": "code",
   "execution_count": 6,
   "metadata": {
    "scrolled": true
   },
   "outputs": [
    {
     "name": "stdout",
     "output_type": "stream",
     "text": [
      "ChemistryODE class structure:\n",
      "==================================================\n",
      "13: struct ChemistryODE {\n",
      "14:     // Number of species in the chemical network\n",
      "15:     // PREPROCESS_NUM_SPECIES\n",
      "16: \n",
      "17:     static constexpr int neqs = 3;\n",
      "18: \n",
      "19:     // PREPROCESS_END\n",
      "20: \n",
      "21:     // Species indices\n",
      "22:     // PREPROCESS_COMMONS\n",
      "23: \n",
      "24:     static constexpr int idx_e = 0;\n",
      "25:     static constexpr int idx_COj = 1;\n",
      "26:     static constexpr int idx_CO = 2;\n",
      "27:     static constexpr int nspecs = 3;\n",
      "28:     static constexpr int nreactions = 2;\n",
      "29: \n",
      "30:     // Common chemistry variables used in rate expressions\n",
      "31:     // These should typically be passed as parameters or computed from the state\n",
      "32:     static constexpr double DEFAULT_TEMPERATURE = 300.0;  // Default gas temperature in K\n",
      "33:     static constexpr double DEFAULT_AV = 1.0;             // Default visual extinction\n",
      "34:     static constexpr double DEFAULT_CRATE = 1.3e-17;      // Default cosmic ray ionization rate\n",
      "35: \n",
      "36:     // Placeholder function for photorates (should be replaced with actual implementation)\n",
      "37:     template<typename T>\n",
      "38:     KOKKOS_INLINE_FUNCTION\n",
      "39:     static double photorates(int /*index*/, T /*energy*/, T /*max_energy*/) {\n",
      "40:         // Placeholder: return 0 for photochemistry rates\n",
      "41:         // In a real implementation, this would compute photo-dissociation/ionization rates\n",
      "42:         return 0.0;\n",
      "43:     }\n",
      "44: \n",
      "45:     // PREPROCESS_END\n",
      "46: \n",
      "47:     ChemistryODE() {}\n",
      "48: \n",
      "49:     // Evaluate the ODE right-hand side: dy/dt = f(t, y)\n",
      "50:     template <class vec_type1, class vec_type2>\n",
      "51:     KOKKOS_FUNCTION void evaluate_function(const double /*t*/, const double /*dt*/,\n",
      "52:                                           const vec_type1& y, const vec_type2& f) const {\n",
      "53:         // PREPROCESS_TEMP_VARS\n",
      "54: \n",
      "55:         // Temperature and environment variables used in chemical reactions\n",
      "56:         // T is expected to be passed as a parameter or computed from the state\n",
      "57:         const double Tgas = DEFAULT_TEMPERATURE;  // Gas temperature (matches network conventions)\n",
      "58:         const double tgas = Tgas;  // Lowercase alias for compatibility\n",
      "59: \n",
      "60:         // Environmental parameters (should be passed in or use defaults)\n",
      "61:         const double av = DEFAULT_AV;  // Visual extinction\n",
      "62:         const double crate = DEFAULT_CRATE;  // Cosmic ray ionization rate\n",
      "63: \n",
      "64:         // Access to species densities (for compatibility with different conventions)\n",
      "65:         const auto& n = y;  // Species array alias\n",
      "66: \n",
      "67:         // PREPROCESS_END\n",
      "68: \n",
      "69:         // Compute reaction rates\n",
      "70:         // PREPROCESS_NUM_REACTIONS\n",
      "71: \n",
      "72:         double k[2];\n",
      "73:         double flux[2];\n",
      "74: \n",
      "75:         // PREPROCESS_END\n",
      "76: \n",
      "77:         // PREPROCESS_RATES\n",
      "78: \n",
      "79:         k[0] = 2.0e-12*Kokkos::pow(tgas, 0.33000000000000002);\n",
      "80:         k[1] = 9.9999999999999998e-13*Kokkos::exp(-1.222*av);\n",
      "81: \n",
      "82:         // PREPROCESS_END\n",
      "83: \n",
      "84:         // Compute derivatives for each species\n",
      "85:         // PREPROCESS_ODE\n",
      "86: \n",
      "87:         const double cse0 = k[0]*y[1];\n",
      "88:         const double cse1 = cse0*y[0] - k[1]*y[2];\n",
      "89:         const double cse2 = -cse1;\n",
      "90:         const double cse3 = -cse0;\n",
      "91:         const double cse4 = k[0]*y[0];\n",
      "92:         const double cse5 = -cse4;\n",
      "93:         f[0] = cse2;\n",
      "94:         f[1] = cse2;\n",
      "95:         f[2] = cse1;\n",
      "96: \n",
      "97:         // PREPROCESS_END\n",
      "98:     }\n",
      "99: \n",
      "100:     // Evaluate the Jacobian matrix: J_ij = df_i/dy_j\n",
      "101:     template <class vec_type, class mat_type>\n",
      "102:     KOKKOS_FUNCTION void evaluate_jacobian(const double /*t*/, const double /*dt*/,\n",
      "103:                                           const vec_type& y, const mat_type& J) const {\n",
      "104:         // PREPROCESS_TEMP_VARS\n",
      "105: \n",
      "106:         // Temperature and environment variables used in chemical reactions\n",
      "107:         // T is expected to be passed as a parameter or computed from the state\n",
      "108:         const double Tgas = DEFAULT_TEMPERATURE;  // Gas temperature (matches network conventions)\n",
      "109:         const double tgas = Tgas;  // Lowercase alias for compatibility\n",
      "110: \n",
      "111:         // Environmental parameters (should be passed in or use defaults)\n",
      "112:         const double av = DEFAULT_AV;  // Visual extinction\n",
      "113:         const double crate = DEFAULT_CRATE;  // Cosmic ray ionization rate\n",
      "114: \n",
      "115:         // Access to species densities (for compatibility with different conventions)\n",
      "116:         const auto& n = y;  // Species array alias\n",
      "117: \n",
      "118:         // PREPROCESS_END\n",
      "119: \n",
      "120:         // Compute reaction rates (needed for Jacobian evaluation)\n",
      "121:         // PREPROCESS_NUM_REACTIONS\n",
      "122: \n",
      "123:         double k[2];\n",
      "124:         double flux[2];\n",
      "125: \n",
      "126:         // PREPROCESS_END\n",
      "127: \n",
      "128:         // PREPROCESS_RATES\n",
      "129: \n",
      "130:         k[0] = 2.0e-12*Kokkos::pow(tgas, 0.33000000000000002);\n",
      "131:         k[1] = 9.9999999999999998e-13*Kokkos::exp(-1.222*av);\n",
      "132: \n",
      "133:         // PREPROCESS_END\n",
      "134: \n",
      "135:         // Compute analytical Jacobian\n",
      "136:         // PREPROCESS_JACOBIAN\n",
      "137: \n",
      "138:         const double cse0 = k[0]*y[1];\n",
      "139:         const double cse1 = cse0*y[0] - k[1]*y[2];\n",
      "140:         const double cse2 = -cse1;\n",
      "141:         const double cse3 = -cse0;\n",
      "142:         const double cse4 = k[0]*y[0];\n",
      "143:         const double cse5 = -cse4;\n",
      "144:         J(0, 0) = cse3;\n",
      "145:         J(0, 1) = cse5;\n",
      "146:         J(0, 2) = k[1];\n",
      "147:         J(1, 0) = cse3;\n",
      "148:         J(1, 1) = cse5;\n",
      "149:         J(1, 2) = k[1];\n",
      "150:         J(2, 0) = cse0;\n",
      "151:         J(2, 1) = cse4;\n",
      "152:         J(2, 2) = -k[1];\n",
      "153: \n",
      "154:         // PREPROCESS_END\n",
      "155:     }\n",
      "156: };\n"
     ]
    }
   ],
   "source": [
    "# Show the ChemistryODE class definition\n",
    "with open(builds_dir + \"/chemistry_ode.hpp\", 'r') as f:\n",
    "    lines = f.readlines()\n",
    "\n",
    "# Find the class definition\n",
    "class_start = None\n",
    "for i, line in enumerate(lines):\n",
    "    if \"struct ChemistryODE\" in line:\n",
    "        class_start = i\n",
    "        break\n",
    "\n",
    "if class_start:\n",
    "    print(\"ChemistryODE class structure:\")\n",
    "    print(\"=\" * 50)\n",
    "    # Show class definition and methods\n",
    "    brace_count = 0\n",
    "    for i in range(class_start, len(lines)):\n",
    "        line = lines[i].rstrip()\n",
    "        print(f\"{i+1:2d}: {line}\")\n",
    "        \n",
    "        if '{' in line:\n",
    "            brace_count += line.count('{')\n",
    "        if '}' in line:\n",
    "            brace_count -= line.count('}')\n",
    "            if brace_count == 0:\n",
    "                break"
   ]
  },
  {
   "cell_type": "code",
   "execution_count": 7,
   "metadata": {},
   "outputs": [
    {
     "name": "stdout",
     "output_type": "stream",
     "text": [
      "Main function structure:\n",
      "==================================================\n",
      "41: int main(int argc, char* argv[]) {\n",
      "42:     Kokkos::initialize(argc, argv);\n",
      "43: \n",
      "44:     {\n",
      "45:         using execution_space = Kokkos::DefaultExecutionSpace;\n",
      "46:         using scalar_type = double;\n",
      "47:         using vec_type = Kokkos::View<scalar_type*, execution_space>;\n",
      "48:         using mat_type = Kokkos::View<scalar_type**, execution_space>;\n",
      "49: \n",
      "50:         ChemistryODE mySys{};\n",
      "51: \n",
      "52:         // Time integration parameters\n",
      "53:         const scalar_type t_start = 0.0;\n",
      "54:         scalar_type t_end = 3.15576e9; // 100 years in seconds default\n",
      "55: \n",
      "56:         // Parse command line arguments\n",
      "57:         if (argc > 1) {\n",
      "58:             t_end = std::stod(argv[1]);\n",
      "59:         }\n",
      "60: \n",
      "61:         std::cout << \"Solving Chemistry ODE System\\n\";\n",
      "62:         std::cout << \"Number of species: \" << mySys.neqs << \"\\n\";\n",
      "63:         std::cout << \"Number of reactions: \" <<\n",
      "64: // PREPROCESS_NUM_REACTIONS\n",
      "65: \n",
      "66: 2\n",
      "67: \n",
      "68: // PREPROCESS_END\n",
      "69:          << \"\\n\";\n",
      "70:         std::cout << \"Time interval: [\" << t_start << \", \" << t_end << \"] seconds\\n\";\n",
      "71: \n",
      "72:         // Allocate arrays\n",
      "73:         vec_type y0(\"initial conditions\", mySys.neqs);\n",
      "74:         vec_type y_new(\"solution\", mySys.neqs);\n",
      "75: \n",
      "76:         // Set initial conditions (can be customized)\n",
      "77:         auto y0_h = Kokkos::create_mirror_view(y0);\n",
      "78: \n",
      "79:         // Default: all species start at 1e-10 except first species\n",
      "80:         for (int i = 0; i < mySys.neqs; ++i) {\n",
      "81:             y0_h(i) = 1.0e-10;\n",
      "82:         }\n",
      "83:         // Set first species to higher concentration\n",
      "84:         if (mySys.neqs > 0) {\n",
      "85:             y0_h(0) = 1.0e-6;\n",
      "86:         }\n",
      "87: \n",
      "88:         // Read initial conditions from file if provided\n",
      "89:         if (argc > 2) {\n",
      "90:             std::ifstream ic_file(argv[2]);\n",
      "91:             if (ic_file.is_open()) {\n",
      "92:                 for (int i = 0; i < mySys.neqs && ic_file >> y0_h(i); ++i) {}\n",
      "93:                 ic_file.close();\n",
      "94:                 std::cout << \"Initial conditions loaded from \" << argv[2] << \"\\n\";\n",
      "95:             }\n",
      "96:         }\n",
      "97: \n",
      "98:         Kokkos::deep_copy(y0, y0_h);\n",
      "99: \n",
      "100:         // Print initial conditions\n",
      "101:         std::cout << \"Initial conditions:\\n\";\n",
      "102:         for (int i = 0; i < mySys.neqs && i < 10; ++i) {\n",
      "103:             std::cout << \"  y[\" << i << \"] = \" << y0_h(i) << \"\\n\";\n",
      "104:         }\n",
      "105:         if (mySys.neqs > 10) {\n",
      "106:             std::cout << \"  ... (showing first 10 species)\\n\";\n",
      "107:         }\n",
      "108: \n",
      "109:         // Allocate temporary storage for BDF solver\n",
      "110:         mat_type temp(\"buffer1\", mySys.neqs, 23 + 2 * mySys.neqs + 4);\n",
      "111:         mat_type temp2(\"buffer2\", 6, 7);\n",
      "112: \n",
      "113:         // Initial time step (will be adapted by solver)\n",
      "114:         scalar_type dt = 1.0e-10;\n",
      "115:         scalar_type max_step = (t_end - t_start) / 100.0;\n",
      "116: \n",
      "117:         // Create solver wrapper\n",
      "118:         BDF_Solve_wrapper<ChemistryODE, vec_type, mat_type, scalar_type> bdf_wrapper(\n",
      "119:             mySys, t_start, t_end, dt, max_step, y0, y_new, temp, temp2);\n",
      "120: \n",
      "121:         // Run solver\n",
      "122:         Kokkos::RangePolicy<execution_space> policy(0, 1);\n",
      "123:         Kokkos::parallel_for(policy, bdf_wrapper);\n",
      "124:         Kokkos::fence();\n",
      "125: \n",
      "126:         // Copy solution back to host\n",
      "127:         auto y_new_h = Kokkos::create_mirror_view(y_new);\n",
      "128:         Kokkos::deep_copy(y_new_h, y_new);\n",
      "129: \n",
      "130:         // Print final solution\n",
      "131:         std::cout << \"\\nFinal solution at t = \" << t_end << \" seconds:\\n\";\n",
      "132:         for (int i = 0; i < mySys.neqs && i < 10; ++i) {\n",
      "133:             std::cout << \"  y[\" << i << \"] = \" << y_new_h(i) << \"\\n\";\n",
      "134:         }\n",
      "135:         if (mySys.neqs > 10) {\n",
      "136:             std::cout << \"  ... (showing first 10 species)\\n\";\n",
      "137:         }\n",
      "138: \n",
      "139:         // Write solution to file if output path provided\n",
      "140:         if (argc > 3) {\n",
      "141:             std::ofstream out_file(argv[3]);\n",
      "142:             if (out_file.is_open()) {\n",
      "143:                 for (int i = 0; i < mySys.neqs; ++i) {\n",
      "144:                     out_file << y_new_h(i) << \"\\n\";\n",
      "145:                 }\n",
      "146:                 out_file.close();\n",
      "147:                 std::cout << \"\\nSolution written to \" << argv[3] << \"\\n\";\n",
      "148:             }\n",
      "149:         }\n",
      "150: \n",
      "151:         // Check conservation (sum of all species)\n",
      "152:         double sum_initial = 0.0, sum_final = 0.0;\n",
      "153:         for (int i = 0; i < mySys.neqs; ++i) {\n",
      "154:             sum_initial += y0_h(i);\n",
      "155:             sum_final += y_new_h(i);\n",
      "156:         }\n",
      "157:         std::cout << \"\\nConservation check:\\n\";\n",
      "158:         std::cout << \"  Initial sum: \" << sum_initial << \"\\n\";\n",
      "159:         std::cout << \"  Final sum:   \" << sum_final << \"\\n\";\n",
      "160:         std::cout << \"  Relative change: \" << (sum_final - sum_initial) / sum_initial << \"\\n\";\n",
      "161: \n",
      "162:         std::cout << \"\\nKokkos execution space: \"\n",
      "163:                   << typeid(Kokkos::DefaultExecutionSpace).name() << std::endl;\n",
      "164:     }\n",
      "165: \n",
      "166:     Kokkos::finalize();\n",
      "167: \n",
      "168:     return 0;\n",
      "169: }\n"
     ]
    }
   ],
   "source": [
    "# Show main function structure from chemistry_ode.cpp\n",
    "with open(builds_dir + \"/chemistry_ode.cpp\", 'r') as f:\n",
    "    lines = f.readlines()\n",
    "\n",
    "# Find main function\n",
    "main_start = None\n",
    "for i, line in enumerate(lines):\n",
    "    if \"int main(\" in line:\n",
    "        main_start = i\n",
    "        break\n",
    "\n",
    "if main_start:\n",
    "    print(\"Main function structure:\")\n",
    "    print(\"=\" * 50)\n",
    "    for i in range(main_start, len(lines)):\n",
    "        line = lines[i].rstrip()\n",
    "        print(f\"{i+1:2d}: {line}\")"
   ]
  },
  {
   "cell_type": "markdown",
   "metadata": {},
   "source": [
    "## Step 6: Building and Running Instructions\n",
    "\n",
    "Here's how to build and run the generated C++ code:"
   ]
  },
  {
   "cell_type": "markdown",
   "metadata": {},
   "source": [
    "* **Configure the build with CMake:**"
   ]
  },
  {
   "cell_type": "code",
   "execution_count": 8,
   "metadata": {},
   "outputs": [
    {
     "name": "stdout",
     "output_type": "stream",
     "text": [
      "-- Setting default Kokkos CXX standard to 17\n",
      "-- Kokkos version: 4.7.0\n",
      "-- The project name is: Kokkos\n",
      "-- Using internal gtest for testing\n",
      "-- Using -std=c++17 for C++17 standard as feature\n",
      "-- Built-in Execution Spaces:\n",
      "--     Device Parallel: NoTypeDefined\n",
      "--     Host Parallel: NoTypeDefined\n",
      "--       Host Serial: SERIAL\n",
      "-- \n",
      "-- Architectures:\n",
      "-- Using internal desul_atomics copy\n",
      "-- Performing Test KOKKOS_LINK_OPTIONS_CHECK\n",
      "-- Performing Test KOKKOS_LINK_OPTIONS_CHECK - Success\n",
      "-- Experimental mdspan support is enabled\n",
      "-- Using internal mdspan directory /Users/benwibking/amrex_codes/chemistry/jaff/examples/build/_deps/kokkos-src/tpls/mdspan/include\n",
      "-- Kokkos Backends: SERIAL\n",
      "-- The project name is: KokkosKernels\n",
      "\u001b[0m\u001b[0m\n",
      "\u001b[0m================================\u001b[0m\n",
      "\u001b[0mKokkos Kernels version: 4.7.0\u001b[0m\n",
      "\u001b[0m================================\u001b[0m\n",
      "\u001b[0mKokkos Kernels ETI Types\u001b[0m\n",
      "\u001b[0m   Devices:  <Serial,HostSpace>\u001b[0m\n",
      "\u001b[0m   Scalars:  double\u001b[0m\n",
      "\u001b[0m   Ordinals: int\u001b[0m\n",
      "\u001b[0m   Offsets:  int\u001b[0m\n",
      "\u001b[0m   Layouts:  LayoutLeft\u001b[0m\n",
      "\u001b[0m\u001b[0m\n",
      "\u001b[0mKokkos Kernels components\u001b[0m\n",
      "\u001b[0m   COMMON:    ON\u001b[0m\n",
      "\u001b[0m   BATCHED:   ON\u001b[0m\n",
      "\u001b[0m   BLAS:      ON\u001b[0m\n",
      "\u001b[0m   LAPACK:    ON\u001b[0m\n",
      "\u001b[0m   GRAPH:     ON\u001b[0m\n",
      "\u001b[0m   SPARSE:    ON\u001b[0m\n",
      "\u001b[0m   ODE:       ON\u001b[0m\n",
      "\u001b[0m\u001b[0m\n",
      "\u001b[0mKokkos Kernels TPLs\u001b[0m\n",
      "\u001b[0m   (None)\u001b[0m\n",
      "\u001b[0m================================\u001b[0m\n",
      "\u001b[0m\u001b[0m\n",
      "-- Creating ETI files for Batched_Gemm_nt_nt_bll\n",
      "-- Creating ETI files for Batched_Gemm_nt_t_bll\n",
      "-- Creating ETI files for Batched_Gemm_t_nt_bll\n",
      "-- Creating ETI files for Batched_Gemm_t_t_bll\n",
      "-- Creating ETI files for Batched_Gemm_nt_nt_blr\n",
      "-- Creating ETI files for Batched_Gemm_nt_t_blr\n",
      "-- Creating ETI files for Batched_Gemm_t_nt_blr\n",
      "-- Creating ETI files for Batched_Gemm_t_t_blr\n",
      "-- Creating ETI files for Blas1_abs\n",
      "-- Creating ETI files for Blas1_abs_mv\n",
      "-- Creating ETI files for Blas1_scal\n",
      "-- Creating ETI files for Blas1_scal_mv\n",
      "-- Creating ETI files for Blas1_dot\n",
      "-- Creating ETI files for Blas1_dot_mv\n",
      "-- Creating ETI files for Blas1_axpby\n",
      "-- Creating ETI files for Blas1_axpby_mv\n",
      "-- Creating ETI files for Blas1_update\n",
      "-- Creating ETI files for Blas1_update_mv\n",
      "-- Creating ETI files for Blas1_sum\n",
      "-- Creating ETI files for Blas1_sum_mv\n",
      "-- Creating ETI files for Blas1_nrm1\n",
      "-- Creating ETI files for Blas1_nrm1_mv\n",
      "-- Creating ETI files for Blas1_nrm2w\n",
      "-- Creating ETI files for Blas1_nrm2w_mv\n",
      "-- Creating ETI files for Blas1_nrminf\n",
      "-- Creating ETI files for Blas1_nrminf_mv\n",
      "-- Creating ETI files for Blas1_iamax\n",
      "-- Creating ETI files for Blas1_iamax_mv\n",
      "-- Creating ETI files for Blas1_nrm2\n",
      "-- Creating ETI files for Blas1_nrm2_mv\n",
      "-- Creating ETI files for Blas1_mult\n",
      "-- Creating ETI files for Blas1_mult_mv\n",
      "-- Creating ETI files for Blas1_reciprocal\n",
      "-- Creating ETI files for Blas1_reciprocal_mv\n",
      "-- Creating ETI files for Blas1_rot\n",
      "-- Creating ETI files for Blas1_rotg\n",
      "-- Creating ETI files for Blas1_rotm\n",
      "-- Creating ETI files for Blas1_rotmg\n",
      "-- Creating ETI files for Blas1_swap\n",
      "-- Creating ETI files for Blas2_gemv\n",
      "-- Creating ETI files for Blas2_ger\n",
      "-- Creating ETI files for Blas2_syr\n",
      "-- Creating ETI files for Blas2_syr2\n",
      "-- Creating ETI files for Blas3_gemm\n",
      "-- Creating ETI files for Blas3_trsm\n",
      "-- Creating ETI files for Blas3_trmm\n",
      "-- Creating ETI files for Lapack_gesv\n",
      "-- Creating ETI files for Lapack_trtri\n",
      "-- Creating ETI files for Lapack_svd\n",
      "-- Creating ETI files for Graph_color_d1\n",
      "-- Creating ETI files for Sparse_spmv_struct\n",
      "-- Creating ETI files for Sparse_spmv_mv_struct\n",
      "-- Creating ETI files for Sparse_spmv_bsrmatrix\n",
      "-- Creating ETI files for Sparse_spmv_mv_bsrmatrix\n",
      "-- Creating ETI files for Sparse_spmv\n",
      "-- Creating ETI files for Sparse_spmv_mv\n",
      "-- Creating ETI files for Sparse_spgemm_symbolic\n",
      "-- Creating ETI files for Sparse_spgemm_numeric\n",
      "-- Creating ETI files for Sparse_spgemm_noreuse\n",
      "-- Creating ETI files for Sparse_bspgemm_numeric\n",
      "-- Creating ETI files for Sparse_spgemm_jacobi\n",
      "-- Creating ETI files for Sparse_spadd_symbolic\n",
      "-- Creating ETI files for Sparse_spadd_numeric\n",
      "-- Creating ETI files for Sparse_spiluk_symbolic\n",
      "-- Creating ETI files for Sparse_spiluk_numeric\n",
      "-- Creating ETI files for Sparse_par_ilut_symbolic\n",
      "-- Creating ETI files for Sparse_par_ilut_numeric\n",
      "-- Creating ETI files for Sparse_gmres\n",
      "-- Creating ETI files for Sparse_sptrsv_symbolic\n",
      "-- Creating ETI files for Sparse_sptrsv_solve\n",
      "-- Creating ETI files for Sparse_trsv\n",
      "-- Creating ETI files for Sparse_gauss_seidel_symbolic\n",
      "-- Creating ETI files for Sparse_gauss_seidel_numeric\n",
      "-- Creating ETI files for Sparse_gauss_seidel_apply\n",
      "-- Configuring done (1.1s)\n",
      "-- Generating done (0.1s)\n",
      "-- Build files have been written to: /Users/benwibking/amrex_codes/chemistry/jaff/examples/build\n"
     ]
    }
   ],
   "source": [
    "!   cmake -S . -B build"
   ]
  },
  {
   "cell_type": "markdown",
   "metadata": {},
   "source": [
    "* **Build with parallel compilation:**"
   ]
  },
  {
   "cell_type": "code",
   "execution_count": 9,
   "metadata": {},
   "outputs": [
    {
     "name": "stdout",
     "output_type": "stream",
     "text": [
      "[3/3] Linking CXX executable chemistry_ode\u001b[Ky_ode.dir/chemistry_ode.cpp.o\u001b[Kake\u001b[K\n"
     ]
    }
   ],
   "source": [
    "!   cmake --build build -j"
   ]
  },
  {
   "cell_type": "markdown",
   "metadata": {},
   "source": [
    "* **Run the chemistry solver:**"
   ]
  },
  {
   "cell_type": "code",
   "execution_count": 10,
   "metadata": {},
   "outputs": [
    {
     "name": "stdout",
     "output_type": "stream",
     "text": [
      "Solving Chemistry ODE System\n",
      "Number of species: 3\n",
      "Number of reactions: 2\n",
      "Time interval: [0, 3.15576e+09] seconds\n",
      "Initial conditions:\n",
      "  y[0] = 1e-06\n",
      "  y[1] = 1e-10\n",
      "  y[2] = 1e-10\n",
      "\n",
      "Final solution at t = 3.15576e+09 seconds:\n",
      "  y[0] = 1e-06\n",
      "  y[1] = 1.00093e-10\n",
      "  y[2] = 9.99071e-11\n",
      "\n",
      "Conservation check:\n",
      "  Initial sum: 1.0002e-06\n",
      "  Final sum:   1.0002e-06\n",
      "  Relative change: 0\n",
      "\n",
      "Kokkos execution space: N6Kokkos6SerialE\n"
     ]
    }
   ],
   "source": [
    "!   ./build/chemistry_ode"
   ]
  },
  {
   "cell_type": "markdown",
   "metadata": {},
   "source": [
    "* **Or, run with custom time interval (1e12 seconds):**"
   ]
  },
  {
   "cell_type": "code",
   "execution_count": 11,
   "metadata": {},
   "outputs": [
    {
     "name": "stdout",
     "output_type": "stream",
     "text": [
      "Solving Chemistry ODE System\n",
      "Number of species: 3\n",
      "Number of reactions: 2\n",
      "Time interval: [0, 1e+12] seconds\n",
      "Initial conditions:\n",
      "  y[0] = 1e-06\n",
      "  y[1] = 1e-10\n",
      "  y[2] = 1e-10\n",
      "\n",
      "Final solution at t = 1e+12 seconds:\n",
      "  y[0] = 1.00002e-06\n",
      "  y[1] = 1.24316e-10\n",
      "  y[2] = 7.56836e-11\n",
      "\n",
      "Conservation check:\n",
      "  Initial sum: 1.00022e-06\n",
      "  Final sum:   1.00022e-06\n",
      "  Relative change: 0\n",
      "\n",
      "Kokkos execution space: N6Kokkos6SerialE\n"
     ]
    }
   ],
   "source": [
    "!   ./build/chemistry_ode 1e12"
   ]
  },
  {
   "cell_type": "code",
   "execution_count": null,
   "metadata": {},
   "outputs": [],
   "source": []
  }
 ],
 "metadata": {
  "kernelspec": {
   "display_name": "Python 3 (ipykernel)",
   "language": "python",
   "name": "python3"
  },
  "language_info": {
   "codemirror_mode": {
    "name": "ipython",
    "version": 3
   },
   "file_extension": ".py",
   "mimetype": "text/x-python",
   "name": "python",
   "nbconvert_exporter": "python",
   "pygments_lexer": "ipython3",
   "version": "3.11.9"
  }
 },
 "nbformat": 4,
 "nbformat_minor": 4
}
