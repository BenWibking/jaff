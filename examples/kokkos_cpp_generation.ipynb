{
 "cells": [
  {
   "cell_type": "markdown",
   "metadata": {},
   "source": [
    "# Generating C++ Kokkos Chemistry Solvers with JAFF\n",
    "\n",
    "This notebook demonstrates how to use JAFF to generate C++ code that uses the Kokkos-kernels BDF solver for solving chemical reaction networks. We'll use the `react_COthin` network as an example, which contains 37 species and 287 reactions for carbon-oxygen chemistry.\n",
    "\n",
    "## Overview\n",
    "\n",
    "The Kokkos output plugin generates:\n",
    "- **chemistry_ode.hpp**: Chemistry ODE system class with evaluate_function and evaluate_jacobian methods\n",
    "- **chemistry_ode.cpp**: Main executable that sets up and runs the BDF solver\n",
    "- **test_chemistry.cpp**: Test program with multiple validation scenarios\n",
    "- **CMakeLists.txt**: Build configuration for Kokkos and Kokkos-kernels dependencies\n",
    "\n",
    "The generated code is compatible with the Kokkos-kernels BDF solver for stiff ODEs and follows the same patterns as the odesolve_kokkos example."
   ]
  },
  {
   "cell_type": "markdown",
   "metadata": {},
   "source": [
    "## Step 1: Load the Chemical Network\n",
    "\n",
    "First, let's load the react_COthin network, which is a carbon-oxygen chemistry network in KROME format."
   ]
  },
  {
   "cell_type": "code",
   "execution_count": null,
   "metadata": {},
   "outputs": [],
   "source": [
    "from jaff.network import Network\n",
    "from jaff.builder import Builder\n",
    "import os\n",
    "\n",
    "# Load the react_COthin network\n",
    "network = Network('../networks/react_COthin')\n",
    "\n",
    "print(f\"Network loaded: {network.label}\")\n",
    "print(f\"Number of species: {network.get_number_of_species()}\")\n",
    "print(f\"Number of reactions: {len(network.reactions)}\")"
   ]
  },
  {
   "cell_type": "markdown",
   "metadata": {},
   "source": [
    "## Step 2: Examine Network Properties\n",
    "\n",
    "Let's examine some properties of the network to understand what we're working with."
   ]
  },
  {
   "cell_type": "code",
   "execution_count": null,
   "metadata": {},
   "outputs": [],
   "source": [
    "# Show the first few species\n",
    "print(\"First 10 species:\")\n",
    "for i, species in enumerate(network.species[:10]):\n",
    "    print(f\"  {i}: {species.name} (mass: {species.mass:.2f}, charge: {species.charge})\")\n",
    "\n",
    "if len(network.species) > 10:\n",
    "    print(f\"  ... and {len(network.species) - 10} more species\")\n",
    "\n",
    "print(f\"\\nTotal species: {len(network.species)}\")"
   ]
  },
  {
   "cell_type": "code",
   "execution_count": null,
   "metadata": {},
   "outputs": [],
   "source": [
    "# Show a few example reactions\n",
    "print(\"First 5 reactions:\")\n",
    "for i, reaction in enumerate(network.reactions[:5]):\n",
    "    reactants = \" + \".join([f\"{r.name}\" for r in reaction.reactants])\n",
    "    products = \" + \".join([f\"{p.name}\" for p in reaction.products])\n",
    "    print(f\"  {i+1}: {reactants} -> {products}\")\n",
    "    print(f\"      Rate: {reaction.rate}\")\n",
    "    print()"
   ]
  },
  {
   "cell_type": "markdown",
   "metadata": {},
   "source": [
    "## Step 3: Generate C++ Kokkos Code\n",
    "\n",
    "Now let's use the Builder to generate C++ code using the `kokkos_ode` template."
   ]
  },
  {
   "cell_type": "code",
   "execution_count": null,
   "metadata": {},
   "outputs": [],
   "source": [
    "# Create builder and generate Kokkos C++ code\n",
    "builder = Builder(network)\n",
    "builder.build(template=\"kokkos_ode\")\n",
    "\n",
    "print(\"\\nC++ Kokkos code generated successfully!\")\n",
    "print(\"Generated files are located in the builds directory.\")"
   ]
  },
  {
   "cell_type": "markdown",
   "metadata": {},
   "source": [
    "## Step 4: Examine Generated Files\n",
    "\n",
    "Let's look at the structure and content of the generated files."
   ]
  },
  {
   "cell_type": "code",
   "execution_count": null,
   "metadata": {},
   "outputs": [],
   "source": [
    "# List generated files\n",
    "builds_dir = \"../src/jaff/builds\"\n",
    "generated_files = [f for f in os.listdir(builds_dir) if f.endswith(('.cpp', '.hpp', '.txt'))]\n",
    "\n",
    "print(\"Generated files:\")\n",
    "for file in sorted(generated_files):\n",
    "    filepath = os.path.join(builds_dir, file)\n",
    "    size = os.path.getsize(filepath)\n",
    "    print(f\"  {file:20} ({size:,} bytes)\")"
   ]
  },
  {
   "cell_type": "code",
   "execution_count": null,
   "metadata": {},
   "outputs": [],
   "source": [
    "# Show the header file structure\n",
    "with open(\"../src/jaff/builds/chemistry_ode.hpp\", 'r') as f:\n",
    "    lines = f.readlines()\n",
    "\n",
    "print(\"chemistry_ode.hpp (first 30 lines):\")\n",
    "print(\"=\" * 50)\n",
    "for i, line in enumerate(lines[:30]):\n",
    "    print(f\"{i+1:2d}: {line.rstrip()}\")\n",
    "    \n",
    "if len(lines) > 30:\n",
    "    print(f\"... and {len(lines) - 30} more lines\")"
   ]
  },
  {
   "cell_type": "code",
   "execution_count": null,
   "metadata": {},
   "outputs": [],
   "source": [
    "# Show the CMakeLists.txt structure\n",
    "with open(\"../src/jaff/builds/CMakeLists.txt\", 'r') as f:\n",
    "    content = f.read()\n",
    "\n",
    "print(\"CMakeLists.txt:\")\n",
    "print(\"=\" * 50)\n",
    "print(content)"
   ]
  },
  {
   "cell_type": "markdown",
   "metadata": {},
   "source": [
    "## Step 5: Understanding the Generated Code Structure\n",
    "\n",
    "Let's examine key components of the generated chemistry solver."
   ]
  },
  {
   "cell_type": "code",
   "execution_count": null,
   "metadata": {},
   "outputs": [],
   "source": [
    "# Show the ChemistryODE class definition\n",
    "with open(\"../src/jaff/builds/chemistry_ode.hpp\", 'r') as f:\n",
    "    lines = f.readlines()\n",
    "\n",
    "# Find the class definition\n",
    "class_start = None\n",
    "for i, line in enumerate(lines):\n",
    "    if \"struct ChemistryODE\" in line:\n",
    "        class_start = i\n",
    "        break\n",
    "\n",
    "if class_start:\n",
    "    print(\"ChemistryODE class structure:\")\n",
    "    print(\"=\" * 50)\n",
    "    # Show class definition and methods\n",
    "    brace_count = 0\n",
    "    for i in range(class_start, min(class_start + 20, len(lines))):\n",
    "        line = lines[i].rstrip()\n",
    "        print(f\"{i+1:2d}: {line}\")\n",
    "        \n",
    "        if '{' in line:\n",
    "            brace_count += line.count('{')\n",
    "        if '}' in line:\n",
    "            brace_count -= line.count('}')\n",
    "            if brace_count == 0:\n",
    "                break"
   ]
  },
  {
   "cell_type": "code",
   "execution_count": null,
   "metadata": {},
   "outputs": [],
   "source": [
    "# Show main function structure from chemistry_ode.cpp\n",
    "with open(\"../src/jaff/builds/chemistry_ode.cpp\", 'r') as f:\n",
    "    lines = f.readlines()\n",
    "\n",
    "# Find main function\n",
    "main_start = None\n",
    "for i, line in enumerate(lines):\n",
    "    if \"int main(\" in line:\n",
    "        main_start = i\n",
    "        break\n",
    "\n",
    "if main_start:\n",
    "    print(\"Main function structure (first 25 lines):\")\n",
    "    print(\"=\" * 50)\n",
    "    for i in range(main_start, min(main_start + 25, len(lines))):\n",
    "        line = lines[i].rstrip()\n",
    "        print(f\"{i+1:2d}: {line}\")"
   ]
  },
  {
   "cell_type": "markdown",
   "metadata": {},
   "source": [
    "## Step 6: Building and Running Instructions\n",
    "\n",
    "Here's how to build and run the generated C++ code:"
   ]
  },
  {
   "cell_type": "code",
   "execution_count": null,
   "metadata": {},
   "outputs": [],
   "source": [
    "print(\"\"\"To build and run the generated C++ chemistry solver:\n",
    "\n",
    "1. Copy the generated files to your desired directory:\n",
    "   cp ../src/jaff/builds/* /path/to/your/chemistry_project/\n",
    "\n",
    "2. Configure the build with CMake:\n",
    "   cd /path/to/your/chemistry_project/\n",
    "   cmake -S . -B build\n",
    "\n",
    "3. Build with parallel compilation:\n",
    "   cmake --build build -j\n",
    "\n",
    "4. Run the chemistry solver:\n",
    "   ./build/chemistry_ode\n",
    "   \n",
    "   # Or with custom time interval (100 years in seconds):\n",
    "   ./build/chemistry_ode 3.15576e9\n",
    "\n",
    "5. Run the test suite:\n",
    "   ./build/test_chemistry\n",
    "   \n",
    "   # Or via CTest:\n",
    "   cd build && ctest\n",
    "\n",
    "The solver uses the Kokkos-kernels BDF solver which is well-suited for\n",
    "stiff chemical reaction networks. It automatically adapts time steps\n",
    "and uses numerical differentiation for the Jacobian.\"\"\")"
   ]
  },
  {
   "cell_type": "markdown",
   "metadata": {},
   "source": [
    "## Step 7: Solver Configuration Options\n",
    "\n",
    "The generated solver includes several configuration options:"
   ]
  },
  {
   "cell_type": "code",
   "execution_count": null,
   "metadata": {},
   "outputs": [],
   "source": [
    "print(\"\"\"Solver Configuration:\n",
    "\n",
    "Time Integration:\n",
    "- Default end time: 100 years (3.15576e9 seconds)\n",
    "- Initial time step: 1.0e-10 seconds (adaptive)\n",
    "- Maximum time step: (t_end - t_start) / 100\n",
    "\n",
    "Initial Conditions:\n",
    "- Default: All species start at 1.0e-10 except first species (1.0e-6)\n",
    "- Can be loaded from file: ./chemistry_ode end_time initial_conditions.txt\n",
    "- Can save results to file: ./chemistry_ode end_time input.txt output.txt\n",
    "\n",
    "BDF Solver Features:\n",
    "- Backward Differentiation Formula for stiff ODEs\n",
    "- Adaptive time stepping\n",
    "- Numerical Jacobian (set analytical Jacobian to zero)\n",
    "- Kokkos parallel execution on default execution space\n",
    "\n",
    "Output:\n",
    "- Prints number of species and reactions\n",
    "- Shows initial and final concentrations (first 10 species)\n",
    "- Performs conservation check (sum of all species)\n",
    "- Reports Kokkos execution space used\"\"\")"
   ]
  },
  {
   "cell_type": "markdown",
   "metadata": {},
   "source": [
    "## Step 8: Test Program Features\n",
    "\n",
    "The generated test program includes comprehensive validation:"
   ]
  },
  {
   "cell_type": "code",
   "execution_count": null,
   "metadata": {},
   "outputs": [],
   "source": [
    "# Show test program structure\n",
    "with open(\"../src/jaff/builds/test_chemistry.cpp\", 'r') as f:\n",
    "    content = f.read()\n",
    "\n",
    "# Count test cases\n",
    "test_count = content.count('Test ')\n",
    "print(f\"Test program includes {test_count} test cases:\")\n",
    "print()\n",
    "\n",
    "# Extract test descriptions\n",
    "lines = content.split('\\n')\n",
    "for i, line in enumerate(lines):\n",
    "    if 'Test ' in line and ':' in line:\n",
    "        test_name = line.strip().replace('std::cout << \"', '').replace('\";', '')\n",
    "        print(f\"• {test_name}\")\n",
    "        \n",
    "        # Look for the next few lines to get test description\n",
    "        for j in range(i+1, min(i+5, len(lines))):\n",
    "            if 'const scalar_type t_end' in lines[j]:\n",
    "                time_info = lines[j].strip()\n",
    "                if 'day' in time_info:\n",
    "                    print(f\"  - Duration: 1 day\")\n",
    "                elif 'month' in time_info:\n",
    "                    print(f\"  - Duration: ~1 month\") \n",
    "                elif 'year' in time_info:\n",
    "                    print(f\"  - Duration: 1 year\")\n",
    "                break\n",
    "        print()\n",
    "\n",
    "print(\"\"\"Each test validates different aspects:\n",
    "- Finite solutions (no NaN/Inf values)\n",
    "- Mass conservation (within tolerance)\n",
    "- Positivity (no negative concentrations)\n",
    "- Reasonableness (concentrations < 1.0)\"\"\")"
   ]
  },
  {
   "cell_type": "markdown",
   "metadata": {},
   "source": [
    "## Summary\n",
    "\n",
    "This notebook demonstrated how to:\n",
    "\n",
    "1. **Load a chemical network** using JAFF's Network class\n",
    "2. **Generate C++ Kokkos code** using the Builder with the `kokkos_ode` template\n",
    "3. **Examine the generated files** and understand their structure\n",
    "4. **Configure and run** the chemistry solver with different options\n",
    "5. **Validate results** using the comprehensive test suite\n",
    "\n",
    "The generated C++ code provides a high-performance chemistry solver that:\n",
    "- Uses Kokkos for portable parallelism\n",
    "- Employs Kokkos-kernels BDF solver for stiff ODEs\n",
    "- Handles complex chemical reaction networks efficiently\n",
    "- Includes comprehensive testing and validation\n",
    "- Supports customizable initial conditions and output\n",
    "\n",
    "This workflow enables researchers to quickly generate optimized chemistry solvers from reaction network definitions, suitable for integration into larger astrophysical simulation codes."
   ]
  }
 ],
 "metadata": {
  "kernelspec": {
   "display_name": "Python 3",
   "language": "python",
   "name": "python3"
  },
  "language_info": {
   "codemirror_mode": {
    "name": "ipython",
    "version": 3
   },
   "file_extension": ".py",
   "mimetype": "text/x-python",
   "name": "python",
   "nbconvert_exporter": "python",
   "pygments_lexer": "ipython3",
   "version": "3.8.5"
  }
 },
 "nbformat": 4,
 "nbformat_minor": 4
}