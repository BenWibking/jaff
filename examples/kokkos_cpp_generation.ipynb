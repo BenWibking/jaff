{
 "cells": [
  {
   "cell_type": "markdown",
   "metadata": {},
   "source": [
    "# Generating C++ Kokkos Chemistry Solvers with JAFF\n",
    "\n",
    "This notebook demonstrates how to use JAFF to generate C++ code that uses the Kokkos-kernels BDF solver for solving chemical reaction networks. We'll use the `test2.dat` network as an example, which contains only 3 species and 2 reactions.\n",
    "\n",
    "## Overview\n",
    "\n",
    "The Kokkos output plugin generates:\n",
    "- **chemistry_ode.hpp**: Chemistry ODE system class with evaluate_function and evaluate_jacobian methods\n",
    "- **chemistry_ode.cpp**: Main executable that sets up and runs the BDF solver\n",
    "- **CMakeLists.txt**: Build configuration for Kokkos and Kokkos-kernels dependencies\n",
    "\n",
    "The generated code is compatible with the Kokkos-kernels BDF solver for stiff ODEs."
   ]
  },
  {
   "cell_type": "markdown",
   "metadata": {},
   "source": [
    "## Step 1: Load the Chemical Network\n",
    "\n",
    "First, let's load the react_COthin network, which is a carbon-oxygen chemistry network in KROME format."
   ]
  },
  {
   "cell_type": "code",
   "execution_count": 1,
   "metadata": {
    "scrolled": true
   },
   "outputs": [
    {
     "name": "stdout",
     "output_type": "stream",
     "text": [
      "Welcome to JAFF: Just Another Fancy Format!\n",
      "Loading network from ../networks/test2.dat\n",
      "Network label = test2\n"
     ]
    },
    {
     "name": "stderr",
     "output_type": "stream",
     "text": [
      "100%|███████████████████████████████████████████████████████████████████████████████████████████████████████████████████████████████| 2/2 [00:00<00:00, 540.85it/s]"
     ]
    },
    {
     "name": "stdout",
     "output_type": "stream",
     "text": [
      "2.0e-12*tgas**0.33\n",
      "1.0e-12*exp(-1.222*av)\n",
      "Variables found: ['av', 'tgas']\n",
      "Loaded 2 reactions\n",
      "Lodaded 0 photo-chemistry reactions\n",
      "All done!\n",
      "Network loaded: test2\n",
      "Number of species: 3\n",
      "Number of reactions: 2\n"
     ]
    },
    {
     "name": "stderr",
     "output_type": "stream",
     "text": [
      "\n"
     ]
    }
   ],
   "source": [
    "from jaff.network import Network\n",
    "from jaff.builder import Builder\n",
    "import os\n",
    "\n",
    "# Load the react_COthin network\n",
    "network = Network(\"../networks/test2.dat\")\n",
    "\n",
    "print(f\"Network loaded: {network.label}\")\n",
    "print(f\"Number of species: {network.get_number_of_species()}\")\n",
    "print(f\"Number of reactions: {len(network.reactions)}\")"
   ]
  },
  {
   "cell_type": "markdown",
   "metadata": {},
   "source": [
    "## Step 2: Examine Network Properties\n",
    "\n",
    "Let's examine some properties of the network to understand what we're working with."
   ]
  },
  {
   "cell_type": "code",
   "execution_count": 2,
   "metadata": {},
   "outputs": [
    {
     "name": "stdout",
     "output_type": "stream",
     "text": [
      "  0: e- (mass: 0.00, charge: -1)\n",
      "  1: CO+ (mass: 0.00, charge: 1)\n",
      "  2: CO (mass: 0.00, charge: 0)\n",
      "\n",
      "Total species: 3\n"
     ]
    }
   ],
   "source": [
    "for i, species in enumerate(network.species):\n",
    "    print(f\"  {i}: {species.name} (mass: {species.mass:.2f}, charge: {species.charge})\")\n",
    "\n",
    "print(f\"\\nTotal species: {len(network.species)}\")"
   ]
  },
  {
   "cell_type": "code",
   "execution_count": 3,
   "metadata": {},
   "outputs": [
    {
     "name": "stdout",
     "output_type": "stream",
     "text": [
      "  1: e- + CO+ -> CO\n",
      "      Rate: 2.0e-12*tgas**0.33\n",
      "\n",
      "  2: CO -> CO+ + e-\n",
      "      Rate: 1.0e-12*exp(-1.222*av)\n",
      "\n"
     ]
    }
   ],
   "source": [
    "# Show a few example reactions\n",
    "for i, reaction in enumerate(network.reactions):\n",
    "    reactants = \" + \".join([f\"{r.name}\" for r in reaction.reactants])\n",
    "    products = \" + \".join([f\"{p.name}\" for p in reaction.products])\n",
    "    print(f\"  {i+1}: {reactants} -> {products}\")\n",
    "    print(f\"      Rate: {reaction.rate}\")\n",
    "    print()"
   ]
  },
  {
   "cell_type": "markdown",
   "metadata": {},
   "source": [
    "## Step 3: Generate C++ Kokkos Code\n",
    "\n",
    "Now let's use the Builder to generate C++ code using the `kokkos_ode` template."
   ]
  },
  {
   "cell_type": "code",
   "execution_count": 4,
   "metadata": {},
   "outputs": [
    {
     "name": "stdout",
     "output_type": "stream",
     "text": [
      "Building network with template: kokkos_ode\n",
      "Preprocessing /Users/benwibking/amrex_codes/chemistry/jaff/src/jaff/templates/kokkos_ode/chemistry_ode.hpp -> /Users/benwibking/amrex_codes/chemistry/jaff/src/jaff/builds/chemistry_ode.hpp\n",
      "Preprocessing /Users/benwibking/amrex_codes/chemistry/jaff/src/jaff/templates/kokkos_ode/chemistry_ode.cpp -> /Users/benwibking/amrex_codes/chemistry/jaff/src/jaff/builds/chemistry_ode.cpp\n",
      "Preprocessing /Users/benwibking/amrex_codes/chemistry/jaff/src/jaff/templates/kokkos_ode/CMakeLists.txt -> /Users/benwibking/amrex_codes/chemistry/jaff/src/jaff/builds/CMakeLists.txt\n",
      "Network built successfully using template 'kokkos_ode'.\n",
      "Output files are located in: /Users/benwibking/amrex_codes/chemistry/jaff/src/jaff/builds\n",
      "\n",
      "C++ Kokkos code generated successfully!\n",
      "Generated files are located at /Users/benwibking/amrex_codes/chemistry/jaff/src/jaff/builds\n"
     ]
    }
   ],
   "source": [
    "# Create builder and generate Kokkos C++ code\n",
    "builder = Builder(network)\n",
    "builds_dir = builder.build(template=\"kokkos_ode\")\n",
    "\n",
    "print(\"\\nC++ Kokkos code generated successfully!\")\n",
    "print(f\"Generated files are located at {builds_dir}\")"
   ]
  },
  {
   "cell_type": "markdown",
   "metadata": {},
   "source": [
    "## Step 4: Examine Generated Files\n",
    "\n",
    "Let's look at the structure and content of the generated files."
   ]
  },
  {
   "cell_type": "code",
   "execution_count": 5,
   "metadata": {},
   "outputs": [
    {
     "name": "stdout",
     "output_type": "stream",
     "text": [
      "Generated files:\n",
      "  CMakeLists.txt       (1,309 bytes)\n",
      "  chemistry_ode.cpp    (5,998 bytes)\n",
      "  chemistry_ode.hpp    (5,896 bytes)\n"
     ]
    }
   ],
   "source": [
    "# List generated files\n",
    "generated_files = [f for f in os.listdir(builds_dir) if f.endswith(('.cpp', '.hpp', '.txt'))]\n",
    "\n",
    "print(\"Generated files:\")\n",
    "for file in sorted(generated_files):\n",
    "    filepath = os.path.join(builds_dir, file)\n",
    "    size = os.path.getsize(filepath)\n",
    "    print(f\"  {file:20} ({size:,} bytes)\")"
   ]
  },
  {
   "cell_type": "markdown",
   "metadata": {},
   "source": [
    "## Step 5: Understanding the Generated Code Structure\n",
    "\n",
    "Let's examine key components of the generated chemistry solver."
   ]
  },
  {
   "cell_type": "code",
   "execution_count": 6,
   "metadata": {
    "scrolled": true
   },
   "outputs": [
    {
     "name": "stdout",
     "output_type": "stream",
     "text": [
      "ChemistryODE class structure:\n",
      "==================================================\n",
      "13: struct ChemistryODE {\n",
      "14:     // Number of species in the chemical network\n",
      "15:     // PREPROCESS_NUM_SPECIES\n",
      "16: \n",
      "17:     static constexpr int neqs = 3;\n",
      "18: \n",
      "19:     // PREPROCESS_END\n",
      "20: \n",
      "21:     // Species indices\n",
      "22:     // PREPROCESS_COMMONS\n",
      "23: \n",
      "24:     static constexpr int idx_e = 0;\n",
      "25:     static constexpr int idx_COj = 1;\n",
      "26:     static constexpr int idx_CO = 2;\n",
      "27:     static constexpr int nspecs = 3;\n",
      "28:     static constexpr int nreactions = 2;\n",
      "29: \n",
      "30:     // PREPROCESS_END\n",
      "31: \n",
      "32:     ChemistryODE() {}\n",
      "33: \n",
      "34:     // Evaluate the ODE right-hand side: dy/dt = f(t, y)\n",
      "35:     template <class vec_type1, class vec_type2>\n",
      "36:     KOKKOS_FUNCTION void evaluate_function(const double /*t*/, const double /*dt*/,\n",
      "37:                                           const vec_type1& y, const vec_type2& f) const {\n",
      "38:         // Temperature (could be passed as parameter or computed from energy)\n",
      "39:         const double T = 300.0; // Default temperature in K, should be parameterized\n",
      "40: \n",
      "41:         // PREPROCESS_TEMP_VARS\n",
      "42: \n",
      "43:         // Temperature variables used in chemical reactions\n",
      "44:                 const double Tgas = T;  // Gas temperature (matches KROME convention)\n",
      "45:                 const double Te = T * 8.617343e-5;  // Temperature in eV (matches KROME convention)\n",
      "46:                 const double invTe = 1.0 / Te;  // Inverse temperature in eV (matches KROME convention)\n",
      "47:                 const double invT = 1.0 / T;  // Inverse temperature in K (matches KROME convention)\n",
      "48:                 const double T32 = T / 32.0;  // Temperature divided by 32 (matches KROME convention)\n",
      "49:                 const double invT32 = 32.0 / T;  // 32 divided by temperature (matches KROME convention)\n",
      "50:                 const double sqrTgas = Kokkos::sqrt(T);  // Square root of temperature (matches KROME convention)\n",
      "51:                 const double lnTe = Kokkos::log(Te);  // Log of temperature in eV (matches KROME convention)\n",
      "52: \n",
      "53:                 // Essential lowercase aliases that are actually used in expressions\n",
      "54:                 const double tgas = Tgas;  // Lowercase alias for temperature\n",
      "55: \n",
      "56:                 // Function parameter for accessing species densities\n",
      "57:                 const auto& n = y;  // Access to species array\n",
      "58: \n",
      "59:                 // Additional chemistry variables (these would typically come from the simulation)\n",
      "60:                 const double av = 1.0;  // Visual extinction\n",
      "61:                 const double crate = 1.3e-17;  // Cosmic ray ionization rate\n",
      "62:                 const double user_av = av;  // User-defined extinction (lowercase)\n",
      "63:                 const double user_Av = av;  // User-defined extinction (KROME case)\n",
      "64:                 const double user_tdust = T;  // Dust temperature (lowercase)\n",
      "65:                 const double user_Tdust = T;  // Dust temperature (KROME case)\n",
      "66: \n",
      "67:                 // Additional variables that may be referenced in KROME expressions\n",
      "68:                 const double user_H2self = 1.0;  // H2 self-shielding factor (placeholder)\n",
      "69:                 const double HnOj = 1.0;  // H_n O+ rate factor (placeholder)\n",
      "70:                 const double Hnuclei = 1.0;  // Total hydrogen nuclei density (placeholder)\n",
      "71:                 const double fA = 1.0;  // Dust formation efficiency factor (placeholder)\n",
      "72:                 const double ntot = 1.0;  // Total number density (placeholder)\n",
      "73:                 const double invTgas = 1.0/T;  // Inverse gas temperature alias\n",
      "74:                 const double logT = 10.0;  // log10(Tgas) placeholder\n",
      "75:                 const double invsqrT = 1.0/Kokkos::sqrt(T);  // 1/sqrt(Tgas) alias\n",
      "76: \n",
      "77:                 // Function parameter for accessing species densities\n",
      "78:                 // const auto& n = y;  // Access to species array\n",
      "79: \n",
      "80:                 // Placeholder functions for KROME expressions\n",
      "81:                 // These should be properly implemented in a real chemistry solver\n",
      "82:                 auto get_hnuclei = [](const auto& /*y*/) -> double {\n",
      "83:                     return 1.0;  // Total hydrogen nuclei density placeholder\n",
      "84:                 };\n",
      "85: \n",
      "86:         // PREPROCESS_END\n",
      "87: \n",
      "88:         // Compute reaction rates and fluxes\n",
      "89:         // PREPROCESS_NUM_REACTIONS\n",
      "90: \n",
      "91:         double k[2];\n",
      "92:                 double flux[2];\n",
      "93: \n",
      "94:         // PREPROCESS_END\n",
      "95: \n",
      "96:         // PREPROCESS_RATES\n",
      "97: \n",
      "98:         k[0] = 2.0e-12*Kokkos::pow(tgas, 0.33000000000000002);\n",
      "99:         k[1] = 9.9999999999999998e-13*Kokkos::exp(-1.222*av);\n",
      "100: \n",
      "101:         // PREPROCESS_END\n",
      "102: \n",
      "103:         // PREPROCESS_FLUXES\n",
      "104: \n",
      "105:         flux[0] = k[0] * y[idx_e] * y[idx_COj];\n",
      "106:         flux[1] = k[1] * y[idx_CO];\n",
      "107: \n",
      "108:         // PREPROCESS_END\n",
      "109: \n",
      "110:         // Compute derivatives for each species\n",
      "111:         // PREPROCESS_ODE\n",
      "112: \n",
      "113:         f[idx_e] = - flux[0]+ flux[1];\n",
      "114:         f[idx_COj] = - flux[0]+ flux[1];\n",
      "115:         f[idx_CO] = + flux[0]- flux[1];\n",
      "116: \n",
      "117:         // PREPROCESS_END\n",
      "118:     }\n",
      "119: \n",
      "120:     // Evaluate the Jacobian matrix: J_ij = df_i/dy_j\n",
      "121:     template <class vec_type, class mat_type>\n",
      "122:     KOKKOS_FUNCTION void evaluate_jacobian(const double /*t*/, const double /*dt*/,\n",
      "123:                                           const vec_type& y, const mat_type& jac) const {\n",
      "124:         // Simplified approach: set Jacobian to zero (forces BDF solver to use numerical differentiation)\n",
      "125:         // This is a valid approach when analytical Jacobian is difficult to compute\n",
      "126:         // The BDF solver will compute its own numerical Jacobian internally\n",
      "127:         for (int i = 0; i < neqs; ++i) {\n",
      "128:             for (int j = 0; j < neqs; ++j) {\n",
      "129:                 jac(i, j) = 0.0;\n",
      "130:             }\n",
      "131:         }\n",
      "132: \n",
      "133:         // Suppress unused parameter warnings\n",
      "134:         (void)y;\n",
      "135:     }\n",
      "136: };\n"
     ]
    }
   ],
   "source": [
    "# Show the ChemistryODE class definition\n",
    "with open(builds_dir + \"/chemistry_ode.hpp\", 'r') as f:\n",
    "    lines = f.readlines()\n",
    "\n",
    "# Find the class definition\n",
    "class_start = None\n",
    "for i, line in enumerate(lines):\n",
    "    if \"struct ChemistryODE\" in line:\n",
    "        class_start = i\n",
    "        break\n",
    "\n",
    "if class_start:\n",
    "    print(\"ChemistryODE class structure:\")\n",
    "    print(\"=\" * 50)\n",
    "    # Show class definition and methods\n",
    "    brace_count = 0\n",
    "    for i in range(class_start, len(lines)):\n",
    "        line = lines[i].rstrip()\n",
    "        print(f\"{i+1:2d}: {line}\")\n",
    "        \n",
    "        if '{' in line:\n",
    "            brace_count += line.count('{')\n",
    "        if '}' in line:\n",
    "            brace_count -= line.count('}')\n",
    "            if brace_count == 0:\n",
    "                break"
   ]
  },
  {
   "cell_type": "code",
   "execution_count": 7,
   "metadata": {},
   "outputs": [
    {
     "name": "stdout",
     "output_type": "stream",
     "text": [
      "Main function structure:\n",
      "==================================================\n",
      "41: int main(int argc, char* argv[]) {\n",
      "42:     Kokkos::initialize(argc, argv);\n",
      "43: \n",
      "44:     {\n",
      "45:         using execution_space = Kokkos::DefaultExecutionSpace;\n",
      "46:         using scalar_type = double;\n",
      "47:         using vec_type = Kokkos::View<scalar_type*, execution_space>;\n",
      "48:         using mat_type = Kokkos::View<scalar_type**, execution_space>;\n",
      "49: \n",
      "50:         ChemistryODE mySys{};\n",
      "51: \n",
      "52:         // Time integration parameters\n",
      "53:         const scalar_type t_start = 0.0;\n",
      "54:         scalar_type t_end = 3.15576e9; // 100 years in seconds default\n",
      "55: \n",
      "56:         // Parse command line arguments\n",
      "57:         if (argc > 1) {\n",
      "58:             t_end = std::stod(argv[1]);\n",
      "59:         }\n",
      "60: \n",
      "61:         std::cout << \"Solving Chemistry ODE System\\n\";\n",
      "62:         std::cout << \"Number of species: \" << mySys.neqs << \"\\n\";\n",
      "63:         std::cout << \"Number of reactions: \" <<\n",
      "64: // PREPROCESS_NUM_REACTIONS\n",
      "65: \n",
      "66: 2\n",
      "67: \n",
      "68: // PREPROCESS_END\n",
      "69:          << \"\\n\";\n",
      "70:         std::cout << \"Time interval: [\" << t_start << \", \" << t_end << \"] seconds\\n\";\n",
      "71: \n",
      "72:         // Allocate arrays\n",
      "73:         vec_type y0(\"initial conditions\", mySys.neqs);\n",
      "74:         vec_type y_new(\"solution\", mySys.neqs);\n",
      "75: \n",
      "76:         // Set initial conditions (can be customized)\n",
      "77:         auto y0_h = Kokkos::create_mirror_view(y0);\n",
      "78: \n",
      "79:         // Default: all species start at 1e-10 except first species\n",
      "80:         for (int i = 0; i < mySys.neqs; ++i) {\n",
      "81:             y0_h(i) = 1.0e-10;\n",
      "82:         }\n",
      "83:         // Set first species to higher concentration\n",
      "84:         if (mySys.neqs > 0) {\n",
      "85:             y0_h(0) = 1.0e-6;\n",
      "86:         }\n",
      "87: \n",
      "88:         // Read initial conditions from file if provided\n",
      "89:         if (argc > 2) {\n",
      "90:             std::ifstream ic_file(argv[2]);\n",
      "91:             if (ic_file.is_open()) {\n",
      "92:                 for (int i = 0; i < mySys.neqs && ic_file >> y0_h(i); ++i) {}\n",
      "93:                 ic_file.close();\n",
      "94:                 std::cout << \"Initial conditions loaded from \" << argv[2] << \"\\n\";\n",
      "95:             }\n",
      "96:         }\n",
      "97: \n",
      "98:         Kokkos::deep_copy(y0, y0_h);\n",
      "99: \n",
      "100:         // Print initial conditions\n",
      "101:         std::cout << \"Initial conditions:\\n\";\n",
      "102:         for (int i = 0; i < mySys.neqs && i < 10; ++i) {\n",
      "103:             std::cout << \"  y[\" << i << \"] = \" << y0_h(i) << \"\\n\";\n",
      "104:         }\n",
      "105:         if (mySys.neqs > 10) {\n",
      "106:             std::cout << \"  ... (showing first 10 species)\\n\";\n",
      "107:         }\n",
      "108: \n",
      "109:         // Allocate temporary storage for BDF solver\n",
      "110:         mat_type temp(\"buffer1\", mySys.neqs, 23 + 2 * mySys.neqs + 4);\n",
      "111:         mat_type temp2(\"buffer2\", 6, 7);\n",
      "112: \n",
      "113:         // Initial time step (will be adapted by solver)\n",
      "114:         scalar_type dt = 1.0e-10;\n",
      "115:         scalar_type max_step = (t_end - t_start) / 100.0;\n",
      "116: \n",
      "117:         // Create solver wrapper\n",
      "118:         BDF_Solve_wrapper<ChemistryODE, vec_type, mat_type, scalar_type> bdf_wrapper(\n",
      "119:             mySys, t_start, t_end, dt, max_step, y0, y_new, temp, temp2);\n",
      "120: \n",
      "121:         // Run solver\n",
      "122:         Kokkos::RangePolicy<execution_space> policy(0, 1);\n",
      "123:         Kokkos::parallel_for(policy, bdf_wrapper);\n",
      "124:         Kokkos::fence();\n",
      "125: \n",
      "126:         // Copy solution back to host\n",
      "127:         auto y_new_h = Kokkos::create_mirror_view(y_new);\n",
      "128:         Kokkos::deep_copy(y_new_h, y_new);\n",
      "129: \n",
      "130:         // Print final solution\n",
      "131:         std::cout << \"\\nFinal solution at t = \" << t_end << \" seconds:\\n\";\n",
      "132:         for (int i = 0; i < mySys.neqs && i < 10; ++i) {\n",
      "133:             std::cout << \"  y[\" << i << \"] = \" << y_new_h(i) << \"\\n\";\n",
      "134:         }\n",
      "135:         if (mySys.neqs > 10) {\n",
      "136:             std::cout << \"  ... (showing first 10 species)\\n\";\n",
      "137:         }\n",
      "138: \n",
      "139:         // Write solution to file if output path provided\n",
      "140:         if (argc > 3) {\n",
      "141:             std::ofstream out_file(argv[3]);\n",
      "142:             if (out_file.is_open()) {\n",
      "143:                 for (int i = 0; i < mySys.neqs; ++i) {\n",
      "144:                     out_file << y_new_h(i) << \"\\n\";\n",
      "145:                 }\n",
      "146:                 out_file.close();\n",
      "147:                 std::cout << \"\\nSolution written to \" << argv[3] << \"\\n\";\n",
      "148:             }\n",
      "149:         }\n",
      "150: \n",
      "151:         // Check conservation (sum of all species)\n",
      "152:         double sum_initial = 0.0, sum_final = 0.0;\n",
      "153:         for (int i = 0; i < mySys.neqs; ++i) {\n",
      "154:             sum_initial += y0_h(i);\n",
      "155:             sum_final += y_new_h(i);\n",
      "156:         }\n",
      "157:         std::cout << \"\\nConservation check:\\n\";\n",
      "158:         std::cout << \"  Initial sum: \" << sum_initial << \"\\n\";\n",
      "159:         std::cout << \"  Final sum:   \" << sum_final << \"\\n\";\n",
      "160:         std::cout << \"  Relative change: \" << (sum_final - sum_initial) / sum_initial << \"\\n\";\n",
      "161: \n",
      "162:         std::cout << \"\\nKokkos execution space: \"\n",
      "163:                   << typeid(Kokkos::DefaultExecutionSpace).name() << std::endl;\n",
      "164:     }\n",
      "165: \n",
      "166:     Kokkos::finalize();\n",
      "167: \n",
      "168:     return 0;\n",
      "169: }\n"
     ]
    }
   ],
   "source": [
    "# Show main function structure from chemistry_ode.cpp\n",
    "with open(builds_dir + \"/chemistry_ode.cpp\", 'r') as f:\n",
    "    lines = f.readlines()\n",
    "\n",
    "# Find main function\n",
    "main_start = None\n",
    "for i, line in enumerate(lines):\n",
    "    if \"int main(\" in line:\n",
    "        main_start = i\n",
    "        break\n",
    "\n",
    "if main_start:\n",
    "    print(\"Main function structure:\")\n",
    "    print(\"=\" * 50)\n",
    "    for i in range(main_start, len(lines)):\n",
    "        line = lines[i].rstrip()\n",
    "        print(f\"{i+1:2d}: {line}\")"
   ]
  },
  {
   "cell_type": "markdown",
   "metadata": {},
   "source": [
    "## Step 6: Building and Running Instructions\n",
    "\n",
    "Here's how to build and run the generated C++ code:"
   ]
  },
  {
   "cell_type": "code",
   "execution_count": 8,
   "metadata": {},
   "outputs": [
    {
     "name": "stdout",
     "output_type": "stream",
     "text": [
      "To build and run the generated C++ chemistry solver:\n",
      "\n",
      "1. Configure the build with CMake:\n",
      "   ```\n",
      "   cd /Users/benwibking/amrex_codes/chemistry/jaff/src/jaff/builds\n",
      "   cmake -S . -B build\n",
      "   ```\n",
      "2. Build with parallel compilation:\n",
      "   ```\n",
      "   cmake --build build -j\n",
      "   ```\n",
      "3. Run the chemistry solver:\n",
      "   ```\n",
      "   ./build/chemistry_ode\n",
      "   ```\n",
      "   Or, run with custom time interval (100 years in seconds):\n",
      "   ```\n",
      "   ./build/chemistry_ode 3.15576e9\n",
      "   ```\n",
      "\n",
      "The solver uses the Kokkos-kernels BDF solver which is well-suited for\n",
      "stiff chemical reaction networks. It automatically adapts time steps\n",
      "and uses numerical differentiation for the Jacobian.\n"
     ]
    }
   ],
   "source": [
    "print(f\"\"\"To build and run the generated C++ chemistry solver:\n",
    "\n",
    "1. Configure the build with CMake:\n",
    "   ```\n",
    "   cd {builds_dir}\n",
    "   cmake -S . -B build\n",
    "   ```\n",
    "2. Build with parallel compilation:\n",
    "   ```\n",
    "   cmake --build build -j\n",
    "   ```\n",
    "3. Run the chemistry solver:\n",
    "   ```\n",
    "   ./build/chemistry_ode\n",
    "   ```\n",
    "   Or, run with custom time interval (100 years in seconds):\n",
    "   ```\n",
    "   ./build/chemistry_ode 3.15576e9\n",
    "   ```\n",
    "\n",
    "The solver uses the Kokkos-kernels BDF solver which is well-suited for\n",
    "stiff chemical reaction networks. It automatically adapts time steps\n",
    "and uses numerical differentiation for the Jacobian.\"\"\")"
   ]
  },
  {
   "cell_type": "code",
   "execution_count": null,
   "metadata": {},
   "outputs": [],
   "source": []
  }
 ],
 "metadata": {
  "kernelspec": {
   "display_name": "Python 3 (ipykernel)",
   "language": "python",
   "name": "python3"
  },
  "language_info": {
   "codemirror_mode": {
    "name": "ipython",
    "version": 3
   },
   "file_extension": ".py",
   "mimetype": "text/x-python",
   "name": "python",
   "nbconvert_exporter": "python",
   "pygments_lexer": "ipython3",
   "version": "3.11.9"
  }
 },
 "nbformat": 4,
 "nbformat_minor": 4
}
